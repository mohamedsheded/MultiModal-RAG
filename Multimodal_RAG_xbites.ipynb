{
  "nbformat": 4,
  "nbformat_minor": 0,
  "metadata": {
    "colab": {
      "provenance": [],
      "toc_visible": true
    },
    "kernelspec": {
      "name": "python3",
      "display_name": "Python 3"
    },
    "language_info": {
      "name": "python"
    },
    "widgets": {
      "application/vnd.jupyter.widget-state+json": {
        "65cbf4c8119445cfb36c12c2feb1c3d3": {
          "model_module": "@jupyter-widgets/controls",
          "model_name": "HBoxModel",
          "model_module_version": "1.5.0",
          "state": {
            "_dom_classes": [],
            "_model_module": "@jupyter-widgets/controls",
            "_model_module_version": "1.5.0",
            "_model_name": "HBoxModel",
            "_view_count": null,
            "_view_module": "@jupyter-widgets/controls",
            "_view_module_version": "1.5.0",
            "_view_name": "HBoxView",
            "box_style": "",
            "children": [
              "IPY_MODEL_5f2ce281012742eb9982bb684d535903",
              "IPY_MODEL_3158790cfddd4aaa96a7a4557614a5b4",
              "IPY_MODEL_b3df1c963c564aedad2bade92e22c96a"
            ],
            "layout": "IPY_MODEL_697e887a1dc6452f96534ca480aeec71"
          }
        },
        "5f2ce281012742eb9982bb684d535903": {
          "model_module": "@jupyter-widgets/controls",
          "model_name": "HTMLModel",
          "model_module_version": "1.5.0",
          "state": {
            "_dom_classes": [],
            "_model_module": "@jupyter-widgets/controls",
            "_model_module_version": "1.5.0",
            "_model_name": "HTMLModel",
            "_view_count": null,
            "_view_module": "@jupyter-widgets/controls",
            "_view_module_version": "1.5.0",
            "_view_name": "HTMLView",
            "description": "",
            "description_tooltip": null,
            "layout": "IPY_MODEL_658885b011f9436a9d8645be2b5ada1b",
            "placeholder": "​",
            "style": "IPY_MODEL_5ac53080dabe4fb7a877e40177571bbf",
            "value": "yolox_l0.05.onnx: 100%"
          }
        },
        "3158790cfddd4aaa96a7a4557614a5b4": {
          "model_module": "@jupyter-widgets/controls",
          "model_name": "FloatProgressModel",
          "model_module_version": "1.5.0",
          "state": {
            "_dom_classes": [],
            "_model_module": "@jupyter-widgets/controls",
            "_model_module_version": "1.5.0",
            "_model_name": "FloatProgressModel",
            "_view_count": null,
            "_view_module": "@jupyter-widgets/controls",
            "_view_module_version": "1.5.0",
            "_view_name": "ProgressView",
            "bar_style": "success",
            "description": "",
            "description_tooltip": null,
            "layout": "IPY_MODEL_fcc0222378e04d8aa3b0e5fe448b2a4d",
            "max": 216625723,
            "min": 0,
            "orientation": "horizontal",
            "style": "IPY_MODEL_20292bc092f44c5f8b1a8ab86183f974",
            "value": 216625723
          }
        },
        "b3df1c963c564aedad2bade92e22c96a": {
          "model_module": "@jupyter-widgets/controls",
          "model_name": "HTMLModel",
          "model_module_version": "1.5.0",
          "state": {
            "_dom_classes": [],
            "_model_module": "@jupyter-widgets/controls",
            "_model_module_version": "1.5.0",
            "_model_name": "HTMLModel",
            "_view_count": null,
            "_view_module": "@jupyter-widgets/controls",
            "_view_module_version": "1.5.0",
            "_view_name": "HTMLView",
            "description": "",
            "description_tooltip": null,
            "layout": "IPY_MODEL_a21083b6418a4bc189199c2f68f928de",
            "placeholder": "​",
            "style": "IPY_MODEL_6c47ea71e1e14267a6acac0490a675a8",
            "value": " 217M/217M [00:02&lt;00:00, 124MB/s]"
          }
        },
        "697e887a1dc6452f96534ca480aeec71": {
          "model_module": "@jupyter-widgets/base",
          "model_name": "LayoutModel",
          "model_module_version": "1.2.0",
          "state": {
            "_model_module": "@jupyter-widgets/base",
            "_model_module_version": "1.2.0",
            "_model_name": "LayoutModel",
            "_view_count": null,
            "_view_module": "@jupyter-widgets/base",
            "_view_module_version": "1.2.0",
            "_view_name": "LayoutView",
            "align_content": null,
            "align_items": null,
            "align_self": null,
            "border": null,
            "bottom": null,
            "display": null,
            "flex": null,
            "flex_flow": null,
            "grid_area": null,
            "grid_auto_columns": null,
            "grid_auto_flow": null,
            "grid_auto_rows": null,
            "grid_column": null,
            "grid_gap": null,
            "grid_row": null,
            "grid_template_areas": null,
            "grid_template_columns": null,
            "grid_template_rows": null,
            "height": null,
            "justify_content": null,
            "justify_items": null,
            "left": null,
            "margin": null,
            "max_height": null,
            "max_width": null,
            "min_height": null,
            "min_width": null,
            "object_fit": null,
            "object_position": null,
            "order": null,
            "overflow": null,
            "overflow_x": null,
            "overflow_y": null,
            "padding": null,
            "right": null,
            "top": null,
            "visibility": null,
            "width": null
          }
        },
        "658885b011f9436a9d8645be2b5ada1b": {
          "model_module": "@jupyter-widgets/base",
          "model_name": "LayoutModel",
          "model_module_version": "1.2.0",
          "state": {
            "_model_module": "@jupyter-widgets/base",
            "_model_module_version": "1.2.0",
            "_model_name": "LayoutModel",
            "_view_count": null,
            "_view_module": "@jupyter-widgets/base",
            "_view_module_version": "1.2.0",
            "_view_name": "LayoutView",
            "align_content": null,
            "align_items": null,
            "align_self": null,
            "border": null,
            "bottom": null,
            "display": null,
            "flex": null,
            "flex_flow": null,
            "grid_area": null,
            "grid_auto_columns": null,
            "grid_auto_flow": null,
            "grid_auto_rows": null,
            "grid_column": null,
            "grid_gap": null,
            "grid_row": null,
            "grid_template_areas": null,
            "grid_template_columns": null,
            "grid_template_rows": null,
            "height": null,
            "justify_content": null,
            "justify_items": null,
            "left": null,
            "margin": null,
            "max_height": null,
            "max_width": null,
            "min_height": null,
            "min_width": null,
            "object_fit": null,
            "object_position": null,
            "order": null,
            "overflow": null,
            "overflow_x": null,
            "overflow_y": null,
            "padding": null,
            "right": null,
            "top": null,
            "visibility": null,
            "width": null
          }
        },
        "5ac53080dabe4fb7a877e40177571bbf": {
          "model_module": "@jupyter-widgets/controls",
          "model_name": "DescriptionStyleModel",
          "model_module_version": "1.5.0",
          "state": {
            "_model_module": "@jupyter-widgets/controls",
            "_model_module_version": "1.5.0",
            "_model_name": "DescriptionStyleModel",
            "_view_count": null,
            "_view_module": "@jupyter-widgets/base",
            "_view_module_version": "1.2.0",
            "_view_name": "StyleView",
            "description_width": ""
          }
        },
        "fcc0222378e04d8aa3b0e5fe448b2a4d": {
          "model_module": "@jupyter-widgets/base",
          "model_name": "LayoutModel",
          "model_module_version": "1.2.0",
          "state": {
            "_model_module": "@jupyter-widgets/base",
            "_model_module_version": "1.2.0",
            "_model_name": "LayoutModel",
            "_view_count": null,
            "_view_module": "@jupyter-widgets/base",
            "_view_module_version": "1.2.0",
            "_view_name": "LayoutView",
            "align_content": null,
            "align_items": null,
            "align_self": null,
            "border": null,
            "bottom": null,
            "display": null,
            "flex": null,
            "flex_flow": null,
            "grid_area": null,
            "grid_auto_columns": null,
            "grid_auto_flow": null,
            "grid_auto_rows": null,
            "grid_column": null,
            "grid_gap": null,
            "grid_row": null,
            "grid_template_areas": null,
            "grid_template_columns": null,
            "grid_template_rows": null,
            "height": null,
            "justify_content": null,
            "justify_items": null,
            "left": null,
            "margin": null,
            "max_height": null,
            "max_width": null,
            "min_height": null,
            "min_width": null,
            "object_fit": null,
            "object_position": null,
            "order": null,
            "overflow": null,
            "overflow_x": null,
            "overflow_y": null,
            "padding": null,
            "right": null,
            "top": null,
            "visibility": null,
            "width": null
          }
        },
        "20292bc092f44c5f8b1a8ab86183f974": {
          "model_module": "@jupyter-widgets/controls",
          "model_name": "ProgressStyleModel",
          "model_module_version": "1.5.0",
          "state": {
            "_model_module": "@jupyter-widgets/controls",
            "_model_module_version": "1.5.0",
            "_model_name": "ProgressStyleModel",
            "_view_count": null,
            "_view_module": "@jupyter-widgets/base",
            "_view_module_version": "1.2.0",
            "_view_name": "StyleView",
            "bar_color": null,
            "description_width": ""
          }
        },
        "a21083b6418a4bc189199c2f68f928de": {
          "model_module": "@jupyter-widgets/base",
          "model_name": "LayoutModel",
          "model_module_version": "1.2.0",
          "state": {
            "_model_module": "@jupyter-widgets/base",
            "_model_module_version": "1.2.0",
            "_model_name": "LayoutModel",
            "_view_count": null,
            "_view_module": "@jupyter-widgets/base",
            "_view_module_version": "1.2.0",
            "_view_name": "LayoutView",
            "align_content": null,
            "align_items": null,
            "align_self": null,
            "border": null,
            "bottom": null,
            "display": null,
            "flex": null,
            "flex_flow": null,
            "grid_area": null,
            "grid_auto_columns": null,
            "grid_auto_flow": null,
            "grid_auto_rows": null,
            "grid_column": null,
            "grid_gap": null,
            "grid_row": null,
            "grid_template_areas": null,
            "grid_template_columns": null,
            "grid_template_rows": null,
            "height": null,
            "justify_content": null,
            "justify_items": null,
            "left": null,
            "margin": null,
            "max_height": null,
            "max_width": null,
            "min_height": null,
            "min_width": null,
            "object_fit": null,
            "object_position": null,
            "order": null,
            "overflow": null,
            "overflow_x": null,
            "overflow_y": null,
            "padding": null,
            "right": null,
            "top": null,
            "visibility": null,
            "width": null
          }
        },
        "6c47ea71e1e14267a6acac0490a675a8": {
          "model_module": "@jupyter-widgets/controls",
          "model_name": "DescriptionStyleModel",
          "model_module_version": "1.5.0",
          "state": {
            "_model_module": "@jupyter-widgets/controls",
            "_model_module_version": "1.5.0",
            "_model_name": "DescriptionStyleModel",
            "_view_count": null,
            "_view_module": "@jupyter-widgets/base",
            "_view_module_version": "1.2.0",
            "_view_name": "StyleView",
            "description_width": ""
          }
        },
        "22e61c5cf5844b03b0fdd8d5f7480bb7": {
          "model_module": "@jupyter-widgets/controls",
          "model_name": "HBoxModel",
          "model_module_version": "1.5.0",
          "state": {
            "_dom_classes": [],
            "_model_module": "@jupyter-widgets/controls",
            "_model_module_version": "1.5.0",
            "_model_name": "HBoxModel",
            "_view_count": null,
            "_view_module": "@jupyter-widgets/controls",
            "_view_module_version": "1.5.0",
            "_view_name": "HBoxView",
            "box_style": "",
            "children": [
              "IPY_MODEL_913cd0c53762465daf29adb113c9deed",
              "IPY_MODEL_508a663869bb4f028d02ee74a7d35d74",
              "IPY_MODEL_819a61ebee354ce2a4a9a07c019e86a2"
            ],
            "layout": "IPY_MODEL_1f8c588da8474a699d6f9337acbacaa8"
          }
        },
        "913cd0c53762465daf29adb113c9deed": {
          "model_module": "@jupyter-widgets/controls",
          "model_name": "HTMLModel",
          "model_module_version": "1.5.0",
          "state": {
            "_dom_classes": [],
            "_model_module": "@jupyter-widgets/controls",
            "_model_module_version": "1.5.0",
            "_model_name": "HTMLModel",
            "_view_count": null,
            "_view_module": "@jupyter-widgets/controls",
            "_view_module_version": "1.5.0",
            "_view_name": "HTMLView",
            "description": "",
            "description_tooltip": null,
            "layout": "IPY_MODEL_4bd97e280c1749c7a0a0b8b11504157e",
            "placeholder": "​",
            "style": "IPY_MODEL_d9e698f29e4c41c28a2997866873ab56",
            "value": ""
          }
        },
        "508a663869bb4f028d02ee74a7d35d74": {
          "model_module": "@jupyter-widgets/controls",
          "model_name": "FloatProgressModel",
          "model_module_version": "1.5.0",
          "state": {
            "_dom_classes": [],
            "_model_module": "@jupyter-widgets/controls",
            "_model_module_version": "1.5.0",
            "_model_name": "FloatProgressModel",
            "_view_count": null,
            "_view_module": "@jupyter-widgets/controls",
            "_view_module_version": "1.5.0",
            "_view_name": "ProgressView",
            "bar_style": "success",
            "description": "",
            "description_tooltip": null,
            "layout": "IPY_MODEL_12b3a12720d44457a8571599f39766e1",
            "max": 1,
            "min": 0,
            "orientation": "horizontal",
            "style": "IPY_MODEL_1ecab716db3e4704aa62ad57fb248958",
            "value": 0
          }
        },
        "819a61ebee354ce2a4a9a07c019e86a2": {
          "model_module": "@jupyter-widgets/controls",
          "model_name": "HTMLModel",
          "model_module_version": "1.5.0",
          "state": {
            "_dom_classes": [],
            "_model_module": "@jupyter-widgets/controls",
            "_model_module_version": "1.5.0",
            "_model_name": "HTMLModel",
            "_view_count": null,
            "_view_module": "@jupyter-widgets/controls",
            "_view_module_version": "1.5.0",
            "_view_name": "HTMLView",
            "description": "",
            "description_tooltip": null,
            "layout": "IPY_MODEL_ed51b9b108eb455da2739477b474a66b",
            "placeholder": "​",
            "style": "IPY_MODEL_62d86b94877c4ffd9cb9120c324fee2b",
            "value": " 0/0 [00:00&lt;?, ?it/s]"
          }
        },
        "1f8c588da8474a699d6f9337acbacaa8": {
          "model_module": "@jupyter-widgets/base",
          "model_name": "LayoutModel",
          "model_module_version": "1.2.0",
          "state": {
            "_model_module": "@jupyter-widgets/base",
            "_model_module_version": "1.2.0",
            "_model_name": "LayoutModel",
            "_view_count": null,
            "_view_module": "@jupyter-widgets/base",
            "_view_module_version": "1.2.0",
            "_view_name": "LayoutView",
            "align_content": null,
            "align_items": null,
            "align_self": null,
            "border": null,
            "bottom": null,
            "display": null,
            "flex": null,
            "flex_flow": null,
            "grid_area": null,
            "grid_auto_columns": null,
            "grid_auto_flow": null,
            "grid_auto_rows": null,
            "grid_column": null,
            "grid_gap": null,
            "grid_row": null,
            "grid_template_areas": null,
            "grid_template_columns": null,
            "grid_template_rows": null,
            "height": null,
            "justify_content": null,
            "justify_items": null,
            "left": null,
            "margin": null,
            "max_height": null,
            "max_width": null,
            "min_height": null,
            "min_width": null,
            "object_fit": null,
            "object_position": null,
            "order": null,
            "overflow": null,
            "overflow_x": null,
            "overflow_y": null,
            "padding": null,
            "right": null,
            "top": null,
            "visibility": null,
            "width": null
          }
        },
        "4bd97e280c1749c7a0a0b8b11504157e": {
          "model_module": "@jupyter-widgets/base",
          "model_name": "LayoutModel",
          "model_module_version": "1.2.0",
          "state": {
            "_model_module": "@jupyter-widgets/base",
            "_model_module_version": "1.2.0",
            "_model_name": "LayoutModel",
            "_view_count": null,
            "_view_module": "@jupyter-widgets/base",
            "_view_module_version": "1.2.0",
            "_view_name": "LayoutView",
            "align_content": null,
            "align_items": null,
            "align_self": null,
            "border": null,
            "bottom": null,
            "display": null,
            "flex": null,
            "flex_flow": null,
            "grid_area": null,
            "grid_auto_columns": null,
            "grid_auto_flow": null,
            "grid_auto_rows": null,
            "grid_column": null,
            "grid_gap": null,
            "grid_row": null,
            "grid_template_areas": null,
            "grid_template_columns": null,
            "grid_template_rows": null,
            "height": null,
            "justify_content": null,
            "justify_items": null,
            "left": null,
            "margin": null,
            "max_height": null,
            "max_width": null,
            "min_height": null,
            "min_width": null,
            "object_fit": null,
            "object_position": null,
            "order": null,
            "overflow": null,
            "overflow_x": null,
            "overflow_y": null,
            "padding": null,
            "right": null,
            "top": null,
            "visibility": null,
            "width": null
          }
        },
        "d9e698f29e4c41c28a2997866873ab56": {
          "model_module": "@jupyter-widgets/controls",
          "model_name": "DescriptionStyleModel",
          "model_module_version": "1.5.0",
          "state": {
            "_model_module": "@jupyter-widgets/controls",
            "_model_module_version": "1.5.0",
            "_model_name": "DescriptionStyleModel",
            "_view_count": null,
            "_view_module": "@jupyter-widgets/base",
            "_view_module_version": "1.2.0",
            "_view_name": "StyleView",
            "description_width": ""
          }
        },
        "12b3a12720d44457a8571599f39766e1": {
          "model_module": "@jupyter-widgets/base",
          "model_name": "LayoutModel",
          "model_module_version": "1.2.0",
          "state": {
            "_model_module": "@jupyter-widgets/base",
            "_model_module_version": "1.2.0",
            "_model_name": "LayoutModel",
            "_view_count": null,
            "_view_module": "@jupyter-widgets/base",
            "_view_module_version": "1.2.0",
            "_view_name": "LayoutView",
            "align_content": null,
            "align_items": null,
            "align_self": null,
            "border": null,
            "bottom": null,
            "display": null,
            "flex": null,
            "flex_flow": null,
            "grid_area": null,
            "grid_auto_columns": null,
            "grid_auto_flow": null,
            "grid_auto_rows": null,
            "grid_column": null,
            "grid_gap": null,
            "grid_row": null,
            "grid_template_areas": null,
            "grid_template_columns": null,
            "grid_template_rows": null,
            "height": null,
            "justify_content": null,
            "justify_items": null,
            "left": null,
            "margin": null,
            "max_height": null,
            "max_width": null,
            "min_height": null,
            "min_width": null,
            "object_fit": null,
            "object_position": null,
            "order": null,
            "overflow": null,
            "overflow_x": null,
            "overflow_y": null,
            "padding": null,
            "right": null,
            "top": null,
            "visibility": null,
            "width": "20px"
          }
        },
        "1ecab716db3e4704aa62ad57fb248958": {
          "model_module": "@jupyter-widgets/controls",
          "model_name": "ProgressStyleModel",
          "model_module_version": "1.5.0",
          "state": {
            "_model_module": "@jupyter-widgets/controls",
            "_model_module_version": "1.5.0",
            "_model_name": "ProgressStyleModel",
            "_view_count": null,
            "_view_module": "@jupyter-widgets/base",
            "_view_module_version": "1.2.0",
            "_view_name": "StyleView",
            "bar_color": null,
            "description_width": ""
          }
        },
        "ed51b9b108eb455da2739477b474a66b": {
          "model_module": "@jupyter-widgets/base",
          "model_name": "LayoutModel",
          "model_module_version": "1.2.0",
          "state": {
            "_model_module": "@jupyter-widgets/base",
            "_model_module_version": "1.2.0",
            "_model_name": "LayoutModel",
            "_view_count": null,
            "_view_module": "@jupyter-widgets/base",
            "_view_module_version": "1.2.0",
            "_view_name": "LayoutView",
            "align_content": null,
            "align_items": null,
            "align_self": null,
            "border": null,
            "bottom": null,
            "display": null,
            "flex": null,
            "flex_flow": null,
            "grid_area": null,
            "grid_auto_columns": null,
            "grid_auto_flow": null,
            "grid_auto_rows": null,
            "grid_column": null,
            "grid_gap": null,
            "grid_row": null,
            "grid_template_areas": null,
            "grid_template_columns": null,
            "grid_template_rows": null,
            "height": null,
            "justify_content": null,
            "justify_items": null,
            "left": null,
            "margin": null,
            "max_height": null,
            "max_width": null,
            "min_height": null,
            "min_width": null,
            "object_fit": null,
            "object_position": null,
            "order": null,
            "overflow": null,
            "overflow_x": null,
            "overflow_y": null,
            "padding": null,
            "right": null,
            "top": null,
            "visibility": null,
            "width": null
          }
        },
        "62d86b94877c4ffd9cb9120c324fee2b": {
          "model_module": "@jupyter-widgets/controls",
          "model_name": "DescriptionStyleModel",
          "model_module_version": "1.5.0",
          "state": {
            "_model_module": "@jupyter-widgets/controls",
            "_model_module_version": "1.5.0",
            "_model_name": "DescriptionStyleModel",
            "_view_count": null,
            "_view_module": "@jupyter-widgets/base",
            "_view_module_version": "1.2.0",
            "_view_name": "StyleView",
            "description_width": ""
          }
        },
        "6beb6255f3c845b387e2491560c9cc5a": {
          "model_module": "@jupyter-widgets/controls",
          "model_name": "HBoxModel",
          "model_module_version": "1.5.0",
          "state": {
            "_dom_classes": [],
            "_model_module": "@jupyter-widgets/controls",
            "_model_module_version": "1.5.0",
            "_model_name": "HBoxModel",
            "_view_count": null,
            "_view_module": "@jupyter-widgets/controls",
            "_view_module_version": "1.5.0",
            "_view_name": "HBoxView",
            "box_style": "",
            "children": [
              "IPY_MODEL_42b130d4c114406cb607aa260bd401e8",
              "IPY_MODEL_703edd0a40d0493499411f4861f2f481",
              "IPY_MODEL_d3eb8e9129cd43d795651a04c8afede3"
            ],
            "layout": "IPY_MODEL_9a545267ec364ce286b3c65e2db44013"
          }
        },
        "42b130d4c114406cb607aa260bd401e8": {
          "model_module": "@jupyter-widgets/controls",
          "model_name": "HTMLModel",
          "model_module_version": "1.5.0",
          "state": {
            "_dom_classes": [],
            "_model_module": "@jupyter-widgets/controls",
            "_model_module_version": "1.5.0",
            "_model_name": "HTMLModel",
            "_view_count": null,
            "_view_module": "@jupyter-widgets/controls",
            "_view_module_version": "1.5.0",
            "_view_name": "HTMLView",
            "description": "",
            "description_tooltip": null,
            "layout": "IPY_MODEL_549e74c32a5b4e658275ea2ebef3b8db",
            "placeholder": "​",
            "style": "IPY_MODEL_a44240e6ad1648edac698d79ba995d23",
            "value": "modules.json: 100%"
          }
        },
        "703edd0a40d0493499411f4861f2f481": {
          "model_module": "@jupyter-widgets/controls",
          "model_name": "FloatProgressModel",
          "model_module_version": "1.5.0",
          "state": {
            "_dom_classes": [],
            "_model_module": "@jupyter-widgets/controls",
            "_model_module_version": "1.5.0",
            "_model_name": "FloatProgressModel",
            "_view_count": null,
            "_view_module": "@jupyter-widgets/controls",
            "_view_module_version": "1.5.0",
            "_view_name": "ProgressView",
            "bar_style": "success",
            "description": "",
            "description_tooltip": null,
            "layout": "IPY_MODEL_afcf0995dcb94c2489ccb971fd721069",
            "max": 349,
            "min": 0,
            "orientation": "horizontal",
            "style": "IPY_MODEL_a783b66ee6e344979b6b7ae89dcb4c49",
            "value": 349
          }
        },
        "d3eb8e9129cd43d795651a04c8afede3": {
          "model_module": "@jupyter-widgets/controls",
          "model_name": "HTMLModel",
          "model_module_version": "1.5.0",
          "state": {
            "_dom_classes": [],
            "_model_module": "@jupyter-widgets/controls",
            "_model_module_version": "1.5.0",
            "_model_name": "HTMLModel",
            "_view_count": null,
            "_view_module": "@jupyter-widgets/controls",
            "_view_module_version": "1.5.0",
            "_view_name": "HTMLView",
            "description": "",
            "description_tooltip": null,
            "layout": "IPY_MODEL_5912d34b8c8a4ee6a2c316f15e8f883d",
            "placeholder": "​",
            "style": "IPY_MODEL_f21275eb85af4964ba19be84ed3764e0",
            "value": " 349/349 [00:00&lt;00:00, 10.9kB/s]"
          }
        },
        "9a545267ec364ce286b3c65e2db44013": {
          "model_module": "@jupyter-widgets/base",
          "model_name": "LayoutModel",
          "model_module_version": "1.2.0",
          "state": {
            "_model_module": "@jupyter-widgets/base",
            "_model_module_version": "1.2.0",
            "_model_name": "LayoutModel",
            "_view_count": null,
            "_view_module": "@jupyter-widgets/base",
            "_view_module_version": "1.2.0",
            "_view_name": "LayoutView",
            "align_content": null,
            "align_items": null,
            "align_self": null,
            "border": null,
            "bottom": null,
            "display": null,
            "flex": null,
            "flex_flow": null,
            "grid_area": null,
            "grid_auto_columns": null,
            "grid_auto_flow": null,
            "grid_auto_rows": null,
            "grid_column": null,
            "grid_gap": null,
            "grid_row": null,
            "grid_template_areas": null,
            "grid_template_columns": null,
            "grid_template_rows": null,
            "height": null,
            "justify_content": null,
            "justify_items": null,
            "left": null,
            "margin": null,
            "max_height": null,
            "max_width": null,
            "min_height": null,
            "min_width": null,
            "object_fit": null,
            "object_position": null,
            "order": null,
            "overflow": null,
            "overflow_x": null,
            "overflow_y": null,
            "padding": null,
            "right": null,
            "top": null,
            "visibility": null,
            "width": null
          }
        },
        "549e74c32a5b4e658275ea2ebef3b8db": {
          "model_module": "@jupyter-widgets/base",
          "model_name": "LayoutModel",
          "model_module_version": "1.2.0",
          "state": {
            "_model_module": "@jupyter-widgets/base",
            "_model_module_version": "1.2.0",
            "_model_name": "LayoutModel",
            "_view_count": null,
            "_view_module": "@jupyter-widgets/base",
            "_view_module_version": "1.2.0",
            "_view_name": "LayoutView",
            "align_content": null,
            "align_items": null,
            "align_self": null,
            "border": null,
            "bottom": null,
            "display": null,
            "flex": null,
            "flex_flow": null,
            "grid_area": null,
            "grid_auto_columns": null,
            "grid_auto_flow": null,
            "grid_auto_rows": null,
            "grid_column": null,
            "grid_gap": null,
            "grid_row": null,
            "grid_template_areas": null,
            "grid_template_columns": null,
            "grid_template_rows": null,
            "height": null,
            "justify_content": null,
            "justify_items": null,
            "left": null,
            "margin": null,
            "max_height": null,
            "max_width": null,
            "min_height": null,
            "min_width": null,
            "object_fit": null,
            "object_position": null,
            "order": null,
            "overflow": null,
            "overflow_x": null,
            "overflow_y": null,
            "padding": null,
            "right": null,
            "top": null,
            "visibility": null,
            "width": null
          }
        },
        "a44240e6ad1648edac698d79ba995d23": {
          "model_module": "@jupyter-widgets/controls",
          "model_name": "DescriptionStyleModel",
          "model_module_version": "1.5.0",
          "state": {
            "_model_module": "@jupyter-widgets/controls",
            "_model_module_version": "1.5.0",
            "_model_name": "DescriptionStyleModel",
            "_view_count": null,
            "_view_module": "@jupyter-widgets/base",
            "_view_module_version": "1.2.0",
            "_view_name": "StyleView",
            "description_width": ""
          }
        },
        "afcf0995dcb94c2489ccb971fd721069": {
          "model_module": "@jupyter-widgets/base",
          "model_name": "LayoutModel",
          "model_module_version": "1.2.0",
          "state": {
            "_model_module": "@jupyter-widgets/base",
            "_model_module_version": "1.2.0",
            "_model_name": "LayoutModel",
            "_view_count": null,
            "_view_module": "@jupyter-widgets/base",
            "_view_module_version": "1.2.0",
            "_view_name": "LayoutView",
            "align_content": null,
            "align_items": null,
            "align_self": null,
            "border": null,
            "bottom": null,
            "display": null,
            "flex": null,
            "flex_flow": null,
            "grid_area": null,
            "grid_auto_columns": null,
            "grid_auto_flow": null,
            "grid_auto_rows": null,
            "grid_column": null,
            "grid_gap": null,
            "grid_row": null,
            "grid_template_areas": null,
            "grid_template_columns": null,
            "grid_template_rows": null,
            "height": null,
            "justify_content": null,
            "justify_items": null,
            "left": null,
            "margin": null,
            "max_height": null,
            "max_width": null,
            "min_height": null,
            "min_width": null,
            "object_fit": null,
            "object_position": null,
            "order": null,
            "overflow": null,
            "overflow_x": null,
            "overflow_y": null,
            "padding": null,
            "right": null,
            "top": null,
            "visibility": null,
            "width": null
          }
        },
        "a783b66ee6e344979b6b7ae89dcb4c49": {
          "model_module": "@jupyter-widgets/controls",
          "model_name": "ProgressStyleModel",
          "model_module_version": "1.5.0",
          "state": {
            "_model_module": "@jupyter-widgets/controls",
            "_model_module_version": "1.5.0",
            "_model_name": "ProgressStyleModel",
            "_view_count": null,
            "_view_module": "@jupyter-widgets/base",
            "_view_module_version": "1.2.0",
            "_view_name": "StyleView",
            "bar_color": null,
            "description_width": ""
          }
        },
        "5912d34b8c8a4ee6a2c316f15e8f883d": {
          "model_module": "@jupyter-widgets/base",
          "model_name": "LayoutModel",
          "model_module_version": "1.2.0",
          "state": {
            "_model_module": "@jupyter-widgets/base",
            "_model_module_version": "1.2.0",
            "_model_name": "LayoutModel",
            "_view_count": null,
            "_view_module": "@jupyter-widgets/base",
            "_view_module_version": "1.2.0",
            "_view_name": "LayoutView",
            "align_content": null,
            "align_items": null,
            "align_self": null,
            "border": null,
            "bottom": null,
            "display": null,
            "flex": null,
            "flex_flow": null,
            "grid_area": null,
            "grid_auto_columns": null,
            "grid_auto_flow": null,
            "grid_auto_rows": null,
            "grid_column": null,
            "grid_gap": null,
            "grid_row": null,
            "grid_template_areas": null,
            "grid_template_columns": null,
            "grid_template_rows": null,
            "height": null,
            "justify_content": null,
            "justify_items": null,
            "left": null,
            "margin": null,
            "max_height": null,
            "max_width": null,
            "min_height": null,
            "min_width": null,
            "object_fit": null,
            "object_position": null,
            "order": null,
            "overflow": null,
            "overflow_x": null,
            "overflow_y": null,
            "padding": null,
            "right": null,
            "top": null,
            "visibility": null,
            "width": null
          }
        },
        "f21275eb85af4964ba19be84ed3764e0": {
          "model_module": "@jupyter-widgets/controls",
          "model_name": "DescriptionStyleModel",
          "model_module_version": "1.5.0",
          "state": {
            "_model_module": "@jupyter-widgets/controls",
            "_model_module_version": "1.5.0",
            "_model_name": "DescriptionStyleModel",
            "_view_count": null,
            "_view_module": "@jupyter-widgets/base",
            "_view_module_version": "1.2.0",
            "_view_name": "StyleView",
            "description_width": ""
          }
        },
        "2b0c474231fc477684fe45a2820db258": {
          "model_module": "@jupyter-widgets/controls",
          "model_name": "HBoxModel",
          "model_module_version": "1.5.0",
          "state": {
            "_dom_classes": [],
            "_model_module": "@jupyter-widgets/controls",
            "_model_module_version": "1.5.0",
            "_model_name": "HBoxModel",
            "_view_count": null,
            "_view_module": "@jupyter-widgets/controls",
            "_view_module_version": "1.5.0",
            "_view_name": "HBoxView",
            "box_style": "",
            "children": [
              "IPY_MODEL_e39e9de6e7a6493ba49df2e9b41fd531",
              "IPY_MODEL_d4e609d47dba4d00aec02a1ba16c8427",
              "IPY_MODEL_8df88e0fec0144098b9b858f24f1abfa"
            ],
            "layout": "IPY_MODEL_41329a4f416c49e2bd41f23c27f28b42"
          }
        },
        "e39e9de6e7a6493ba49df2e9b41fd531": {
          "model_module": "@jupyter-widgets/controls",
          "model_name": "HTMLModel",
          "model_module_version": "1.5.0",
          "state": {
            "_dom_classes": [],
            "_model_module": "@jupyter-widgets/controls",
            "_model_module_version": "1.5.0",
            "_model_name": "HTMLModel",
            "_view_count": null,
            "_view_module": "@jupyter-widgets/controls",
            "_view_module_version": "1.5.0",
            "_view_name": "HTMLView",
            "description": "",
            "description_tooltip": null,
            "layout": "IPY_MODEL_2138ec117da34c809fc395222207b7ed",
            "placeholder": "​",
            "style": "IPY_MODEL_c8a0374ccbd947368b316cb0a73188b7",
            "value": "config_sentence_transformers.json: 100%"
          }
        },
        "d4e609d47dba4d00aec02a1ba16c8427": {
          "model_module": "@jupyter-widgets/controls",
          "model_name": "FloatProgressModel",
          "model_module_version": "1.5.0",
          "state": {
            "_dom_classes": [],
            "_model_module": "@jupyter-widgets/controls",
            "_model_module_version": "1.5.0",
            "_model_name": "FloatProgressModel",
            "_view_count": null,
            "_view_module": "@jupyter-widgets/controls",
            "_view_module_version": "1.5.0",
            "_view_name": "ProgressView",
            "bar_style": "success",
            "description": "",
            "description_tooltip": null,
            "layout": "IPY_MODEL_dfe85838a1b7497b88fbe01444e3c1e1",
            "max": 116,
            "min": 0,
            "orientation": "horizontal",
            "style": "IPY_MODEL_300cb29a0c0b402f9cbcb9c4f87d4b5e",
            "value": 116
          }
        },
        "8df88e0fec0144098b9b858f24f1abfa": {
          "model_module": "@jupyter-widgets/controls",
          "model_name": "HTMLModel",
          "model_module_version": "1.5.0",
          "state": {
            "_dom_classes": [],
            "_model_module": "@jupyter-widgets/controls",
            "_model_module_version": "1.5.0",
            "_model_name": "HTMLModel",
            "_view_count": null,
            "_view_module": "@jupyter-widgets/controls",
            "_view_module_version": "1.5.0",
            "_view_name": "HTMLView",
            "description": "",
            "description_tooltip": null,
            "layout": "IPY_MODEL_2306f4c5d6e840ad8748ec50570aa1f9",
            "placeholder": "​",
            "style": "IPY_MODEL_b43aad20c8704daa9579eb188be45070",
            "value": " 116/116 [00:00&lt;00:00, 4.20kB/s]"
          }
        },
        "41329a4f416c49e2bd41f23c27f28b42": {
          "model_module": "@jupyter-widgets/base",
          "model_name": "LayoutModel",
          "model_module_version": "1.2.0",
          "state": {
            "_model_module": "@jupyter-widgets/base",
            "_model_module_version": "1.2.0",
            "_model_name": "LayoutModel",
            "_view_count": null,
            "_view_module": "@jupyter-widgets/base",
            "_view_module_version": "1.2.0",
            "_view_name": "LayoutView",
            "align_content": null,
            "align_items": null,
            "align_self": null,
            "border": null,
            "bottom": null,
            "display": null,
            "flex": null,
            "flex_flow": null,
            "grid_area": null,
            "grid_auto_columns": null,
            "grid_auto_flow": null,
            "grid_auto_rows": null,
            "grid_column": null,
            "grid_gap": null,
            "grid_row": null,
            "grid_template_areas": null,
            "grid_template_columns": null,
            "grid_template_rows": null,
            "height": null,
            "justify_content": null,
            "justify_items": null,
            "left": null,
            "margin": null,
            "max_height": null,
            "max_width": null,
            "min_height": null,
            "min_width": null,
            "object_fit": null,
            "object_position": null,
            "order": null,
            "overflow": null,
            "overflow_x": null,
            "overflow_y": null,
            "padding": null,
            "right": null,
            "top": null,
            "visibility": null,
            "width": null
          }
        },
        "2138ec117da34c809fc395222207b7ed": {
          "model_module": "@jupyter-widgets/base",
          "model_name": "LayoutModel",
          "model_module_version": "1.2.0",
          "state": {
            "_model_module": "@jupyter-widgets/base",
            "_model_module_version": "1.2.0",
            "_model_name": "LayoutModel",
            "_view_count": null,
            "_view_module": "@jupyter-widgets/base",
            "_view_module_version": "1.2.0",
            "_view_name": "LayoutView",
            "align_content": null,
            "align_items": null,
            "align_self": null,
            "border": null,
            "bottom": null,
            "display": null,
            "flex": null,
            "flex_flow": null,
            "grid_area": null,
            "grid_auto_columns": null,
            "grid_auto_flow": null,
            "grid_auto_rows": null,
            "grid_column": null,
            "grid_gap": null,
            "grid_row": null,
            "grid_template_areas": null,
            "grid_template_columns": null,
            "grid_template_rows": null,
            "height": null,
            "justify_content": null,
            "justify_items": null,
            "left": null,
            "margin": null,
            "max_height": null,
            "max_width": null,
            "min_height": null,
            "min_width": null,
            "object_fit": null,
            "object_position": null,
            "order": null,
            "overflow": null,
            "overflow_x": null,
            "overflow_y": null,
            "padding": null,
            "right": null,
            "top": null,
            "visibility": null,
            "width": null
          }
        },
        "c8a0374ccbd947368b316cb0a73188b7": {
          "model_module": "@jupyter-widgets/controls",
          "model_name": "DescriptionStyleModel",
          "model_module_version": "1.5.0",
          "state": {
            "_model_module": "@jupyter-widgets/controls",
            "_model_module_version": "1.5.0",
            "_model_name": "DescriptionStyleModel",
            "_view_count": null,
            "_view_module": "@jupyter-widgets/base",
            "_view_module_version": "1.2.0",
            "_view_name": "StyleView",
            "description_width": ""
          }
        },
        "dfe85838a1b7497b88fbe01444e3c1e1": {
          "model_module": "@jupyter-widgets/base",
          "model_name": "LayoutModel",
          "model_module_version": "1.2.0",
          "state": {
            "_model_module": "@jupyter-widgets/base",
            "_model_module_version": "1.2.0",
            "_model_name": "LayoutModel",
            "_view_count": null,
            "_view_module": "@jupyter-widgets/base",
            "_view_module_version": "1.2.0",
            "_view_name": "LayoutView",
            "align_content": null,
            "align_items": null,
            "align_self": null,
            "border": null,
            "bottom": null,
            "display": null,
            "flex": null,
            "flex_flow": null,
            "grid_area": null,
            "grid_auto_columns": null,
            "grid_auto_flow": null,
            "grid_auto_rows": null,
            "grid_column": null,
            "grid_gap": null,
            "grid_row": null,
            "grid_template_areas": null,
            "grid_template_columns": null,
            "grid_template_rows": null,
            "height": null,
            "justify_content": null,
            "justify_items": null,
            "left": null,
            "margin": null,
            "max_height": null,
            "max_width": null,
            "min_height": null,
            "min_width": null,
            "object_fit": null,
            "object_position": null,
            "order": null,
            "overflow": null,
            "overflow_x": null,
            "overflow_y": null,
            "padding": null,
            "right": null,
            "top": null,
            "visibility": null,
            "width": null
          }
        },
        "300cb29a0c0b402f9cbcb9c4f87d4b5e": {
          "model_module": "@jupyter-widgets/controls",
          "model_name": "ProgressStyleModel",
          "model_module_version": "1.5.0",
          "state": {
            "_model_module": "@jupyter-widgets/controls",
            "_model_module_version": "1.5.0",
            "_model_name": "ProgressStyleModel",
            "_view_count": null,
            "_view_module": "@jupyter-widgets/base",
            "_view_module_version": "1.2.0",
            "_view_name": "StyleView",
            "bar_color": null,
            "description_width": ""
          }
        },
        "2306f4c5d6e840ad8748ec50570aa1f9": {
          "model_module": "@jupyter-widgets/base",
          "model_name": "LayoutModel",
          "model_module_version": "1.2.0",
          "state": {
            "_model_module": "@jupyter-widgets/base",
            "_model_module_version": "1.2.0",
            "_model_name": "LayoutModel",
            "_view_count": null,
            "_view_module": "@jupyter-widgets/base",
            "_view_module_version": "1.2.0",
            "_view_name": "LayoutView",
            "align_content": null,
            "align_items": null,
            "align_self": null,
            "border": null,
            "bottom": null,
            "display": null,
            "flex": null,
            "flex_flow": null,
            "grid_area": null,
            "grid_auto_columns": null,
            "grid_auto_flow": null,
            "grid_auto_rows": null,
            "grid_column": null,
            "grid_gap": null,
            "grid_row": null,
            "grid_template_areas": null,
            "grid_template_columns": null,
            "grid_template_rows": null,
            "height": null,
            "justify_content": null,
            "justify_items": null,
            "left": null,
            "margin": null,
            "max_height": null,
            "max_width": null,
            "min_height": null,
            "min_width": null,
            "object_fit": null,
            "object_position": null,
            "order": null,
            "overflow": null,
            "overflow_x": null,
            "overflow_y": null,
            "padding": null,
            "right": null,
            "top": null,
            "visibility": null,
            "width": null
          }
        },
        "b43aad20c8704daa9579eb188be45070": {
          "model_module": "@jupyter-widgets/controls",
          "model_name": "DescriptionStyleModel",
          "model_module_version": "1.5.0",
          "state": {
            "_model_module": "@jupyter-widgets/controls",
            "_model_module_version": "1.5.0",
            "_model_name": "DescriptionStyleModel",
            "_view_count": null,
            "_view_module": "@jupyter-widgets/base",
            "_view_module_version": "1.2.0",
            "_view_name": "StyleView",
            "description_width": ""
          }
        },
        "9dc954c6328845c4ad85425428f7dc0d": {
          "model_module": "@jupyter-widgets/controls",
          "model_name": "HBoxModel",
          "model_module_version": "1.5.0",
          "state": {
            "_dom_classes": [],
            "_model_module": "@jupyter-widgets/controls",
            "_model_module_version": "1.5.0",
            "_model_name": "HBoxModel",
            "_view_count": null,
            "_view_module": "@jupyter-widgets/controls",
            "_view_module_version": "1.5.0",
            "_view_name": "HBoxView",
            "box_style": "",
            "children": [
              "IPY_MODEL_36280e6287f245b69afe20d138945d3b",
              "IPY_MODEL_f61227958d9249cda97cd3cd6be21cfb",
              "IPY_MODEL_8d2afb3948624071b0e523f324361b97"
            ],
            "layout": "IPY_MODEL_f8f3f96f0ecf403c975039a00226dcb8"
          }
        },
        "36280e6287f245b69afe20d138945d3b": {
          "model_module": "@jupyter-widgets/controls",
          "model_name": "HTMLModel",
          "model_module_version": "1.5.0",
          "state": {
            "_dom_classes": [],
            "_model_module": "@jupyter-widgets/controls",
            "_model_module_version": "1.5.0",
            "_model_name": "HTMLModel",
            "_view_count": null,
            "_view_module": "@jupyter-widgets/controls",
            "_view_module_version": "1.5.0",
            "_view_name": "HTMLView",
            "description": "",
            "description_tooltip": null,
            "layout": "IPY_MODEL_86a9042f753c4f3baca72bef57c78186",
            "placeholder": "​",
            "style": "IPY_MODEL_c477900b89914bfd8186922a9f87bbc7",
            "value": "README.md: 100%"
          }
        },
        "f61227958d9249cda97cd3cd6be21cfb": {
          "model_module": "@jupyter-widgets/controls",
          "model_name": "FloatProgressModel",
          "model_module_version": "1.5.0",
          "state": {
            "_dom_classes": [],
            "_model_module": "@jupyter-widgets/controls",
            "_model_module_version": "1.5.0",
            "_model_name": "FloatProgressModel",
            "_view_count": null,
            "_view_module": "@jupyter-widgets/controls",
            "_view_module_version": "1.5.0",
            "_view_name": "ProgressView",
            "bar_style": "success",
            "description": "",
            "description_tooltip": null,
            "layout": "IPY_MODEL_7f10047f224e46c489ac9c91dc3a939b",
            "max": 10659,
            "min": 0,
            "orientation": "horizontal",
            "style": "IPY_MODEL_d4ce2583b5ee413a97915bbcd4351fdf",
            "value": 10659
          }
        },
        "8d2afb3948624071b0e523f324361b97": {
          "model_module": "@jupyter-widgets/controls",
          "model_name": "HTMLModel",
          "model_module_version": "1.5.0",
          "state": {
            "_dom_classes": [],
            "_model_module": "@jupyter-widgets/controls",
            "_model_module_version": "1.5.0",
            "_model_name": "HTMLModel",
            "_view_count": null,
            "_view_module": "@jupyter-widgets/controls",
            "_view_module_version": "1.5.0",
            "_view_name": "HTMLView",
            "description": "",
            "description_tooltip": null,
            "layout": "IPY_MODEL_8c056144c33148abac20b76a3fc7b26b",
            "placeholder": "​",
            "style": "IPY_MODEL_9edf41f1c6dc42f4972209677a9878a3",
            "value": " 10.7k/10.7k [00:00&lt;00:00, 564kB/s]"
          }
        },
        "f8f3f96f0ecf403c975039a00226dcb8": {
          "model_module": "@jupyter-widgets/base",
          "model_name": "LayoutModel",
          "model_module_version": "1.2.0",
          "state": {
            "_model_module": "@jupyter-widgets/base",
            "_model_module_version": "1.2.0",
            "_model_name": "LayoutModel",
            "_view_count": null,
            "_view_module": "@jupyter-widgets/base",
            "_view_module_version": "1.2.0",
            "_view_name": "LayoutView",
            "align_content": null,
            "align_items": null,
            "align_self": null,
            "border": null,
            "bottom": null,
            "display": null,
            "flex": null,
            "flex_flow": null,
            "grid_area": null,
            "grid_auto_columns": null,
            "grid_auto_flow": null,
            "grid_auto_rows": null,
            "grid_column": null,
            "grid_gap": null,
            "grid_row": null,
            "grid_template_areas": null,
            "grid_template_columns": null,
            "grid_template_rows": null,
            "height": null,
            "justify_content": null,
            "justify_items": null,
            "left": null,
            "margin": null,
            "max_height": null,
            "max_width": null,
            "min_height": null,
            "min_width": null,
            "object_fit": null,
            "object_position": null,
            "order": null,
            "overflow": null,
            "overflow_x": null,
            "overflow_y": null,
            "padding": null,
            "right": null,
            "top": null,
            "visibility": null,
            "width": null
          }
        },
        "86a9042f753c4f3baca72bef57c78186": {
          "model_module": "@jupyter-widgets/base",
          "model_name": "LayoutModel",
          "model_module_version": "1.2.0",
          "state": {
            "_model_module": "@jupyter-widgets/base",
            "_model_module_version": "1.2.0",
            "_model_name": "LayoutModel",
            "_view_count": null,
            "_view_module": "@jupyter-widgets/base",
            "_view_module_version": "1.2.0",
            "_view_name": "LayoutView",
            "align_content": null,
            "align_items": null,
            "align_self": null,
            "border": null,
            "bottom": null,
            "display": null,
            "flex": null,
            "flex_flow": null,
            "grid_area": null,
            "grid_auto_columns": null,
            "grid_auto_flow": null,
            "grid_auto_rows": null,
            "grid_column": null,
            "grid_gap": null,
            "grid_row": null,
            "grid_template_areas": null,
            "grid_template_columns": null,
            "grid_template_rows": null,
            "height": null,
            "justify_content": null,
            "justify_items": null,
            "left": null,
            "margin": null,
            "max_height": null,
            "max_width": null,
            "min_height": null,
            "min_width": null,
            "object_fit": null,
            "object_position": null,
            "order": null,
            "overflow": null,
            "overflow_x": null,
            "overflow_y": null,
            "padding": null,
            "right": null,
            "top": null,
            "visibility": null,
            "width": null
          }
        },
        "c477900b89914bfd8186922a9f87bbc7": {
          "model_module": "@jupyter-widgets/controls",
          "model_name": "DescriptionStyleModel",
          "model_module_version": "1.5.0",
          "state": {
            "_model_module": "@jupyter-widgets/controls",
            "_model_module_version": "1.5.0",
            "_model_name": "DescriptionStyleModel",
            "_view_count": null,
            "_view_module": "@jupyter-widgets/base",
            "_view_module_version": "1.2.0",
            "_view_name": "StyleView",
            "description_width": ""
          }
        },
        "7f10047f224e46c489ac9c91dc3a939b": {
          "model_module": "@jupyter-widgets/base",
          "model_name": "LayoutModel",
          "model_module_version": "1.2.0",
          "state": {
            "_model_module": "@jupyter-widgets/base",
            "_model_module_version": "1.2.0",
            "_model_name": "LayoutModel",
            "_view_count": null,
            "_view_module": "@jupyter-widgets/base",
            "_view_module_version": "1.2.0",
            "_view_name": "LayoutView",
            "align_content": null,
            "align_items": null,
            "align_self": null,
            "border": null,
            "bottom": null,
            "display": null,
            "flex": null,
            "flex_flow": null,
            "grid_area": null,
            "grid_auto_columns": null,
            "grid_auto_flow": null,
            "grid_auto_rows": null,
            "grid_column": null,
            "grid_gap": null,
            "grid_row": null,
            "grid_template_areas": null,
            "grid_template_columns": null,
            "grid_template_rows": null,
            "height": null,
            "justify_content": null,
            "justify_items": null,
            "left": null,
            "margin": null,
            "max_height": null,
            "max_width": null,
            "min_height": null,
            "min_width": null,
            "object_fit": null,
            "object_position": null,
            "order": null,
            "overflow": null,
            "overflow_x": null,
            "overflow_y": null,
            "padding": null,
            "right": null,
            "top": null,
            "visibility": null,
            "width": null
          }
        },
        "d4ce2583b5ee413a97915bbcd4351fdf": {
          "model_module": "@jupyter-widgets/controls",
          "model_name": "ProgressStyleModel",
          "model_module_version": "1.5.0",
          "state": {
            "_model_module": "@jupyter-widgets/controls",
            "_model_module_version": "1.5.0",
            "_model_name": "ProgressStyleModel",
            "_view_count": null,
            "_view_module": "@jupyter-widgets/base",
            "_view_module_version": "1.2.0",
            "_view_name": "StyleView",
            "bar_color": null,
            "description_width": ""
          }
        },
        "8c056144c33148abac20b76a3fc7b26b": {
          "model_module": "@jupyter-widgets/base",
          "model_name": "LayoutModel",
          "model_module_version": "1.2.0",
          "state": {
            "_model_module": "@jupyter-widgets/base",
            "_model_module_version": "1.2.0",
            "_model_name": "LayoutModel",
            "_view_count": null,
            "_view_module": "@jupyter-widgets/base",
            "_view_module_version": "1.2.0",
            "_view_name": "LayoutView",
            "align_content": null,
            "align_items": null,
            "align_self": null,
            "border": null,
            "bottom": null,
            "display": null,
            "flex": null,
            "flex_flow": null,
            "grid_area": null,
            "grid_auto_columns": null,
            "grid_auto_flow": null,
            "grid_auto_rows": null,
            "grid_column": null,
            "grid_gap": null,
            "grid_row": null,
            "grid_template_areas": null,
            "grid_template_columns": null,
            "grid_template_rows": null,
            "height": null,
            "justify_content": null,
            "justify_items": null,
            "left": null,
            "margin": null,
            "max_height": null,
            "max_width": null,
            "min_height": null,
            "min_width": null,
            "object_fit": null,
            "object_position": null,
            "order": null,
            "overflow": null,
            "overflow_x": null,
            "overflow_y": null,
            "padding": null,
            "right": null,
            "top": null,
            "visibility": null,
            "width": null
          }
        },
        "9edf41f1c6dc42f4972209677a9878a3": {
          "model_module": "@jupyter-widgets/controls",
          "model_name": "DescriptionStyleModel",
          "model_module_version": "1.5.0",
          "state": {
            "_model_module": "@jupyter-widgets/controls",
            "_model_module_version": "1.5.0",
            "_model_name": "DescriptionStyleModel",
            "_view_count": null,
            "_view_module": "@jupyter-widgets/base",
            "_view_module_version": "1.2.0",
            "_view_name": "StyleView",
            "description_width": ""
          }
        },
        "fa195a9a4b0c4192b0547f2638a9c8ad": {
          "model_module": "@jupyter-widgets/controls",
          "model_name": "HBoxModel",
          "model_module_version": "1.5.0",
          "state": {
            "_dom_classes": [],
            "_model_module": "@jupyter-widgets/controls",
            "_model_module_version": "1.5.0",
            "_model_name": "HBoxModel",
            "_view_count": null,
            "_view_module": "@jupyter-widgets/controls",
            "_view_module_version": "1.5.0",
            "_view_name": "HBoxView",
            "box_style": "",
            "children": [
              "IPY_MODEL_c5f5121fc1f745d78837be2632847de5",
              "IPY_MODEL_ea7442ce10fc4115a06e7e69de45cc20",
              "IPY_MODEL_708847cf13ca4ad9aebecc3d48f8f08a"
            ],
            "layout": "IPY_MODEL_ac59bad07a0740d2842157c38010a426"
          }
        },
        "c5f5121fc1f745d78837be2632847de5": {
          "model_module": "@jupyter-widgets/controls",
          "model_name": "HTMLModel",
          "model_module_version": "1.5.0",
          "state": {
            "_dom_classes": [],
            "_model_module": "@jupyter-widgets/controls",
            "_model_module_version": "1.5.0",
            "_model_name": "HTMLModel",
            "_view_count": null,
            "_view_module": "@jupyter-widgets/controls",
            "_view_module_version": "1.5.0",
            "_view_name": "HTMLView",
            "description": "",
            "description_tooltip": null,
            "layout": "IPY_MODEL_ae2ba6f0788647b7b82694be2d7c4bdb",
            "placeholder": "​",
            "style": "IPY_MODEL_c22f3539ed904ac68ed8cce7bcad385d",
            "value": "sentence_bert_config.json: 100%"
          }
        },
        "ea7442ce10fc4115a06e7e69de45cc20": {
          "model_module": "@jupyter-widgets/controls",
          "model_name": "FloatProgressModel",
          "model_module_version": "1.5.0",
          "state": {
            "_dom_classes": [],
            "_model_module": "@jupyter-widgets/controls",
            "_model_module_version": "1.5.0",
            "_model_name": "FloatProgressModel",
            "_view_count": null,
            "_view_module": "@jupyter-widgets/controls",
            "_view_module_version": "1.5.0",
            "_view_name": "ProgressView",
            "bar_style": "success",
            "description": "",
            "description_tooltip": null,
            "layout": "IPY_MODEL_96ae0389fd4a4092a90d338921bbcbc3",
            "max": 53,
            "min": 0,
            "orientation": "horizontal",
            "style": "IPY_MODEL_664366621e694f6b88a25b70da2b48f7",
            "value": 53
          }
        },
        "708847cf13ca4ad9aebecc3d48f8f08a": {
          "model_module": "@jupyter-widgets/controls",
          "model_name": "HTMLModel",
          "model_module_version": "1.5.0",
          "state": {
            "_dom_classes": [],
            "_model_module": "@jupyter-widgets/controls",
            "_model_module_version": "1.5.0",
            "_model_name": "HTMLModel",
            "_view_count": null,
            "_view_module": "@jupyter-widgets/controls",
            "_view_module_version": "1.5.0",
            "_view_name": "HTMLView",
            "description": "",
            "description_tooltip": null,
            "layout": "IPY_MODEL_dc5e50d3cada475daa24c855bbf07bec",
            "placeholder": "​",
            "style": "IPY_MODEL_70c3944e9b99407f804a1b9f9d27f663",
            "value": " 53.0/53.0 [00:00&lt;00:00, 3.16kB/s]"
          }
        },
        "ac59bad07a0740d2842157c38010a426": {
          "model_module": "@jupyter-widgets/base",
          "model_name": "LayoutModel",
          "model_module_version": "1.2.0",
          "state": {
            "_model_module": "@jupyter-widgets/base",
            "_model_module_version": "1.2.0",
            "_model_name": "LayoutModel",
            "_view_count": null,
            "_view_module": "@jupyter-widgets/base",
            "_view_module_version": "1.2.0",
            "_view_name": "LayoutView",
            "align_content": null,
            "align_items": null,
            "align_self": null,
            "border": null,
            "bottom": null,
            "display": null,
            "flex": null,
            "flex_flow": null,
            "grid_area": null,
            "grid_auto_columns": null,
            "grid_auto_flow": null,
            "grid_auto_rows": null,
            "grid_column": null,
            "grid_gap": null,
            "grid_row": null,
            "grid_template_areas": null,
            "grid_template_columns": null,
            "grid_template_rows": null,
            "height": null,
            "justify_content": null,
            "justify_items": null,
            "left": null,
            "margin": null,
            "max_height": null,
            "max_width": null,
            "min_height": null,
            "min_width": null,
            "object_fit": null,
            "object_position": null,
            "order": null,
            "overflow": null,
            "overflow_x": null,
            "overflow_y": null,
            "padding": null,
            "right": null,
            "top": null,
            "visibility": null,
            "width": null
          }
        },
        "ae2ba6f0788647b7b82694be2d7c4bdb": {
          "model_module": "@jupyter-widgets/base",
          "model_name": "LayoutModel",
          "model_module_version": "1.2.0",
          "state": {
            "_model_module": "@jupyter-widgets/base",
            "_model_module_version": "1.2.0",
            "_model_name": "LayoutModel",
            "_view_count": null,
            "_view_module": "@jupyter-widgets/base",
            "_view_module_version": "1.2.0",
            "_view_name": "LayoutView",
            "align_content": null,
            "align_items": null,
            "align_self": null,
            "border": null,
            "bottom": null,
            "display": null,
            "flex": null,
            "flex_flow": null,
            "grid_area": null,
            "grid_auto_columns": null,
            "grid_auto_flow": null,
            "grid_auto_rows": null,
            "grid_column": null,
            "grid_gap": null,
            "grid_row": null,
            "grid_template_areas": null,
            "grid_template_columns": null,
            "grid_template_rows": null,
            "height": null,
            "justify_content": null,
            "justify_items": null,
            "left": null,
            "margin": null,
            "max_height": null,
            "max_width": null,
            "min_height": null,
            "min_width": null,
            "object_fit": null,
            "object_position": null,
            "order": null,
            "overflow": null,
            "overflow_x": null,
            "overflow_y": null,
            "padding": null,
            "right": null,
            "top": null,
            "visibility": null,
            "width": null
          }
        },
        "c22f3539ed904ac68ed8cce7bcad385d": {
          "model_module": "@jupyter-widgets/controls",
          "model_name": "DescriptionStyleModel",
          "model_module_version": "1.5.0",
          "state": {
            "_model_module": "@jupyter-widgets/controls",
            "_model_module_version": "1.5.0",
            "_model_name": "DescriptionStyleModel",
            "_view_count": null,
            "_view_module": "@jupyter-widgets/base",
            "_view_module_version": "1.2.0",
            "_view_name": "StyleView",
            "description_width": ""
          }
        },
        "96ae0389fd4a4092a90d338921bbcbc3": {
          "model_module": "@jupyter-widgets/base",
          "model_name": "LayoutModel",
          "model_module_version": "1.2.0",
          "state": {
            "_model_module": "@jupyter-widgets/base",
            "_model_module_version": "1.2.0",
            "_model_name": "LayoutModel",
            "_view_count": null,
            "_view_module": "@jupyter-widgets/base",
            "_view_module_version": "1.2.0",
            "_view_name": "LayoutView",
            "align_content": null,
            "align_items": null,
            "align_self": null,
            "border": null,
            "bottom": null,
            "display": null,
            "flex": null,
            "flex_flow": null,
            "grid_area": null,
            "grid_auto_columns": null,
            "grid_auto_flow": null,
            "grid_auto_rows": null,
            "grid_column": null,
            "grid_gap": null,
            "grid_row": null,
            "grid_template_areas": null,
            "grid_template_columns": null,
            "grid_template_rows": null,
            "height": null,
            "justify_content": null,
            "justify_items": null,
            "left": null,
            "margin": null,
            "max_height": null,
            "max_width": null,
            "min_height": null,
            "min_width": null,
            "object_fit": null,
            "object_position": null,
            "order": null,
            "overflow": null,
            "overflow_x": null,
            "overflow_y": null,
            "padding": null,
            "right": null,
            "top": null,
            "visibility": null,
            "width": null
          }
        },
        "664366621e694f6b88a25b70da2b48f7": {
          "model_module": "@jupyter-widgets/controls",
          "model_name": "ProgressStyleModel",
          "model_module_version": "1.5.0",
          "state": {
            "_model_module": "@jupyter-widgets/controls",
            "_model_module_version": "1.5.0",
            "_model_name": "ProgressStyleModel",
            "_view_count": null,
            "_view_module": "@jupyter-widgets/base",
            "_view_module_version": "1.2.0",
            "_view_name": "StyleView",
            "bar_color": null,
            "description_width": ""
          }
        },
        "dc5e50d3cada475daa24c855bbf07bec": {
          "model_module": "@jupyter-widgets/base",
          "model_name": "LayoutModel",
          "model_module_version": "1.2.0",
          "state": {
            "_model_module": "@jupyter-widgets/base",
            "_model_module_version": "1.2.0",
            "_model_name": "LayoutModel",
            "_view_count": null,
            "_view_module": "@jupyter-widgets/base",
            "_view_module_version": "1.2.0",
            "_view_name": "LayoutView",
            "align_content": null,
            "align_items": null,
            "align_self": null,
            "border": null,
            "bottom": null,
            "display": null,
            "flex": null,
            "flex_flow": null,
            "grid_area": null,
            "grid_auto_columns": null,
            "grid_auto_flow": null,
            "grid_auto_rows": null,
            "grid_column": null,
            "grid_gap": null,
            "grid_row": null,
            "grid_template_areas": null,
            "grid_template_columns": null,
            "grid_template_rows": null,
            "height": null,
            "justify_content": null,
            "justify_items": null,
            "left": null,
            "margin": null,
            "max_height": null,
            "max_width": null,
            "min_height": null,
            "min_width": null,
            "object_fit": null,
            "object_position": null,
            "order": null,
            "overflow": null,
            "overflow_x": null,
            "overflow_y": null,
            "padding": null,
            "right": null,
            "top": null,
            "visibility": null,
            "width": null
          }
        },
        "70c3944e9b99407f804a1b9f9d27f663": {
          "model_module": "@jupyter-widgets/controls",
          "model_name": "DescriptionStyleModel",
          "model_module_version": "1.5.0",
          "state": {
            "_model_module": "@jupyter-widgets/controls",
            "_model_module_version": "1.5.0",
            "_model_name": "DescriptionStyleModel",
            "_view_count": null,
            "_view_module": "@jupyter-widgets/base",
            "_view_module_version": "1.2.0",
            "_view_name": "StyleView",
            "description_width": ""
          }
        },
        "b083d4e8e74048848c34bb064e104375": {
          "model_module": "@jupyter-widgets/controls",
          "model_name": "HBoxModel",
          "model_module_version": "1.5.0",
          "state": {
            "_dom_classes": [],
            "_model_module": "@jupyter-widgets/controls",
            "_model_module_version": "1.5.0",
            "_model_name": "HBoxModel",
            "_view_count": null,
            "_view_module": "@jupyter-widgets/controls",
            "_view_module_version": "1.5.0",
            "_view_name": "HBoxView",
            "box_style": "",
            "children": [
              "IPY_MODEL_f7eebad3a18647d48a79509ca643295c",
              "IPY_MODEL_6d8035d6af7f44ce95bf01d7bf8890c5",
              "IPY_MODEL_d59443775f784010a32d673023c65db7"
            ],
            "layout": "IPY_MODEL_1e49d41a521641dc9e98bcbb0809e7e7"
          }
        },
        "f7eebad3a18647d48a79509ca643295c": {
          "model_module": "@jupyter-widgets/controls",
          "model_name": "HTMLModel",
          "model_module_version": "1.5.0",
          "state": {
            "_dom_classes": [],
            "_model_module": "@jupyter-widgets/controls",
            "_model_module_version": "1.5.0",
            "_model_name": "HTMLModel",
            "_view_count": null,
            "_view_module": "@jupyter-widgets/controls",
            "_view_module_version": "1.5.0",
            "_view_name": "HTMLView",
            "description": "",
            "description_tooltip": null,
            "layout": "IPY_MODEL_15f5aef3fc7f47839fe67dd963b3ff9e",
            "placeholder": "​",
            "style": "IPY_MODEL_79b58aa0aa3945acae1bc3ce00248410",
            "value": "config.json: 100%"
          }
        },
        "6d8035d6af7f44ce95bf01d7bf8890c5": {
          "model_module": "@jupyter-widgets/controls",
          "model_name": "FloatProgressModel",
          "model_module_version": "1.5.0",
          "state": {
            "_dom_classes": [],
            "_model_module": "@jupyter-widgets/controls",
            "_model_module_version": "1.5.0",
            "_model_name": "FloatProgressModel",
            "_view_count": null,
            "_view_module": "@jupyter-widgets/controls",
            "_view_module_version": "1.5.0",
            "_view_name": "ProgressView",
            "bar_style": "success",
            "description": "",
            "description_tooltip": null,
            "layout": "IPY_MODEL_eae8d7be90884ccfb1fe567051a13486",
            "max": 612,
            "min": 0,
            "orientation": "horizontal",
            "style": "IPY_MODEL_cdbb74f4f9d746bca8ee61a04baf1058",
            "value": 612
          }
        },
        "d59443775f784010a32d673023c65db7": {
          "model_module": "@jupyter-widgets/controls",
          "model_name": "HTMLModel",
          "model_module_version": "1.5.0",
          "state": {
            "_dom_classes": [],
            "_model_module": "@jupyter-widgets/controls",
            "_model_module_version": "1.5.0",
            "_model_name": "HTMLModel",
            "_view_count": null,
            "_view_module": "@jupyter-widgets/controls",
            "_view_module_version": "1.5.0",
            "_view_name": "HTMLView",
            "description": "",
            "description_tooltip": null,
            "layout": "IPY_MODEL_2e41afef654746f7b89af76d3608e064",
            "placeholder": "​",
            "style": "IPY_MODEL_570be8ef6cbb46faa974fb2c2ab0be1d",
            "value": " 612/612 [00:00&lt;00:00, 43.4kB/s]"
          }
        },
        "1e49d41a521641dc9e98bcbb0809e7e7": {
          "model_module": "@jupyter-widgets/base",
          "model_name": "LayoutModel",
          "model_module_version": "1.2.0",
          "state": {
            "_model_module": "@jupyter-widgets/base",
            "_model_module_version": "1.2.0",
            "_model_name": "LayoutModel",
            "_view_count": null,
            "_view_module": "@jupyter-widgets/base",
            "_view_module_version": "1.2.0",
            "_view_name": "LayoutView",
            "align_content": null,
            "align_items": null,
            "align_self": null,
            "border": null,
            "bottom": null,
            "display": null,
            "flex": null,
            "flex_flow": null,
            "grid_area": null,
            "grid_auto_columns": null,
            "grid_auto_flow": null,
            "grid_auto_rows": null,
            "grid_column": null,
            "grid_gap": null,
            "grid_row": null,
            "grid_template_areas": null,
            "grid_template_columns": null,
            "grid_template_rows": null,
            "height": null,
            "justify_content": null,
            "justify_items": null,
            "left": null,
            "margin": null,
            "max_height": null,
            "max_width": null,
            "min_height": null,
            "min_width": null,
            "object_fit": null,
            "object_position": null,
            "order": null,
            "overflow": null,
            "overflow_x": null,
            "overflow_y": null,
            "padding": null,
            "right": null,
            "top": null,
            "visibility": null,
            "width": null
          }
        },
        "15f5aef3fc7f47839fe67dd963b3ff9e": {
          "model_module": "@jupyter-widgets/base",
          "model_name": "LayoutModel",
          "model_module_version": "1.2.0",
          "state": {
            "_model_module": "@jupyter-widgets/base",
            "_model_module_version": "1.2.0",
            "_model_name": "LayoutModel",
            "_view_count": null,
            "_view_module": "@jupyter-widgets/base",
            "_view_module_version": "1.2.0",
            "_view_name": "LayoutView",
            "align_content": null,
            "align_items": null,
            "align_self": null,
            "border": null,
            "bottom": null,
            "display": null,
            "flex": null,
            "flex_flow": null,
            "grid_area": null,
            "grid_auto_columns": null,
            "grid_auto_flow": null,
            "grid_auto_rows": null,
            "grid_column": null,
            "grid_gap": null,
            "grid_row": null,
            "grid_template_areas": null,
            "grid_template_columns": null,
            "grid_template_rows": null,
            "height": null,
            "justify_content": null,
            "justify_items": null,
            "left": null,
            "margin": null,
            "max_height": null,
            "max_width": null,
            "min_height": null,
            "min_width": null,
            "object_fit": null,
            "object_position": null,
            "order": null,
            "overflow": null,
            "overflow_x": null,
            "overflow_y": null,
            "padding": null,
            "right": null,
            "top": null,
            "visibility": null,
            "width": null
          }
        },
        "79b58aa0aa3945acae1bc3ce00248410": {
          "model_module": "@jupyter-widgets/controls",
          "model_name": "DescriptionStyleModel",
          "model_module_version": "1.5.0",
          "state": {
            "_model_module": "@jupyter-widgets/controls",
            "_model_module_version": "1.5.0",
            "_model_name": "DescriptionStyleModel",
            "_view_count": null,
            "_view_module": "@jupyter-widgets/base",
            "_view_module_version": "1.2.0",
            "_view_name": "StyleView",
            "description_width": ""
          }
        },
        "eae8d7be90884ccfb1fe567051a13486": {
          "model_module": "@jupyter-widgets/base",
          "model_name": "LayoutModel",
          "model_module_version": "1.2.0",
          "state": {
            "_model_module": "@jupyter-widgets/base",
            "_model_module_version": "1.2.0",
            "_model_name": "LayoutModel",
            "_view_count": null,
            "_view_module": "@jupyter-widgets/base",
            "_view_module_version": "1.2.0",
            "_view_name": "LayoutView",
            "align_content": null,
            "align_items": null,
            "align_self": null,
            "border": null,
            "bottom": null,
            "display": null,
            "flex": null,
            "flex_flow": null,
            "grid_area": null,
            "grid_auto_columns": null,
            "grid_auto_flow": null,
            "grid_auto_rows": null,
            "grid_column": null,
            "grid_gap": null,
            "grid_row": null,
            "grid_template_areas": null,
            "grid_template_columns": null,
            "grid_template_rows": null,
            "height": null,
            "justify_content": null,
            "justify_items": null,
            "left": null,
            "margin": null,
            "max_height": null,
            "max_width": null,
            "min_height": null,
            "min_width": null,
            "object_fit": null,
            "object_position": null,
            "order": null,
            "overflow": null,
            "overflow_x": null,
            "overflow_y": null,
            "padding": null,
            "right": null,
            "top": null,
            "visibility": null,
            "width": null
          }
        },
        "cdbb74f4f9d746bca8ee61a04baf1058": {
          "model_module": "@jupyter-widgets/controls",
          "model_name": "ProgressStyleModel",
          "model_module_version": "1.5.0",
          "state": {
            "_model_module": "@jupyter-widgets/controls",
            "_model_module_version": "1.5.0",
            "_model_name": "ProgressStyleModel",
            "_view_count": null,
            "_view_module": "@jupyter-widgets/base",
            "_view_module_version": "1.2.0",
            "_view_name": "StyleView",
            "bar_color": null,
            "description_width": ""
          }
        },
        "2e41afef654746f7b89af76d3608e064": {
          "model_module": "@jupyter-widgets/base",
          "model_name": "LayoutModel",
          "model_module_version": "1.2.0",
          "state": {
            "_model_module": "@jupyter-widgets/base",
            "_model_module_version": "1.2.0",
            "_model_name": "LayoutModel",
            "_view_count": null,
            "_view_module": "@jupyter-widgets/base",
            "_view_module_version": "1.2.0",
            "_view_name": "LayoutView",
            "align_content": null,
            "align_items": null,
            "align_self": null,
            "border": null,
            "bottom": null,
            "display": null,
            "flex": null,
            "flex_flow": null,
            "grid_area": null,
            "grid_auto_columns": null,
            "grid_auto_flow": null,
            "grid_auto_rows": null,
            "grid_column": null,
            "grid_gap": null,
            "grid_row": null,
            "grid_template_areas": null,
            "grid_template_columns": null,
            "grid_template_rows": null,
            "height": null,
            "justify_content": null,
            "justify_items": null,
            "left": null,
            "margin": null,
            "max_height": null,
            "max_width": null,
            "min_height": null,
            "min_width": null,
            "object_fit": null,
            "object_position": null,
            "order": null,
            "overflow": null,
            "overflow_x": null,
            "overflow_y": null,
            "padding": null,
            "right": null,
            "top": null,
            "visibility": null,
            "width": null
          }
        },
        "570be8ef6cbb46faa974fb2c2ab0be1d": {
          "model_module": "@jupyter-widgets/controls",
          "model_name": "DescriptionStyleModel",
          "model_module_version": "1.5.0",
          "state": {
            "_model_module": "@jupyter-widgets/controls",
            "_model_module_version": "1.5.0",
            "_model_name": "DescriptionStyleModel",
            "_view_count": null,
            "_view_module": "@jupyter-widgets/base",
            "_view_module_version": "1.2.0",
            "_view_name": "StyleView",
            "description_width": ""
          }
        },
        "5a6bdf01f6e54aa49ac7d7ecf37ded4a": {
          "model_module": "@jupyter-widgets/controls",
          "model_name": "HBoxModel",
          "model_module_version": "1.5.0",
          "state": {
            "_dom_classes": [],
            "_model_module": "@jupyter-widgets/controls",
            "_model_module_version": "1.5.0",
            "_model_name": "HBoxModel",
            "_view_count": null,
            "_view_module": "@jupyter-widgets/controls",
            "_view_module_version": "1.5.0",
            "_view_name": "HBoxView",
            "box_style": "",
            "children": [
              "IPY_MODEL_a7fecac4d0b64365a6bf4e5b4a7759a3",
              "IPY_MODEL_4e4d9c343ec74482b0194ecdef1ce5fc",
              "IPY_MODEL_d134b95b0b584a02ab00f28be3b50d54"
            ],
            "layout": "IPY_MODEL_ca88ea87c0d7496583c084cd35b5c40e"
          }
        },
        "a7fecac4d0b64365a6bf4e5b4a7759a3": {
          "model_module": "@jupyter-widgets/controls",
          "model_name": "HTMLModel",
          "model_module_version": "1.5.0",
          "state": {
            "_dom_classes": [],
            "_model_module": "@jupyter-widgets/controls",
            "_model_module_version": "1.5.0",
            "_model_name": "HTMLModel",
            "_view_count": null,
            "_view_module": "@jupyter-widgets/controls",
            "_view_module_version": "1.5.0",
            "_view_name": "HTMLView",
            "description": "",
            "description_tooltip": null,
            "layout": "IPY_MODEL_dce36f36f96d4f77908fb317f62eab79",
            "placeholder": "​",
            "style": "IPY_MODEL_e889d46b5a0b42acb78fdd401ed38d12",
            "value": "model.safetensors: 100%"
          }
        },
        "4e4d9c343ec74482b0194ecdef1ce5fc": {
          "model_module": "@jupyter-widgets/controls",
          "model_name": "FloatProgressModel",
          "model_module_version": "1.5.0",
          "state": {
            "_dom_classes": [],
            "_model_module": "@jupyter-widgets/controls",
            "_model_module_version": "1.5.0",
            "_model_name": "FloatProgressModel",
            "_view_count": null,
            "_view_module": "@jupyter-widgets/controls",
            "_view_module_version": "1.5.0",
            "_view_name": "ProgressView",
            "bar_style": "success",
            "description": "",
            "description_tooltip": null,
            "layout": "IPY_MODEL_2470c98dc01a4f66b61df27a18dbfd81",
            "max": 90868376,
            "min": 0,
            "orientation": "horizontal",
            "style": "IPY_MODEL_d292bb6ebc084120a6c8bd7134e41b47",
            "value": 90868376
          }
        },
        "d134b95b0b584a02ab00f28be3b50d54": {
          "model_module": "@jupyter-widgets/controls",
          "model_name": "HTMLModel",
          "model_module_version": "1.5.0",
          "state": {
            "_dom_classes": [],
            "_model_module": "@jupyter-widgets/controls",
            "_model_module_version": "1.5.0",
            "_model_name": "HTMLModel",
            "_view_count": null,
            "_view_module": "@jupyter-widgets/controls",
            "_view_module_version": "1.5.0",
            "_view_name": "HTMLView",
            "description": "",
            "description_tooltip": null,
            "layout": "IPY_MODEL_1bcaf0e1569d4b6e89ab8998dfaa694d",
            "placeholder": "​",
            "style": "IPY_MODEL_25cb635607054b52835f0231c924d454",
            "value": " 90.9M/90.9M [00:00&lt;00:00, 114MB/s]"
          }
        },
        "ca88ea87c0d7496583c084cd35b5c40e": {
          "model_module": "@jupyter-widgets/base",
          "model_name": "LayoutModel",
          "model_module_version": "1.2.0",
          "state": {
            "_model_module": "@jupyter-widgets/base",
            "_model_module_version": "1.2.0",
            "_model_name": "LayoutModel",
            "_view_count": null,
            "_view_module": "@jupyter-widgets/base",
            "_view_module_version": "1.2.0",
            "_view_name": "LayoutView",
            "align_content": null,
            "align_items": null,
            "align_self": null,
            "border": null,
            "bottom": null,
            "display": null,
            "flex": null,
            "flex_flow": null,
            "grid_area": null,
            "grid_auto_columns": null,
            "grid_auto_flow": null,
            "grid_auto_rows": null,
            "grid_column": null,
            "grid_gap": null,
            "grid_row": null,
            "grid_template_areas": null,
            "grid_template_columns": null,
            "grid_template_rows": null,
            "height": null,
            "justify_content": null,
            "justify_items": null,
            "left": null,
            "margin": null,
            "max_height": null,
            "max_width": null,
            "min_height": null,
            "min_width": null,
            "object_fit": null,
            "object_position": null,
            "order": null,
            "overflow": null,
            "overflow_x": null,
            "overflow_y": null,
            "padding": null,
            "right": null,
            "top": null,
            "visibility": null,
            "width": null
          }
        },
        "dce36f36f96d4f77908fb317f62eab79": {
          "model_module": "@jupyter-widgets/base",
          "model_name": "LayoutModel",
          "model_module_version": "1.2.0",
          "state": {
            "_model_module": "@jupyter-widgets/base",
            "_model_module_version": "1.2.0",
            "_model_name": "LayoutModel",
            "_view_count": null,
            "_view_module": "@jupyter-widgets/base",
            "_view_module_version": "1.2.0",
            "_view_name": "LayoutView",
            "align_content": null,
            "align_items": null,
            "align_self": null,
            "border": null,
            "bottom": null,
            "display": null,
            "flex": null,
            "flex_flow": null,
            "grid_area": null,
            "grid_auto_columns": null,
            "grid_auto_flow": null,
            "grid_auto_rows": null,
            "grid_column": null,
            "grid_gap": null,
            "grid_row": null,
            "grid_template_areas": null,
            "grid_template_columns": null,
            "grid_template_rows": null,
            "height": null,
            "justify_content": null,
            "justify_items": null,
            "left": null,
            "margin": null,
            "max_height": null,
            "max_width": null,
            "min_height": null,
            "min_width": null,
            "object_fit": null,
            "object_position": null,
            "order": null,
            "overflow": null,
            "overflow_x": null,
            "overflow_y": null,
            "padding": null,
            "right": null,
            "top": null,
            "visibility": null,
            "width": null
          }
        },
        "e889d46b5a0b42acb78fdd401ed38d12": {
          "model_module": "@jupyter-widgets/controls",
          "model_name": "DescriptionStyleModel",
          "model_module_version": "1.5.0",
          "state": {
            "_model_module": "@jupyter-widgets/controls",
            "_model_module_version": "1.5.0",
            "_model_name": "DescriptionStyleModel",
            "_view_count": null,
            "_view_module": "@jupyter-widgets/base",
            "_view_module_version": "1.2.0",
            "_view_name": "StyleView",
            "description_width": ""
          }
        },
        "2470c98dc01a4f66b61df27a18dbfd81": {
          "model_module": "@jupyter-widgets/base",
          "model_name": "LayoutModel",
          "model_module_version": "1.2.0",
          "state": {
            "_model_module": "@jupyter-widgets/base",
            "_model_module_version": "1.2.0",
            "_model_name": "LayoutModel",
            "_view_count": null,
            "_view_module": "@jupyter-widgets/base",
            "_view_module_version": "1.2.0",
            "_view_name": "LayoutView",
            "align_content": null,
            "align_items": null,
            "align_self": null,
            "border": null,
            "bottom": null,
            "display": null,
            "flex": null,
            "flex_flow": null,
            "grid_area": null,
            "grid_auto_columns": null,
            "grid_auto_flow": null,
            "grid_auto_rows": null,
            "grid_column": null,
            "grid_gap": null,
            "grid_row": null,
            "grid_template_areas": null,
            "grid_template_columns": null,
            "grid_template_rows": null,
            "height": null,
            "justify_content": null,
            "justify_items": null,
            "left": null,
            "margin": null,
            "max_height": null,
            "max_width": null,
            "min_height": null,
            "min_width": null,
            "object_fit": null,
            "object_position": null,
            "order": null,
            "overflow": null,
            "overflow_x": null,
            "overflow_y": null,
            "padding": null,
            "right": null,
            "top": null,
            "visibility": null,
            "width": null
          }
        },
        "d292bb6ebc084120a6c8bd7134e41b47": {
          "model_module": "@jupyter-widgets/controls",
          "model_name": "ProgressStyleModel",
          "model_module_version": "1.5.0",
          "state": {
            "_model_module": "@jupyter-widgets/controls",
            "_model_module_version": "1.5.0",
            "_model_name": "ProgressStyleModel",
            "_view_count": null,
            "_view_module": "@jupyter-widgets/base",
            "_view_module_version": "1.2.0",
            "_view_name": "StyleView",
            "bar_color": null,
            "description_width": ""
          }
        },
        "1bcaf0e1569d4b6e89ab8998dfaa694d": {
          "model_module": "@jupyter-widgets/base",
          "model_name": "LayoutModel",
          "model_module_version": "1.2.0",
          "state": {
            "_model_module": "@jupyter-widgets/base",
            "_model_module_version": "1.2.0",
            "_model_name": "LayoutModel",
            "_view_count": null,
            "_view_module": "@jupyter-widgets/base",
            "_view_module_version": "1.2.0",
            "_view_name": "LayoutView",
            "align_content": null,
            "align_items": null,
            "align_self": null,
            "border": null,
            "bottom": null,
            "display": null,
            "flex": null,
            "flex_flow": null,
            "grid_area": null,
            "grid_auto_columns": null,
            "grid_auto_flow": null,
            "grid_auto_rows": null,
            "grid_column": null,
            "grid_gap": null,
            "grid_row": null,
            "grid_template_areas": null,
            "grid_template_columns": null,
            "grid_template_rows": null,
            "height": null,
            "justify_content": null,
            "justify_items": null,
            "left": null,
            "margin": null,
            "max_height": null,
            "max_width": null,
            "min_height": null,
            "min_width": null,
            "object_fit": null,
            "object_position": null,
            "order": null,
            "overflow": null,
            "overflow_x": null,
            "overflow_y": null,
            "padding": null,
            "right": null,
            "top": null,
            "visibility": null,
            "width": null
          }
        },
        "25cb635607054b52835f0231c924d454": {
          "model_module": "@jupyter-widgets/controls",
          "model_name": "DescriptionStyleModel",
          "model_module_version": "1.5.0",
          "state": {
            "_model_module": "@jupyter-widgets/controls",
            "_model_module_version": "1.5.0",
            "_model_name": "DescriptionStyleModel",
            "_view_count": null,
            "_view_module": "@jupyter-widgets/base",
            "_view_module_version": "1.2.0",
            "_view_name": "StyleView",
            "description_width": ""
          }
        },
        "24d7974e6fd14e818eaeb15b12f32f21": {
          "model_module": "@jupyter-widgets/controls",
          "model_name": "HBoxModel",
          "model_module_version": "1.5.0",
          "state": {
            "_dom_classes": [],
            "_model_module": "@jupyter-widgets/controls",
            "_model_module_version": "1.5.0",
            "_model_name": "HBoxModel",
            "_view_count": null,
            "_view_module": "@jupyter-widgets/controls",
            "_view_module_version": "1.5.0",
            "_view_name": "HBoxView",
            "box_style": "",
            "children": [
              "IPY_MODEL_5abce12d1adb4a018b8b5c8eb5bc8bc7",
              "IPY_MODEL_4cff9853a5034d9a9e200968f8f7cb4a",
              "IPY_MODEL_3e7992cb90f940828a8e88cfe615eb72"
            ],
            "layout": "IPY_MODEL_d8654db5a928482a9179f4dd6e50a6ad"
          }
        },
        "5abce12d1adb4a018b8b5c8eb5bc8bc7": {
          "model_module": "@jupyter-widgets/controls",
          "model_name": "HTMLModel",
          "model_module_version": "1.5.0",
          "state": {
            "_dom_classes": [],
            "_model_module": "@jupyter-widgets/controls",
            "_model_module_version": "1.5.0",
            "_model_name": "HTMLModel",
            "_view_count": null,
            "_view_module": "@jupyter-widgets/controls",
            "_view_module_version": "1.5.0",
            "_view_name": "HTMLView",
            "description": "",
            "description_tooltip": null,
            "layout": "IPY_MODEL_a614e36f32c34906b4086bfba80781d0",
            "placeholder": "​",
            "style": "IPY_MODEL_8f402bc9b4014866a1f3f356e06fc6ed",
            "value": "tokenizer_config.json: 100%"
          }
        },
        "4cff9853a5034d9a9e200968f8f7cb4a": {
          "model_module": "@jupyter-widgets/controls",
          "model_name": "FloatProgressModel",
          "model_module_version": "1.5.0",
          "state": {
            "_dom_classes": [],
            "_model_module": "@jupyter-widgets/controls",
            "_model_module_version": "1.5.0",
            "_model_name": "FloatProgressModel",
            "_view_count": null,
            "_view_module": "@jupyter-widgets/controls",
            "_view_module_version": "1.5.0",
            "_view_name": "ProgressView",
            "bar_style": "success",
            "description": "",
            "description_tooltip": null,
            "layout": "IPY_MODEL_1eb9b5a68c114f06b12ebe28272dc1d5",
            "max": 350,
            "min": 0,
            "orientation": "horizontal",
            "style": "IPY_MODEL_4ced2be104f849acb9cf270612a8c260",
            "value": 350
          }
        },
        "3e7992cb90f940828a8e88cfe615eb72": {
          "model_module": "@jupyter-widgets/controls",
          "model_name": "HTMLModel",
          "model_module_version": "1.5.0",
          "state": {
            "_dom_classes": [],
            "_model_module": "@jupyter-widgets/controls",
            "_model_module_version": "1.5.0",
            "_model_name": "HTMLModel",
            "_view_count": null,
            "_view_module": "@jupyter-widgets/controls",
            "_view_module_version": "1.5.0",
            "_view_name": "HTMLView",
            "description": "",
            "description_tooltip": null,
            "layout": "IPY_MODEL_7052cfef004f4087a4c1d2a94747e7a3",
            "placeholder": "​",
            "style": "IPY_MODEL_6528d96d54c648c2876d14cf9dd95e1b",
            "value": " 350/350 [00:00&lt;00:00, 16.5kB/s]"
          }
        },
        "d8654db5a928482a9179f4dd6e50a6ad": {
          "model_module": "@jupyter-widgets/base",
          "model_name": "LayoutModel",
          "model_module_version": "1.2.0",
          "state": {
            "_model_module": "@jupyter-widgets/base",
            "_model_module_version": "1.2.0",
            "_model_name": "LayoutModel",
            "_view_count": null,
            "_view_module": "@jupyter-widgets/base",
            "_view_module_version": "1.2.0",
            "_view_name": "LayoutView",
            "align_content": null,
            "align_items": null,
            "align_self": null,
            "border": null,
            "bottom": null,
            "display": null,
            "flex": null,
            "flex_flow": null,
            "grid_area": null,
            "grid_auto_columns": null,
            "grid_auto_flow": null,
            "grid_auto_rows": null,
            "grid_column": null,
            "grid_gap": null,
            "grid_row": null,
            "grid_template_areas": null,
            "grid_template_columns": null,
            "grid_template_rows": null,
            "height": null,
            "justify_content": null,
            "justify_items": null,
            "left": null,
            "margin": null,
            "max_height": null,
            "max_width": null,
            "min_height": null,
            "min_width": null,
            "object_fit": null,
            "object_position": null,
            "order": null,
            "overflow": null,
            "overflow_x": null,
            "overflow_y": null,
            "padding": null,
            "right": null,
            "top": null,
            "visibility": null,
            "width": null
          }
        },
        "a614e36f32c34906b4086bfba80781d0": {
          "model_module": "@jupyter-widgets/base",
          "model_name": "LayoutModel",
          "model_module_version": "1.2.0",
          "state": {
            "_model_module": "@jupyter-widgets/base",
            "_model_module_version": "1.2.0",
            "_model_name": "LayoutModel",
            "_view_count": null,
            "_view_module": "@jupyter-widgets/base",
            "_view_module_version": "1.2.0",
            "_view_name": "LayoutView",
            "align_content": null,
            "align_items": null,
            "align_self": null,
            "border": null,
            "bottom": null,
            "display": null,
            "flex": null,
            "flex_flow": null,
            "grid_area": null,
            "grid_auto_columns": null,
            "grid_auto_flow": null,
            "grid_auto_rows": null,
            "grid_column": null,
            "grid_gap": null,
            "grid_row": null,
            "grid_template_areas": null,
            "grid_template_columns": null,
            "grid_template_rows": null,
            "height": null,
            "justify_content": null,
            "justify_items": null,
            "left": null,
            "margin": null,
            "max_height": null,
            "max_width": null,
            "min_height": null,
            "min_width": null,
            "object_fit": null,
            "object_position": null,
            "order": null,
            "overflow": null,
            "overflow_x": null,
            "overflow_y": null,
            "padding": null,
            "right": null,
            "top": null,
            "visibility": null,
            "width": null
          }
        },
        "8f402bc9b4014866a1f3f356e06fc6ed": {
          "model_module": "@jupyter-widgets/controls",
          "model_name": "DescriptionStyleModel",
          "model_module_version": "1.5.0",
          "state": {
            "_model_module": "@jupyter-widgets/controls",
            "_model_module_version": "1.5.0",
            "_model_name": "DescriptionStyleModel",
            "_view_count": null,
            "_view_module": "@jupyter-widgets/base",
            "_view_module_version": "1.2.0",
            "_view_name": "StyleView",
            "description_width": ""
          }
        },
        "1eb9b5a68c114f06b12ebe28272dc1d5": {
          "model_module": "@jupyter-widgets/base",
          "model_name": "LayoutModel",
          "model_module_version": "1.2.0",
          "state": {
            "_model_module": "@jupyter-widgets/base",
            "_model_module_version": "1.2.0",
            "_model_name": "LayoutModel",
            "_view_count": null,
            "_view_module": "@jupyter-widgets/base",
            "_view_module_version": "1.2.0",
            "_view_name": "LayoutView",
            "align_content": null,
            "align_items": null,
            "align_self": null,
            "border": null,
            "bottom": null,
            "display": null,
            "flex": null,
            "flex_flow": null,
            "grid_area": null,
            "grid_auto_columns": null,
            "grid_auto_flow": null,
            "grid_auto_rows": null,
            "grid_column": null,
            "grid_gap": null,
            "grid_row": null,
            "grid_template_areas": null,
            "grid_template_columns": null,
            "grid_template_rows": null,
            "height": null,
            "justify_content": null,
            "justify_items": null,
            "left": null,
            "margin": null,
            "max_height": null,
            "max_width": null,
            "min_height": null,
            "min_width": null,
            "object_fit": null,
            "object_position": null,
            "order": null,
            "overflow": null,
            "overflow_x": null,
            "overflow_y": null,
            "padding": null,
            "right": null,
            "top": null,
            "visibility": null,
            "width": null
          }
        },
        "4ced2be104f849acb9cf270612a8c260": {
          "model_module": "@jupyter-widgets/controls",
          "model_name": "ProgressStyleModel",
          "model_module_version": "1.5.0",
          "state": {
            "_model_module": "@jupyter-widgets/controls",
            "_model_module_version": "1.5.0",
            "_model_name": "ProgressStyleModel",
            "_view_count": null,
            "_view_module": "@jupyter-widgets/base",
            "_view_module_version": "1.2.0",
            "_view_name": "StyleView",
            "bar_color": null,
            "description_width": ""
          }
        },
        "7052cfef004f4087a4c1d2a94747e7a3": {
          "model_module": "@jupyter-widgets/base",
          "model_name": "LayoutModel",
          "model_module_version": "1.2.0",
          "state": {
            "_model_module": "@jupyter-widgets/base",
            "_model_module_version": "1.2.0",
            "_model_name": "LayoutModel",
            "_view_count": null,
            "_view_module": "@jupyter-widgets/base",
            "_view_module_version": "1.2.0",
            "_view_name": "LayoutView",
            "align_content": null,
            "align_items": null,
            "align_self": null,
            "border": null,
            "bottom": null,
            "display": null,
            "flex": null,
            "flex_flow": null,
            "grid_area": null,
            "grid_auto_columns": null,
            "grid_auto_flow": null,
            "grid_auto_rows": null,
            "grid_column": null,
            "grid_gap": null,
            "grid_row": null,
            "grid_template_areas": null,
            "grid_template_columns": null,
            "grid_template_rows": null,
            "height": null,
            "justify_content": null,
            "justify_items": null,
            "left": null,
            "margin": null,
            "max_height": null,
            "max_width": null,
            "min_height": null,
            "min_width": null,
            "object_fit": null,
            "object_position": null,
            "order": null,
            "overflow": null,
            "overflow_x": null,
            "overflow_y": null,
            "padding": null,
            "right": null,
            "top": null,
            "visibility": null,
            "width": null
          }
        },
        "6528d96d54c648c2876d14cf9dd95e1b": {
          "model_module": "@jupyter-widgets/controls",
          "model_name": "DescriptionStyleModel",
          "model_module_version": "1.5.0",
          "state": {
            "_model_module": "@jupyter-widgets/controls",
            "_model_module_version": "1.5.0",
            "_model_name": "DescriptionStyleModel",
            "_view_count": null,
            "_view_module": "@jupyter-widgets/base",
            "_view_module_version": "1.2.0",
            "_view_name": "StyleView",
            "description_width": ""
          }
        },
        "de0929ea1d4346f5951e0d8cd2a2b8cf": {
          "model_module": "@jupyter-widgets/controls",
          "model_name": "HBoxModel",
          "model_module_version": "1.5.0",
          "state": {
            "_dom_classes": [],
            "_model_module": "@jupyter-widgets/controls",
            "_model_module_version": "1.5.0",
            "_model_name": "HBoxModel",
            "_view_count": null,
            "_view_module": "@jupyter-widgets/controls",
            "_view_module_version": "1.5.0",
            "_view_name": "HBoxView",
            "box_style": "",
            "children": [
              "IPY_MODEL_7e42b447ce80431fb1af70addb8d8262",
              "IPY_MODEL_a1bd13dc5ccc4161bd053a41e52f01a6",
              "IPY_MODEL_785fe0b0ba324e7aa3ad8914b3d2d750"
            ],
            "layout": "IPY_MODEL_fe8e591685e045e6a661dacb5d86a2b2"
          }
        },
        "7e42b447ce80431fb1af70addb8d8262": {
          "model_module": "@jupyter-widgets/controls",
          "model_name": "HTMLModel",
          "model_module_version": "1.5.0",
          "state": {
            "_dom_classes": [],
            "_model_module": "@jupyter-widgets/controls",
            "_model_module_version": "1.5.0",
            "_model_name": "HTMLModel",
            "_view_count": null,
            "_view_module": "@jupyter-widgets/controls",
            "_view_module_version": "1.5.0",
            "_view_name": "HTMLView",
            "description": "",
            "description_tooltip": null,
            "layout": "IPY_MODEL_123e85f57938486eb0a77a04655f1420",
            "placeholder": "​",
            "style": "IPY_MODEL_affc5387a30a4911a9366fb8f429159b",
            "value": "vocab.txt: 100%"
          }
        },
        "a1bd13dc5ccc4161bd053a41e52f01a6": {
          "model_module": "@jupyter-widgets/controls",
          "model_name": "FloatProgressModel",
          "model_module_version": "1.5.0",
          "state": {
            "_dom_classes": [],
            "_model_module": "@jupyter-widgets/controls",
            "_model_module_version": "1.5.0",
            "_model_name": "FloatProgressModel",
            "_view_count": null,
            "_view_module": "@jupyter-widgets/controls",
            "_view_module_version": "1.5.0",
            "_view_name": "ProgressView",
            "bar_style": "success",
            "description": "",
            "description_tooltip": null,
            "layout": "IPY_MODEL_8ee78a65462d404e94636f9ffb87ce20",
            "max": 231508,
            "min": 0,
            "orientation": "horizontal",
            "style": "IPY_MODEL_929085e44926453185bc2d6a40de8fa2",
            "value": 231508
          }
        },
        "785fe0b0ba324e7aa3ad8914b3d2d750": {
          "model_module": "@jupyter-widgets/controls",
          "model_name": "HTMLModel",
          "model_module_version": "1.5.0",
          "state": {
            "_dom_classes": [],
            "_model_module": "@jupyter-widgets/controls",
            "_model_module_version": "1.5.0",
            "_model_name": "HTMLModel",
            "_view_count": null,
            "_view_module": "@jupyter-widgets/controls",
            "_view_module_version": "1.5.0",
            "_view_name": "HTMLView",
            "description": "",
            "description_tooltip": null,
            "layout": "IPY_MODEL_8b16f0ef104042c8a2c8ab196acb596b",
            "placeholder": "​",
            "style": "IPY_MODEL_eea108ffb16a4ce0bca9cd3942a3e600",
            "value": " 232k/232k [00:00&lt;00:00, 5.51MB/s]"
          }
        },
        "fe8e591685e045e6a661dacb5d86a2b2": {
          "model_module": "@jupyter-widgets/base",
          "model_name": "LayoutModel",
          "model_module_version": "1.2.0",
          "state": {
            "_model_module": "@jupyter-widgets/base",
            "_model_module_version": "1.2.0",
            "_model_name": "LayoutModel",
            "_view_count": null,
            "_view_module": "@jupyter-widgets/base",
            "_view_module_version": "1.2.0",
            "_view_name": "LayoutView",
            "align_content": null,
            "align_items": null,
            "align_self": null,
            "border": null,
            "bottom": null,
            "display": null,
            "flex": null,
            "flex_flow": null,
            "grid_area": null,
            "grid_auto_columns": null,
            "grid_auto_flow": null,
            "grid_auto_rows": null,
            "grid_column": null,
            "grid_gap": null,
            "grid_row": null,
            "grid_template_areas": null,
            "grid_template_columns": null,
            "grid_template_rows": null,
            "height": null,
            "justify_content": null,
            "justify_items": null,
            "left": null,
            "margin": null,
            "max_height": null,
            "max_width": null,
            "min_height": null,
            "min_width": null,
            "object_fit": null,
            "object_position": null,
            "order": null,
            "overflow": null,
            "overflow_x": null,
            "overflow_y": null,
            "padding": null,
            "right": null,
            "top": null,
            "visibility": null,
            "width": null
          }
        },
        "123e85f57938486eb0a77a04655f1420": {
          "model_module": "@jupyter-widgets/base",
          "model_name": "LayoutModel",
          "model_module_version": "1.2.0",
          "state": {
            "_model_module": "@jupyter-widgets/base",
            "_model_module_version": "1.2.0",
            "_model_name": "LayoutModel",
            "_view_count": null,
            "_view_module": "@jupyter-widgets/base",
            "_view_module_version": "1.2.0",
            "_view_name": "LayoutView",
            "align_content": null,
            "align_items": null,
            "align_self": null,
            "border": null,
            "bottom": null,
            "display": null,
            "flex": null,
            "flex_flow": null,
            "grid_area": null,
            "grid_auto_columns": null,
            "grid_auto_flow": null,
            "grid_auto_rows": null,
            "grid_column": null,
            "grid_gap": null,
            "grid_row": null,
            "grid_template_areas": null,
            "grid_template_columns": null,
            "grid_template_rows": null,
            "height": null,
            "justify_content": null,
            "justify_items": null,
            "left": null,
            "margin": null,
            "max_height": null,
            "max_width": null,
            "min_height": null,
            "min_width": null,
            "object_fit": null,
            "object_position": null,
            "order": null,
            "overflow": null,
            "overflow_x": null,
            "overflow_y": null,
            "padding": null,
            "right": null,
            "top": null,
            "visibility": null,
            "width": null
          }
        },
        "affc5387a30a4911a9366fb8f429159b": {
          "model_module": "@jupyter-widgets/controls",
          "model_name": "DescriptionStyleModel",
          "model_module_version": "1.5.0",
          "state": {
            "_model_module": "@jupyter-widgets/controls",
            "_model_module_version": "1.5.0",
            "_model_name": "DescriptionStyleModel",
            "_view_count": null,
            "_view_module": "@jupyter-widgets/base",
            "_view_module_version": "1.2.0",
            "_view_name": "StyleView",
            "description_width": ""
          }
        },
        "8ee78a65462d404e94636f9ffb87ce20": {
          "model_module": "@jupyter-widgets/base",
          "model_name": "LayoutModel",
          "model_module_version": "1.2.0",
          "state": {
            "_model_module": "@jupyter-widgets/base",
            "_model_module_version": "1.2.0",
            "_model_name": "LayoutModel",
            "_view_count": null,
            "_view_module": "@jupyter-widgets/base",
            "_view_module_version": "1.2.0",
            "_view_name": "LayoutView",
            "align_content": null,
            "align_items": null,
            "align_self": null,
            "border": null,
            "bottom": null,
            "display": null,
            "flex": null,
            "flex_flow": null,
            "grid_area": null,
            "grid_auto_columns": null,
            "grid_auto_flow": null,
            "grid_auto_rows": null,
            "grid_column": null,
            "grid_gap": null,
            "grid_row": null,
            "grid_template_areas": null,
            "grid_template_columns": null,
            "grid_template_rows": null,
            "height": null,
            "justify_content": null,
            "justify_items": null,
            "left": null,
            "margin": null,
            "max_height": null,
            "max_width": null,
            "min_height": null,
            "min_width": null,
            "object_fit": null,
            "object_position": null,
            "order": null,
            "overflow": null,
            "overflow_x": null,
            "overflow_y": null,
            "padding": null,
            "right": null,
            "top": null,
            "visibility": null,
            "width": null
          }
        },
        "929085e44926453185bc2d6a40de8fa2": {
          "model_module": "@jupyter-widgets/controls",
          "model_name": "ProgressStyleModel",
          "model_module_version": "1.5.0",
          "state": {
            "_model_module": "@jupyter-widgets/controls",
            "_model_module_version": "1.5.0",
            "_model_name": "ProgressStyleModel",
            "_view_count": null,
            "_view_module": "@jupyter-widgets/base",
            "_view_module_version": "1.2.0",
            "_view_name": "StyleView",
            "bar_color": null,
            "description_width": ""
          }
        },
        "8b16f0ef104042c8a2c8ab196acb596b": {
          "model_module": "@jupyter-widgets/base",
          "model_name": "LayoutModel",
          "model_module_version": "1.2.0",
          "state": {
            "_model_module": "@jupyter-widgets/base",
            "_model_module_version": "1.2.0",
            "_model_name": "LayoutModel",
            "_view_count": null,
            "_view_module": "@jupyter-widgets/base",
            "_view_module_version": "1.2.0",
            "_view_name": "LayoutView",
            "align_content": null,
            "align_items": null,
            "align_self": null,
            "border": null,
            "bottom": null,
            "display": null,
            "flex": null,
            "flex_flow": null,
            "grid_area": null,
            "grid_auto_columns": null,
            "grid_auto_flow": null,
            "grid_auto_rows": null,
            "grid_column": null,
            "grid_gap": null,
            "grid_row": null,
            "grid_template_areas": null,
            "grid_template_columns": null,
            "grid_template_rows": null,
            "height": null,
            "justify_content": null,
            "justify_items": null,
            "left": null,
            "margin": null,
            "max_height": null,
            "max_width": null,
            "min_height": null,
            "min_width": null,
            "object_fit": null,
            "object_position": null,
            "order": null,
            "overflow": null,
            "overflow_x": null,
            "overflow_y": null,
            "padding": null,
            "right": null,
            "top": null,
            "visibility": null,
            "width": null
          }
        },
        "eea108ffb16a4ce0bca9cd3942a3e600": {
          "model_module": "@jupyter-widgets/controls",
          "model_name": "DescriptionStyleModel",
          "model_module_version": "1.5.0",
          "state": {
            "_model_module": "@jupyter-widgets/controls",
            "_model_module_version": "1.5.0",
            "_model_name": "DescriptionStyleModel",
            "_view_count": null,
            "_view_module": "@jupyter-widgets/base",
            "_view_module_version": "1.2.0",
            "_view_name": "StyleView",
            "description_width": ""
          }
        },
        "7b7a9d29508f4e798840f754b43efc6b": {
          "model_module": "@jupyter-widgets/controls",
          "model_name": "HBoxModel",
          "model_module_version": "1.5.0",
          "state": {
            "_dom_classes": [],
            "_model_module": "@jupyter-widgets/controls",
            "_model_module_version": "1.5.0",
            "_model_name": "HBoxModel",
            "_view_count": null,
            "_view_module": "@jupyter-widgets/controls",
            "_view_module_version": "1.5.0",
            "_view_name": "HBoxView",
            "box_style": "",
            "children": [
              "IPY_MODEL_2bdc059e631f494f8947099048320b6f",
              "IPY_MODEL_12dd5e6f35a9465d9c513cbd724b6e7b",
              "IPY_MODEL_4781c419b650436eaec2c6542fd0c326"
            ],
            "layout": "IPY_MODEL_67f0d2c44ad84973a8ad40f28687f590"
          }
        },
        "2bdc059e631f494f8947099048320b6f": {
          "model_module": "@jupyter-widgets/controls",
          "model_name": "HTMLModel",
          "model_module_version": "1.5.0",
          "state": {
            "_dom_classes": [],
            "_model_module": "@jupyter-widgets/controls",
            "_model_module_version": "1.5.0",
            "_model_name": "HTMLModel",
            "_view_count": null,
            "_view_module": "@jupyter-widgets/controls",
            "_view_module_version": "1.5.0",
            "_view_name": "HTMLView",
            "description": "",
            "description_tooltip": null,
            "layout": "IPY_MODEL_abdacd54691d46b29e475b563dd81ea8",
            "placeholder": "​",
            "style": "IPY_MODEL_963b3b670c8d4408a4050b1062697d50",
            "value": "tokenizer.json: 100%"
          }
        },
        "12dd5e6f35a9465d9c513cbd724b6e7b": {
          "model_module": "@jupyter-widgets/controls",
          "model_name": "FloatProgressModel",
          "model_module_version": "1.5.0",
          "state": {
            "_dom_classes": [],
            "_model_module": "@jupyter-widgets/controls",
            "_model_module_version": "1.5.0",
            "_model_name": "FloatProgressModel",
            "_view_count": null,
            "_view_module": "@jupyter-widgets/controls",
            "_view_module_version": "1.5.0",
            "_view_name": "ProgressView",
            "bar_style": "success",
            "description": "",
            "description_tooltip": null,
            "layout": "IPY_MODEL_f5eff345ee6f4a4bbc1b75e706d2442d",
            "max": 466247,
            "min": 0,
            "orientation": "horizontal",
            "style": "IPY_MODEL_2536a6462fe94348983d1a396daf35fe",
            "value": 466247
          }
        },
        "4781c419b650436eaec2c6542fd0c326": {
          "model_module": "@jupyter-widgets/controls",
          "model_name": "HTMLModel",
          "model_module_version": "1.5.0",
          "state": {
            "_dom_classes": [],
            "_model_module": "@jupyter-widgets/controls",
            "_model_module_version": "1.5.0",
            "_model_name": "HTMLModel",
            "_view_count": null,
            "_view_module": "@jupyter-widgets/controls",
            "_view_module_version": "1.5.0",
            "_view_name": "HTMLView",
            "description": "",
            "description_tooltip": null,
            "layout": "IPY_MODEL_0ffb4fad38f0423892b855c89ca977c3",
            "placeholder": "​",
            "style": "IPY_MODEL_cef6a7ea62ed408ea18c76b2156bda24",
            "value": " 466k/466k [00:00&lt;00:00, 23.6MB/s]"
          }
        },
        "67f0d2c44ad84973a8ad40f28687f590": {
          "model_module": "@jupyter-widgets/base",
          "model_name": "LayoutModel",
          "model_module_version": "1.2.0",
          "state": {
            "_model_module": "@jupyter-widgets/base",
            "_model_module_version": "1.2.0",
            "_model_name": "LayoutModel",
            "_view_count": null,
            "_view_module": "@jupyter-widgets/base",
            "_view_module_version": "1.2.0",
            "_view_name": "LayoutView",
            "align_content": null,
            "align_items": null,
            "align_self": null,
            "border": null,
            "bottom": null,
            "display": null,
            "flex": null,
            "flex_flow": null,
            "grid_area": null,
            "grid_auto_columns": null,
            "grid_auto_flow": null,
            "grid_auto_rows": null,
            "grid_column": null,
            "grid_gap": null,
            "grid_row": null,
            "grid_template_areas": null,
            "grid_template_columns": null,
            "grid_template_rows": null,
            "height": null,
            "justify_content": null,
            "justify_items": null,
            "left": null,
            "margin": null,
            "max_height": null,
            "max_width": null,
            "min_height": null,
            "min_width": null,
            "object_fit": null,
            "object_position": null,
            "order": null,
            "overflow": null,
            "overflow_x": null,
            "overflow_y": null,
            "padding": null,
            "right": null,
            "top": null,
            "visibility": null,
            "width": null
          }
        },
        "abdacd54691d46b29e475b563dd81ea8": {
          "model_module": "@jupyter-widgets/base",
          "model_name": "LayoutModel",
          "model_module_version": "1.2.0",
          "state": {
            "_model_module": "@jupyter-widgets/base",
            "_model_module_version": "1.2.0",
            "_model_name": "LayoutModel",
            "_view_count": null,
            "_view_module": "@jupyter-widgets/base",
            "_view_module_version": "1.2.0",
            "_view_name": "LayoutView",
            "align_content": null,
            "align_items": null,
            "align_self": null,
            "border": null,
            "bottom": null,
            "display": null,
            "flex": null,
            "flex_flow": null,
            "grid_area": null,
            "grid_auto_columns": null,
            "grid_auto_flow": null,
            "grid_auto_rows": null,
            "grid_column": null,
            "grid_gap": null,
            "grid_row": null,
            "grid_template_areas": null,
            "grid_template_columns": null,
            "grid_template_rows": null,
            "height": null,
            "justify_content": null,
            "justify_items": null,
            "left": null,
            "margin": null,
            "max_height": null,
            "max_width": null,
            "min_height": null,
            "min_width": null,
            "object_fit": null,
            "object_position": null,
            "order": null,
            "overflow": null,
            "overflow_x": null,
            "overflow_y": null,
            "padding": null,
            "right": null,
            "top": null,
            "visibility": null,
            "width": null
          }
        },
        "963b3b670c8d4408a4050b1062697d50": {
          "model_module": "@jupyter-widgets/controls",
          "model_name": "DescriptionStyleModel",
          "model_module_version": "1.5.0",
          "state": {
            "_model_module": "@jupyter-widgets/controls",
            "_model_module_version": "1.5.0",
            "_model_name": "DescriptionStyleModel",
            "_view_count": null,
            "_view_module": "@jupyter-widgets/base",
            "_view_module_version": "1.2.0",
            "_view_name": "StyleView",
            "description_width": ""
          }
        },
        "f5eff345ee6f4a4bbc1b75e706d2442d": {
          "model_module": "@jupyter-widgets/base",
          "model_name": "LayoutModel",
          "model_module_version": "1.2.0",
          "state": {
            "_model_module": "@jupyter-widgets/base",
            "_model_module_version": "1.2.0",
            "_model_name": "LayoutModel",
            "_view_count": null,
            "_view_module": "@jupyter-widgets/base",
            "_view_module_version": "1.2.0",
            "_view_name": "LayoutView",
            "align_content": null,
            "align_items": null,
            "align_self": null,
            "border": null,
            "bottom": null,
            "display": null,
            "flex": null,
            "flex_flow": null,
            "grid_area": null,
            "grid_auto_columns": null,
            "grid_auto_flow": null,
            "grid_auto_rows": null,
            "grid_column": null,
            "grid_gap": null,
            "grid_row": null,
            "grid_template_areas": null,
            "grid_template_columns": null,
            "grid_template_rows": null,
            "height": null,
            "justify_content": null,
            "justify_items": null,
            "left": null,
            "margin": null,
            "max_height": null,
            "max_width": null,
            "min_height": null,
            "min_width": null,
            "object_fit": null,
            "object_position": null,
            "order": null,
            "overflow": null,
            "overflow_x": null,
            "overflow_y": null,
            "padding": null,
            "right": null,
            "top": null,
            "visibility": null,
            "width": null
          }
        },
        "2536a6462fe94348983d1a396daf35fe": {
          "model_module": "@jupyter-widgets/controls",
          "model_name": "ProgressStyleModel",
          "model_module_version": "1.5.0",
          "state": {
            "_model_module": "@jupyter-widgets/controls",
            "_model_module_version": "1.5.0",
            "_model_name": "ProgressStyleModel",
            "_view_count": null,
            "_view_module": "@jupyter-widgets/base",
            "_view_module_version": "1.2.0",
            "_view_name": "StyleView",
            "bar_color": null,
            "description_width": ""
          }
        },
        "0ffb4fad38f0423892b855c89ca977c3": {
          "model_module": "@jupyter-widgets/base",
          "model_name": "LayoutModel",
          "model_module_version": "1.2.0",
          "state": {
            "_model_module": "@jupyter-widgets/base",
            "_model_module_version": "1.2.0",
            "_model_name": "LayoutModel",
            "_view_count": null,
            "_view_module": "@jupyter-widgets/base",
            "_view_module_version": "1.2.0",
            "_view_name": "LayoutView",
            "align_content": null,
            "align_items": null,
            "align_self": null,
            "border": null,
            "bottom": null,
            "display": null,
            "flex": null,
            "flex_flow": null,
            "grid_area": null,
            "grid_auto_columns": null,
            "grid_auto_flow": null,
            "grid_auto_rows": null,
            "grid_column": null,
            "grid_gap": null,
            "grid_row": null,
            "grid_template_areas": null,
            "grid_template_columns": null,
            "grid_template_rows": null,
            "height": null,
            "justify_content": null,
            "justify_items": null,
            "left": null,
            "margin": null,
            "max_height": null,
            "max_width": null,
            "min_height": null,
            "min_width": null,
            "object_fit": null,
            "object_position": null,
            "order": null,
            "overflow": null,
            "overflow_x": null,
            "overflow_y": null,
            "padding": null,
            "right": null,
            "top": null,
            "visibility": null,
            "width": null
          }
        },
        "cef6a7ea62ed408ea18c76b2156bda24": {
          "model_module": "@jupyter-widgets/controls",
          "model_name": "DescriptionStyleModel",
          "model_module_version": "1.5.0",
          "state": {
            "_model_module": "@jupyter-widgets/controls",
            "_model_module_version": "1.5.0",
            "_model_name": "DescriptionStyleModel",
            "_view_count": null,
            "_view_module": "@jupyter-widgets/base",
            "_view_module_version": "1.2.0",
            "_view_name": "StyleView",
            "description_width": ""
          }
        },
        "dc254a7805024db791f72d38a18171e2": {
          "model_module": "@jupyter-widgets/controls",
          "model_name": "HBoxModel",
          "model_module_version": "1.5.0",
          "state": {
            "_dom_classes": [],
            "_model_module": "@jupyter-widgets/controls",
            "_model_module_version": "1.5.0",
            "_model_name": "HBoxModel",
            "_view_count": null,
            "_view_module": "@jupyter-widgets/controls",
            "_view_module_version": "1.5.0",
            "_view_name": "HBoxView",
            "box_style": "",
            "children": [
              "IPY_MODEL_15830c8732174380b0d9133cb6989575",
              "IPY_MODEL_18d9976a857d4d4f8c05477662593af4",
              "IPY_MODEL_c7857e06ac134b9f924ea2bac470cad9"
            ],
            "layout": "IPY_MODEL_4e10a23c300e4074bccca84ed106b0f3"
          }
        },
        "15830c8732174380b0d9133cb6989575": {
          "model_module": "@jupyter-widgets/controls",
          "model_name": "HTMLModel",
          "model_module_version": "1.5.0",
          "state": {
            "_dom_classes": [],
            "_model_module": "@jupyter-widgets/controls",
            "_model_module_version": "1.5.0",
            "_model_name": "HTMLModel",
            "_view_count": null,
            "_view_module": "@jupyter-widgets/controls",
            "_view_module_version": "1.5.0",
            "_view_name": "HTMLView",
            "description": "",
            "description_tooltip": null,
            "layout": "IPY_MODEL_90dcd7ea95e844fd9e7b8224521d28d6",
            "placeholder": "​",
            "style": "IPY_MODEL_3c7f6562131244cd8b40519cf9bba608",
            "value": "special_tokens_map.json: 100%"
          }
        },
        "18d9976a857d4d4f8c05477662593af4": {
          "model_module": "@jupyter-widgets/controls",
          "model_name": "FloatProgressModel",
          "model_module_version": "1.5.0",
          "state": {
            "_dom_classes": [],
            "_model_module": "@jupyter-widgets/controls",
            "_model_module_version": "1.5.0",
            "_model_name": "FloatProgressModel",
            "_view_count": null,
            "_view_module": "@jupyter-widgets/controls",
            "_view_module_version": "1.5.0",
            "_view_name": "ProgressView",
            "bar_style": "success",
            "description": "",
            "description_tooltip": null,
            "layout": "IPY_MODEL_a47f6c571bee429f9e8c6576633537ee",
            "max": 112,
            "min": 0,
            "orientation": "horizontal",
            "style": "IPY_MODEL_9e91e2c066c14299b1daa69d29679377",
            "value": 112
          }
        },
        "c7857e06ac134b9f924ea2bac470cad9": {
          "model_module": "@jupyter-widgets/controls",
          "model_name": "HTMLModel",
          "model_module_version": "1.5.0",
          "state": {
            "_dom_classes": [],
            "_model_module": "@jupyter-widgets/controls",
            "_model_module_version": "1.5.0",
            "_model_name": "HTMLModel",
            "_view_count": null,
            "_view_module": "@jupyter-widgets/controls",
            "_view_module_version": "1.5.0",
            "_view_name": "HTMLView",
            "description": "",
            "description_tooltip": null,
            "layout": "IPY_MODEL_867a5ec35401402d8a3c7280e5ad211d",
            "placeholder": "​",
            "style": "IPY_MODEL_8669a9502981417db365c93ba4389135",
            "value": " 112/112 [00:00&lt;00:00, 7.73kB/s]"
          }
        },
        "4e10a23c300e4074bccca84ed106b0f3": {
          "model_module": "@jupyter-widgets/base",
          "model_name": "LayoutModel",
          "model_module_version": "1.2.0",
          "state": {
            "_model_module": "@jupyter-widgets/base",
            "_model_module_version": "1.2.0",
            "_model_name": "LayoutModel",
            "_view_count": null,
            "_view_module": "@jupyter-widgets/base",
            "_view_module_version": "1.2.0",
            "_view_name": "LayoutView",
            "align_content": null,
            "align_items": null,
            "align_self": null,
            "border": null,
            "bottom": null,
            "display": null,
            "flex": null,
            "flex_flow": null,
            "grid_area": null,
            "grid_auto_columns": null,
            "grid_auto_flow": null,
            "grid_auto_rows": null,
            "grid_column": null,
            "grid_gap": null,
            "grid_row": null,
            "grid_template_areas": null,
            "grid_template_columns": null,
            "grid_template_rows": null,
            "height": null,
            "justify_content": null,
            "justify_items": null,
            "left": null,
            "margin": null,
            "max_height": null,
            "max_width": null,
            "min_height": null,
            "min_width": null,
            "object_fit": null,
            "object_position": null,
            "order": null,
            "overflow": null,
            "overflow_x": null,
            "overflow_y": null,
            "padding": null,
            "right": null,
            "top": null,
            "visibility": null,
            "width": null
          }
        },
        "90dcd7ea95e844fd9e7b8224521d28d6": {
          "model_module": "@jupyter-widgets/base",
          "model_name": "LayoutModel",
          "model_module_version": "1.2.0",
          "state": {
            "_model_module": "@jupyter-widgets/base",
            "_model_module_version": "1.2.0",
            "_model_name": "LayoutModel",
            "_view_count": null,
            "_view_module": "@jupyter-widgets/base",
            "_view_module_version": "1.2.0",
            "_view_name": "LayoutView",
            "align_content": null,
            "align_items": null,
            "align_self": null,
            "border": null,
            "bottom": null,
            "display": null,
            "flex": null,
            "flex_flow": null,
            "grid_area": null,
            "grid_auto_columns": null,
            "grid_auto_flow": null,
            "grid_auto_rows": null,
            "grid_column": null,
            "grid_gap": null,
            "grid_row": null,
            "grid_template_areas": null,
            "grid_template_columns": null,
            "grid_template_rows": null,
            "height": null,
            "justify_content": null,
            "justify_items": null,
            "left": null,
            "margin": null,
            "max_height": null,
            "max_width": null,
            "min_height": null,
            "min_width": null,
            "object_fit": null,
            "object_position": null,
            "order": null,
            "overflow": null,
            "overflow_x": null,
            "overflow_y": null,
            "padding": null,
            "right": null,
            "top": null,
            "visibility": null,
            "width": null
          }
        },
        "3c7f6562131244cd8b40519cf9bba608": {
          "model_module": "@jupyter-widgets/controls",
          "model_name": "DescriptionStyleModel",
          "model_module_version": "1.5.0",
          "state": {
            "_model_module": "@jupyter-widgets/controls",
            "_model_module_version": "1.5.0",
            "_model_name": "DescriptionStyleModel",
            "_view_count": null,
            "_view_module": "@jupyter-widgets/base",
            "_view_module_version": "1.2.0",
            "_view_name": "StyleView",
            "description_width": ""
          }
        },
        "a47f6c571bee429f9e8c6576633537ee": {
          "model_module": "@jupyter-widgets/base",
          "model_name": "LayoutModel",
          "model_module_version": "1.2.0",
          "state": {
            "_model_module": "@jupyter-widgets/base",
            "_model_module_version": "1.2.0",
            "_model_name": "LayoutModel",
            "_view_count": null,
            "_view_module": "@jupyter-widgets/base",
            "_view_module_version": "1.2.0",
            "_view_name": "LayoutView",
            "align_content": null,
            "align_items": null,
            "align_self": null,
            "border": null,
            "bottom": null,
            "display": null,
            "flex": null,
            "flex_flow": null,
            "grid_area": null,
            "grid_auto_columns": null,
            "grid_auto_flow": null,
            "grid_auto_rows": null,
            "grid_column": null,
            "grid_gap": null,
            "grid_row": null,
            "grid_template_areas": null,
            "grid_template_columns": null,
            "grid_template_rows": null,
            "height": null,
            "justify_content": null,
            "justify_items": null,
            "left": null,
            "margin": null,
            "max_height": null,
            "max_width": null,
            "min_height": null,
            "min_width": null,
            "object_fit": null,
            "object_position": null,
            "order": null,
            "overflow": null,
            "overflow_x": null,
            "overflow_y": null,
            "padding": null,
            "right": null,
            "top": null,
            "visibility": null,
            "width": null
          }
        },
        "9e91e2c066c14299b1daa69d29679377": {
          "model_module": "@jupyter-widgets/controls",
          "model_name": "ProgressStyleModel",
          "model_module_version": "1.5.0",
          "state": {
            "_model_module": "@jupyter-widgets/controls",
            "_model_module_version": "1.5.0",
            "_model_name": "ProgressStyleModel",
            "_view_count": null,
            "_view_module": "@jupyter-widgets/base",
            "_view_module_version": "1.2.0",
            "_view_name": "StyleView",
            "bar_color": null,
            "description_width": ""
          }
        },
        "867a5ec35401402d8a3c7280e5ad211d": {
          "model_module": "@jupyter-widgets/base",
          "model_name": "LayoutModel",
          "model_module_version": "1.2.0",
          "state": {
            "_model_module": "@jupyter-widgets/base",
            "_model_module_version": "1.2.0",
            "_model_name": "LayoutModel",
            "_view_count": null,
            "_view_module": "@jupyter-widgets/base",
            "_view_module_version": "1.2.0",
            "_view_name": "LayoutView",
            "align_content": null,
            "align_items": null,
            "align_self": null,
            "border": null,
            "bottom": null,
            "display": null,
            "flex": null,
            "flex_flow": null,
            "grid_area": null,
            "grid_auto_columns": null,
            "grid_auto_flow": null,
            "grid_auto_rows": null,
            "grid_column": null,
            "grid_gap": null,
            "grid_row": null,
            "grid_template_areas": null,
            "grid_template_columns": null,
            "grid_template_rows": null,
            "height": null,
            "justify_content": null,
            "justify_items": null,
            "left": null,
            "margin": null,
            "max_height": null,
            "max_width": null,
            "min_height": null,
            "min_width": null,
            "object_fit": null,
            "object_position": null,
            "order": null,
            "overflow": null,
            "overflow_x": null,
            "overflow_y": null,
            "padding": null,
            "right": null,
            "top": null,
            "visibility": null,
            "width": null
          }
        },
        "8669a9502981417db365c93ba4389135": {
          "model_module": "@jupyter-widgets/controls",
          "model_name": "DescriptionStyleModel",
          "model_module_version": "1.5.0",
          "state": {
            "_model_module": "@jupyter-widgets/controls",
            "_model_module_version": "1.5.0",
            "_model_name": "DescriptionStyleModel",
            "_view_count": null,
            "_view_module": "@jupyter-widgets/base",
            "_view_module_version": "1.2.0",
            "_view_name": "StyleView",
            "description_width": ""
          }
        },
        "ce3884f0085e461491b126ca2f06c9e4": {
          "model_module": "@jupyter-widgets/controls",
          "model_name": "HBoxModel",
          "model_module_version": "1.5.0",
          "state": {
            "_dom_classes": [],
            "_model_module": "@jupyter-widgets/controls",
            "_model_module_version": "1.5.0",
            "_model_name": "HBoxModel",
            "_view_count": null,
            "_view_module": "@jupyter-widgets/controls",
            "_view_module_version": "1.5.0",
            "_view_name": "HBoxView",
            "box_style": "",
            "children": [
              "IPY_MODEL_8916450428794020a59e82f19b36a229",
              "IPY_MODEL_4ecc4bd0bb264989aef09233003147d4",
              "IPY_MODEL_773a7352ab7b4e06bb5d6fbf82c8afc1"
            ],
            "layout": "IPY_MODEL_8628349ebcf04f71b16328d141fafedc"
          }
        },
        "8916450428794020a59e82f19b36a229": {
          "model_module": "@jupyter-widgets/controls",
          "model_name": "HTMLModel",
          "model_module_version": "1.5.0",
          "state": {
            "_dom_classes": [],
            "_model_module": "@jupyter-widgets/controls",
            "_model_module_version": "1.5.0",
            "_model_name": "HTMLModel",
            "_view_count": null,
            "_view_module": "@jupyter-widgets/controls",
            "_view_module_version": "1.5.0",
            "_view_name": "HTMLView",
            "description": "",
            "description_tooltip": null,
            "layout": "IPY_MODEL_f2a9689e655649b7a80a174d66b0b3b9",
            "placeholder": "​",
            "style": "IPY_MODEL_b059d07252e64df4bae52ce9a8fb6239",
            "value": "1_Pooling/config.json: 100%"
          }
        },
        "4ecc4bd0bb264989aef09233003147d4": {
          "model_module": "@jupyter-widgets/controls",
          "model_name": "FloatProgressModel",
          "model_module_version": "1.5.0",
          "state": {
            "_dom_classes": [],
            "_model_module": "@jupyter-widgets/controls",
            "_model_module_version": "1.5.0",
            "_model_name": "FloatProgressModel",
            "_view_count": null,
            "_view_module": "@jupyter-widgets/controls",
            "_view_module_version": "1.5.0",
            "_view_name": "ProgressView",
            "bar_style": "success",
            "description": "",
            "description_tooltip": null,
            "layout": "IPY_MODEL_5c71e423a39742049572cc08099c03d5",
            "max": 190,
            "min": 0,
            "orientation": "horizontal",
            "style": "IPY_MODEL_2619a7bb3bb14a79b684ad0a31c2f829",
            "value": 190
          }
        },
        "773a7352ab7b4e06bb5d6fbf82c8afc1": {
          "model_module": "@jupyter-widgets/controls",
          "model_name": "HTMLModel",
          "model_module_version": "1.5.0",
          "state": {
            "_dom_classes": [],
            "_model_module": "@jupyter-widgets/controls",
            "_model_module_version": "1.5.0",
            "_model_name": "HTMLModel",
            "_view_count": null,
            "_view_module": "@jupyter-widgets/controls",
            "_view_module_version": "1.5.0",
            "_view_name": "HTMLView",
            "description": "",
            "description_tooltip": null,
            "layout": "IPY_MODEL_8fa33b70267644cca0fba09b74243dff",
            "placeholder": "​",
            "style": "IPY_MODEL_1bc3f9fbce3b4633bee9e7ea3f0db5c9",
            "value": " 190/190 [00:00&lt;00:00, 10.9kB/s]"
          }
        },
        "8628349ebcf04f71b16328d141fafedc": {
          "model_module": "@jupyter-widgets/base",
          "model_name": "LayoutModel",
          "model_module_version": "1.2.0",
          "state": {
            "_model_module": "@jupyter-widgets/base",
            "_model_module_version": "1.2.0",
            "_model_name": "LayoutModel",
            "_view_count": null,
            "_view_module": "@jupyter-widgets/base",
            "_view_module_version": "1.2.0",
            "_view_name": "LayoutView",
            "align_content": null,
            "align_items": null,
            "align_self": null,
            "border": null,
            "bottom": null,
            "display": null,
            "flex": null,
            "flex_flow": null,
            "grid_area": null,
            "grid_auto_columns": null,
            "grid_auto_flow": null,
            "grid_auto_rows": null,
            "grid_column": null,
            "grid_gap": null,
            "grid_row": null,
            "grid_template_areas": null,
            "grid_template_columns": null,
            "grid_template_rows": null,
            "height": null,
            "justify_content": null,
            "justify_items": null,
            "left": null,
            "margin": null,
            "max_height": null,
            "max_width": null,
            "min_height": null,
            "min_width": null,
            "object_fit": null,
            "object_position": null,
            "order": null,
            "overflow": null,
            "overflow_x": null,
            "overflow_y": null,
            "padding": null,
            "right": null,
            "top": null,
            "visibility": null,
            "width": null
          }
        },
        "f2a9689e655649b7a80a174d66b0b3b9": {
          "model_module": "@jupyter-widgets/base",
          "model_name": "LayoutModel",
          "model_module_version": "1.2.0",
          "state": {
            "_model_module": "@jupyter-widgets/base",
            "_model_module_version": "1.2.0",
            "_model_name": "LayoutModel",
            "_view_count": null,
            "_view_module": "@jupyter-widgets/base",
            "_view_module_version": "1.2.0",
            "_view_name": "LayoutView",
            "align_content": null,
            "align_items": null,
            "align_self": null,
            "border": null,
            "bottom": null,
            "display": null,
            "flex": null,
            "flex_flow": null,
            "grid_area": null,
            "grid_auto_columns": null,
            "grid_auto_flow": null,
            "grid_auto_rows": null,
            "grid_column": null,
            "grid_gap": null,
            "grid_row": null,
            "grid_template_areas": null,
            "grid_template_columns": null,
            "grid_template_rows": null,
            "height": null,
            "justify_content": null,
            "justify_items": null,
            "left": null,
            "margin": null,
            "max_height": null,
            "max_width": null,
            "min_height": null,
            "min_width": null,
            "object_fit": null,
            "object_position": null,
            "order": null,
            "overflow": null,
            "overflow_x": null,
            "overflow_y": null,
            "padding": null,
            "right": null,
            "top": null,
            "visibility": null,
            "width": null
          }
        },
        "b059d07252e64df4bae52ce9a8fb6239": {
          "model_module": "@jupyter-widgets/controls",
          "model_name": "DescriptionStyleModel",
          "model_module_version": "1.5.0",
          "state": {
            "_model_module": "@jupyter-widgets/controls",
            "_model_module_version": "1.5.0",
            "_model_name": "DescriptionStyleModel",
            "_view_count": null,
            "_view_module": "@jupyter-widgets/base",
            "_view_module_version": "1.2.0",
            "_view_name": "StyleView",
            "description_width": ""
          }
        },
        "5c71e423a39742049572cc08099c03d5": {
          "model_module": "@jupyter-widgets/base",
          "model_name": "LayoutModel",
          "model_module_version": "1.2.0",
          "state": {
            "_model_module": "@jupyter-widgets/base",
            "_model_module_version": "1.2.0",
            "_model_name": "LayoutModel",
            "_view_count": null,
            "_view_module": "@jupyter-widgets/base",
            "_view_module_version": "1.2.0",
            "_view_name": "LayoutView",
            "align_content": null,
            "align_items": null,
            "align_self": null,
            "border": null,
            "bottom": null,
            "display": null,
            "flex": null,
            "flex_flow": null,
            "grid_area": null,
            "grid_auto_columns": null,
            "grid_auto_flow": null,
            "grid_auto_rows": null,
            "grid_column": null,
            "grid_gap": null,
            "grid_row": null,
            "grid_template_areas": null,
            "grid_template_columns": null,
            "grid_template_rows": null,
            "height": null,
            "justify_content": null,
            "justify_items": null,
            "left": null,
            "margin": null,
            "max_height": null,
            "max_width": null,
            "min_height": null,
            "min_width": null,
            "object_fit": null,
            "object_position": null,
            "order": null,
            "overflow": null,
            "overflow_x": null,
            "overflow_y": null,
            "padding": null,
            "right": null,
            "top": null,
            "visibility": null,
            "width": null
          }
        },
        "2619a7bb3bb14a79b684ad0a31c2f829": {
          "model_module": "@jupyter-widgets/controls",
          "model_name": "ProgressStyleModel",
          "model_module_version": "1.5.0",
          "state": {
            "_model_module": "@jupyter-widgets/controls",
            "_model_module_version": "1.5.0",
            "_model_name": "ProgressStyleModel",
            "_view_count": null,
            "_view_module": "@jupyter-widgets/base",
            "_view_module_version": "1.2.0",
            "_view_name": "StyleView",
            "bar_color": null,
            "description_width": ""
          }
        },
        "8fa33b70267644cca0fba09b74243dff": {
          "model_module": "@jupyter-widgets/base",
          "model_name": "LayoutModel",
          "model_module_version": "1.2.0",
          "state": {
            "_model_module": "@jupyter-widgets/base",
            "_model_module_version": "1.2.0",
            "_model_name": "LayoutModel",
            "_view_count": null,
            "_view_module": "@jupyter-widgets/base",
            "_view_module_version": "1.2.0",
            "_view_name": "LayoutView",
            "align_content": null,
            "align_items": null,
            "align_self": null,
            "border": null,
            "bottom": null,
            "display": null,
            "flex": null,
            "flex_flow": null,
            "grid_area": null,
            "grid_auto_columns": null,
            "grid_auto_flow": null,
            "grid_auto_rows": null,
            "grid_column": null,
            "grid_gap": null,
            "grid_row": null,
            "grid_template_areas": null,
            "grid_template_columns": null,
            "grid_template_rows": null,
            "height": null,
            "justify_content": null,
            "justify_items": null,
            "left": null,
            "margin": null,
            "max_height": null,
            "max_width": null,
            "min_height": null,
            "min_width": null,
            "object_fit": null,
            "object_position": null,
            "order": null,
            "overflow": null,
            "overflow_x": null,
            "overflow_y": null,
            "padding": null,
            "right": null,
            "top": null,
            "visibility": null,
            "width": null
          }
        },
        "1bc3f9fbce3b4633bee9e7ea3f0db5c9": {
          "model_module": "@jupyter-widgets/controls",
          "model_name": "DescriptionStyleModel",
          "model_module_version": "1.5.0",
          "state": {
            "_model_module": "@jupyter-widgets/controls",
            "_model_module_version": "1.5.0",
            "_model_name": "DescriptionStyleModel",
            "_view_count": null,
            "_view_module": "@jupyter-widgets/base",
            "_view_module_version": "1.2.0",
            "_view_name": "StyleView",
            "description_width": ""
          }
        }
      }
    }
  },
  "cells": [
    {
      "cell_type": "markdown",
      "source": [
        "#**Setup**"
      ],
      "metadata": {
        "id": "toKyvX5LXEA1"
      }
    },
    {
      "cell_type": "code",
      "execution_count": 1,
      "metadata": {
        "id": "u_BIfx36WiXJ",
        "colab": {
          "base_uri": "https://localhost:8080/"
        },
        "collapsed": true,
        "outputId": "1474a96a-2946-4273-a333-b8888a98b4a0"
      },
      "outputs": [
        {
          "output_type": "stream",
          "name": "stdout",
          "text": [
            "Requirement already satisfied: pillow in /usr/local/lib/python3.11/dist-packages (11.1.0)\n",
            "Requirement already satisfied: pydantic in /usr/local/lib/python3.11/dist-packages (2.10.6)\n",
            "Requirement already satisfied: lxml in /usr/local/lib/python3.11/dist-packages (5.3.0)\n",
            "Requirement already satisfied: matplotlib in /usr/local/lib/python3.11/dist-packages (3.10.0)\n",
            "Requirement already satisfied: unstructured[all-docs] in /usr/local/lib/python3.11/dist-packages (0.16.20)\n",
            "Requirement already satisfied: chardet in /usr/local/lib/python3.11/dist-packages (from unstructured[all-docs]) (5.2.0)\n",
            "Requirement already satisfied: filetype in /usr/local/lib/python3.11/dist-packages (from unstructured[all-docs]) (1.2.0)\n",
            "Requirement already satisfied: python-magic in /usr/local/lib/python3.11/dist-packages (from unstructured[all-docs]) (0.4.27)\n",
            "Requirement already satisfied: nltk in /usr/local/lib/python3.11/dist-packages (from unstructured[all-docs]) (3.9.1)\n",
            "Requirement already satisfied: requests in /usr/local/lib/python3.11/dist-packages (from unstructured[all-docs]) (2.32.3)\n",
            "Requirement already satisfied: beautifulsoup4 in /usr/local/lib/python3.11/dist-packages (from unstructured[all-docs]) (4.13.3)\n",
            "Requirement already satisfied: emoji in /usr/local/lib/python3.11/dist-packages (from unstructured[all-docs]) (2.14.1)\n",
            "Requirement already satisfied: dataclasses-json in /usr/local/lib/python3.11/dist-packages (from unstructured[all-docs]) (0.6.7)\n",
            "Requirement already satisfied: python-iso639 in /usr/local/lib/python3.11/dist-packages (from unstructured[all-docs]) (2025.1.28)\n",
            "Requirement already satisfied: langdetect in /usr/local/lib/python3.11/dist-packages (from unstructured[all-docs]) (1.0.9)\n",
            "Requirement already satisfied: numpy<2 in /usr/local/lib/python3.11/dist-packages (from unstructured[all-docs]) (1.26.4)\n",
            "Requirement already satisfied: rapidfuzz in /usr/local/lib/python3.11/dist-packages (from unstructured[all-docs]) (3.12.1)\n",
            "Requirement already satisfied: backoff in /usr/local/lib/python3.11/dist-packages (from unstructured[all-docs]) (2.2.1)\n",
            "Requirement already satisfied: typing-extensions in /usr/local/lib/python3.11/dist-packages (from unstructured[all-docs]) (4.12.2)\n",
            "Requirement already satisfied: unstructured-client in /usr/local/lib/python3.11/dist-packages (from unstructured[all-docs]) (0.29.0)\n",
            "Requirement already satisfied: wrapt in /usr/local/lib/python3.11/dist-packages (from unstructured[all-docs]) (1.17.2)\n",
            "Requirement already satisfied: tqdm in /usr/local/lib/python3.11/dist-packages (from unstructured[all-docs]) (4.67.1)\n",
            "Requirement already satisfied: psutil in /usr/local/lib/python3.11/dist-packages (from unstructured[all-docs]) (5.9.5)\n",
            "Requirement already satisfied: python-oxmsg in /usr/local/lib/python3.11/dist-packages (from unstructured[all-docs]) (0.0.2)\n",
            "Requirement already satisfied: html5lib in /usr/local/lib/python3.11/dist-packages (from unstructured[all-docs]) (1.1)\n",
            "Requirement already satisfied: pandas in /usr/local/lib/python3.11/dist-packages (from unstructured[all-docs]) (2.2.2)\n",
            "Requirement already satisfied: unstructured-inference>=0.8.6 in /usr/local/lib/python3.11/dist-packages (from unstructured[all-docs]) (0.8.7)\n",
            "Requirement already satisfied: python-docx>=1.1.2 in /usr/local/lib/python3.11/dist-packages (from unstructured[all-docs]) (1.1.2)\n",
            "Requirement already satisfied: onnx in /usr/local/lib/python3.11/dist-packages (from unstructured[all-docs]) (1.17.0)\n",
            "Requirement already satisfied: python-pptx>=1.0.1 in /usr/local/lib/python3.11/dist-packages (from unstructured[all-docs]) (1.0.2)\n",
            "Requirement already satisfied: xlrd in /usr/local/lib/python3.11/dist-packages (from unstructured[all-docs]) (2.0.1)\n",
            "Requirement already satisfied: markdown in /usr/local/lib/python3.11/dist-packages (from unstructured[all-docs]) (3.7)\n",
            "Requirement already satisfied: openpyxl in /usr/local/lib/python3.11/dist-packages (from unstructured[all-docs]) (3.1.5)\n",
            "Requirement already satisfied: effdet in /usr/local/lib/python3.11/dist-packages (from unstructured[all-docs]) (0.4.1)\n",
            "Requirement already satisfied: networkx in /usr/local/lib/python3.11/dist-packages (from unstructured[all-docs]) (3.4.2)\n",
            "Requirement already satisfied: google-cloud-vision in /usr/local/lib/python3.11/dist-packages (from unstructured[all-docs]) (3.9.0)\n",
            "Requirement already satisfied: pi-heif in /usr/local/lib/python3.11/dist-packages (from unstructured[all-docs]) (0.21.0)\n",
            "Requirement already satisfied: pypandoc in /usr/local/lib/python3.11/dist-packages (from unstructured[all-docs]) (1.15)\n",
            "Requirement already satisfied: pdfminer.six in /usr/local/lib/python3.11/dist-packages (from unstructured[all-docs]) (20240706)\n",
            "Requirement already satisfied: unstructured.pytesseract>=0.3.12 in /usr/local/lib/python3.11/dist-packages (from unstructured[all-docs]) (0.3.13)\n",
            "Requirement already satisfied: pikepdf in /usr/local/lib/python3.11/dist-packages (from unstructured[all-docs]) (9.5.2)\n",
            "Requirement already satisfied: pdf2image in /usr/local/lib/python3.11/dist-packages (from unstructured[all-docs]) (1.17.0)\n",
            "Requirement already satisfied: pypdf in /usr/local/lib/python3.11/dist-packages (from unstructured[all-docs]) (5.2.0)\n",
            "Requirement already satisfied: annotated-types>=0.6.0 in /usr/local/lib/python3.11/dist-packages (from pydantic) (0.7.0)\n",
            "Requirement already satisfied: pydantic-core==2.27.2 in /usr/local/lib/python3.11/dist-packages (from pydantic) (2.27.2)\n",
            "Requirement already satisfied: contourpy>=1.0.1 in /usr/local/lib/python3.11/dist-packages (from matplotlib) (1.3.1)\n",
            "Requirement already satisfied: cycler>=0.10 in /usr/local/lib/python3.11/dist-packages (from matplotlib) (0.12.1)\n",
            "Requirement already satisfied: fonttools>=4.22.0 in /usr/local/lib/python3.11/dist-packages (from matplotlib) (4.55.8)\n",
            "Requirement already satisfied: kiwisolver>=1.3.1 in /usr/local/lib/python3.11/dist-packages (from matplotlib) (1.4.8)\n",
            "Requirement already satisfied: packaging>=20.0 in /usr/local/lib/python3.11/dist-packages (from matplotlib) (24.2)\n",
            "Requirement already satisfied: pyparsing>=2.3.1 in /usr/local/lib/python3.11/dist-packages (from matplotlib) (3.2.1)\n",
            "Requirement already satisfied: python-dateutil>=2.7 in /usr/local/lib/python3.11/dist-packages (from matplotlib) (2.8.2)\n",
            "Requirement already satisfied: six>=1.5 in /usr/local/lib/python3.11/dist-packages (from python-dateutil>=2.7->matplotlib) (1.17.0)\n",
            "Requirement already satisfied: XlsxWriter>=0.5.7 in /usr/local/lib/python3.11/dist-packages (from python-pptx>=1.0.1->unstructured[all-docs]) (3.2.2)\n",
            "Requirement already satisfied: python-multipart in /usr/local/lib/python3.11/dist-packages (from unstructured-inference>=0.8.6->unstructured[all-docs]) (0.0.20)\n",
            "Requirement already satisfied: huggingface-hub in /usr/local/lib/python3.11/dist-packages (from unstructured-inference>=0.8.6->unstructured[all-docs]) (0.28.1)\n",
            "Requirement already satisfied: opencv-python!=4.7.0.68 in /usr/local/lib/python3.11/dist-packages (from unstructured-inference>=0.8.6->unstructured[all-docs]) (4.11.0.86)\n",
            "Requirement already satisfied: onnxruntime>=1.17.0 in /usr/local/lib/python3.11/dist-packages (from unstructured-inference>=0.8.6->unstructured[all-docs]) (1.20.1)\n",
            "Requirement already satisfied: torch in /usr/local/lib/python3.11/dist-packages (from unstructured-inference>=0.8.6->unstructured[all-docs]) (2.5.1+cu124)\n",
            "Requirement already satisfied: timm in /usr/local/lib/python3.11/dist-packages (from unstructured-inference>=0.8.6->unstructured[all-docs]) (1.0.14)\n",
            "Requirement already satisfied: transformers>=4.25.1 in /usr/local/lib/python3.11/dist-packages (from unstructured-inference>=0.8.6->unstructured[all-docs]) (4.48.2)\n",
            "Requirement already satisfied: scipy in /usr/local/lib/python3.11/dist-packages (from unstructured-inference>=0.8.6->unstructured[all-docs]) (1.13.1)\n",
            "Requirement already satisfied: pypdfium2 in /usr/local/lib/python3.11/dist-packages (from unstructured-inference>=0.8.6->unstructured[all-docs]) (4.30.1)\n",
            "Requirement already satisfied: charset-normalizer>=2.0.0 in /usr/local/lib/python3.11/dist-packages (from pdfminer.six->unstructured[all-docs]) (3.4.1)\n",
            "Requirement already satisfied: cryptography>=36.0.0 in /usr/local/lib/python3.11/dist-packages (from pdfminer.six->unstructured[all-docs]) (43.0.3)\n",
            "Requirement already satisfied: soupsieve>1.2 in /usr/local/lib/python3.11/dist-packages (from beautifulsoup4->unstructured[all-docs]) (2.6)\n",
            "Requirement already satisfied: marshmallow<4.0.0,>=3.18.0 in /usr/local/lib/python3.11/dist-packages (from dataclasses-json->unstructured[all-docs]) (3.26.1)\n",
            "Requirement already satisfied: typing-inspect<1,>=0.4.0 in /usr/local/lib/python3.11/dist-packages (from dataclasses-json->unstructured[all-docs]) (0.9.0)\n",
            "Requirement already satisfied: torchvision in /usr/local/lib/python3.11/dist-packages (from effdet->unstructured[all-docs]) (0.20.1+cu124)\n",
            "Requirement already satisfied: pycocotools>=2.0.2 in /usr/local/lib/python3.11/dist-packages (from effdet->unstructured[all-docs]) (2.0.8)\n",
            "Requirement already satisfied: omegaconf>=2.0 in /usr/local/lib/python3.11/dist-packages (from effdet->unstructured[all-docs]) (2.3.0)\n",
            "Requirement already satisfied: google-api-core!=2.0.*,!=2.1.*,!=2.10.*,!=2.2.*,!=2.3.*,!=2.4.*,!=2.5.*,!=2.6.*,!=2.7.*,!=2.8.*,!=2.9.*,<3.0.0dev,>=1.34.1 in /usr/local/lib/python3.11/dist-packages (from google-api-core[grpc]!=2.0.*,!=2.1.*,!=2.10.*,!=2.2.*,!=2.3.*,!=2.4.*,!=2.5.*,!=2.6.*,!=2.7.*,!=2.8.*,!=2.9.*,<3.0.0dev,>=1.34.1->google-cloud-vision->unstructured[all-docs]) (2.19.2)\n",
            "Requirement already satisfied: google-auth!=2.24.0,!=2.25.0,<3.0.0dev,>=2.14.1 in /usr/local/lib/python3.11/dist-packages (from google-cloud-vision->unstructured[all-docs]) (2.27.0)\n",
            "Requirement already satisfied: proto-plus<2.0.0dev,>=1.22.3 in /usr/local/lib/python3.11/dist-packages (from google-cloud-vision->unstructured[all-docs]) (1.26.0)\n",
            "Requirement already satisfied: protobuf!=4.21.0,!=4.21.1,!=4.21.2,!=4.21.3,!=4.21.4,!=4.21.5,<6.0.0dev,>=3.20.2 in /usr/local/lib/python3.11/dist-packages (from google-cloud-vision->unstructured[all-docs]) (4.25.6)\n",
            "Requirement already satisfied: webencodings in /usr/local/lib/python3.11/dist-packages (from html5lib->unstructured[all-docs]) (0.5.1)\n",
            "Requirement already satisfied: click in /usr/local/lib/python3.11/dist-packages (from nltk->unstructured[all-docs]) (8.1.8)\n",
            "Requirement already satisfied: joblib in /usr/local/lib/python3.11/dist-packages (from nltk->unstructured[all-docs]) (1.4.2)\n",
            "Requirement already satisfied: regex>=2021.8.3 in /usr/local/lib/python3.11/dist-packages (from nltk->unstructured[all-docs]) (2024.11.6)\n",
            "Requirement already satisfied: et-xmlfile in /usr/local/lib/python3.11/dist-packages (from openpyxl->unstructured[all-docs]) (2.0.0)\n",
            "Requirement already satisfied: pytz>=2020.1 in /usr/local/lib/python3.11/dist-packages (from pandas->unstructured[all-docs]) (2025.1)\n",
            "Requirement already satisfied: tzdata>=2022.7 in /usr/local/lib/python3.11/dist-packages (from pandas->unstructured[all-docs]) (2025.1)\n",
            "Requirement already satisfied: Deprecated in /usr/local/lib/python3.11/dist-packages (from pikepdf->unstructured[all-docs]) (1.2.18)\n",
            "Requirement already satisfied: olefile in /usr/local/lib/python3.11/dist-packages (from python-oxmsg->unstructured[all-docs]) (0.47)\n",
            "Requirement already satisfied: idna<4,>=2.5 in /usr/local/lib/python3.11/dist-packages (from requests->unstructured[all-docs]) (3.10)\n",
            "Requirement already satisfied: urllib3<3,>=1.21.1 in /usr/local/lib/python3.11/dist-packages (from requests->unstructured[all-docs]) (2.3.0)\n",
            "Requirement already satisfied: certifi>=2017.4.17 in /usr/local/lib/python3.11/dist-packages (from requests->unstructured[all-docs]) (2025.1.31)\n",
            "Requirement already satisfied: aiofiles>=24.1.0 in /usr/local/lib/python3.11/dist-packages (from unstructured-client->unstructured[all-docs]) (24.1.0)\n",
            "Requirement already satisfied: eval-type-backport<0.3.0,>=0.2.0 in /usr/local/lib/python3.11/dist-packages (from unstructured-client->unstructured[all-docs]) (0.2.2)\n",
            "Requirement already satisfied: httpx>=0.27.0 in /usr/local/lib/python3.11/dist-packages (from unstructured-client->unstructured[all-docs]) (0.28.1)\n",
            "Requirement already satisfied: jsonpath-python<2.0.0,>=1.0.6 in /usr/local/lib/python3.11/dist-packages (from unstructured-client->unstructured[all-docs]) (1.0.6)\n",
            "Requirement already satisfied: nest-asyncio>=1.6.0 in /usr/local/lib/python3.11/dist-packages (from unstructured-client->unstructured[all-docs]) (1.6.0)\n",
            "Requirement already satisfied: requests-toolbelt>=1.0.0 in /usr/local/lib/python3.11/dist-packages (from unstructured-client->unstructured[all-docs]) (1.0.0)\n",
            "Requirement already satisfied: cffi>=1.12 in /usr/local/lib/python3.11/dist-packages (from cryptography>=36.0.0->pdfminer.six->unstructured[all-docs]) (1.17.1)\n",
            "Requirement already satisfied: googleapis-common-protos<2.0.dev0,>=1.56.2 in /usr/local/lib/python3.11/dist-packages (from google-api-core!=2.0.*,!=2.1.*,!=2.10.*,!=2.2.*,!=2.3.*,!=2.4.*,!=2.5.*,!=2.6.*,!=2.7.*,!=2.8.*,!=2.9.*,<3.0.0dev,>=1.34.1->google-api-core[grpc]!=2.0.*,!=2.1.*,!=2.10.*,!=2.2.*,!=2.3.*,!=2.4.*,!=2.5.*,!=2.6.*,!=2.7.*,!=2.8.*,!=2.9.*,<3.0.0dev,>=1.34.1->google-cloud-vision->unstructured[all-docs]) (1.66.0)\n",
            "Requirement already satisfied: grpcio<2.0dev,>=1.33.2 in /usr/local/lib/python3.11/dist-packages (from google-api-core[grpc]!=2.0.*,!=2.1.*,!=2.10.*,!=2.2.*,!=2.3.*,!=2.4.*,!=2.5.*,!=2.6.*,!=2.7.*,!=2.8.*,!=2.9.*,<3.0.0dev,>=1.34.1->google-cloud-vision->unstructured[all-docs]) (1.70.0)\n",
            "Requirement already satisfied: grpcio-status<2.0.dev0,>=1.33.2 in /usr/local/lib/python3.11/dist-packages (from google-api-core[grpc]!=2.0.*,!=2.1.*,!=2.10.*,!=2.2.*,!=2.3.*,!=2.4.*,!=2.5.*,!=2.6.*,!=2.7.*,!=2.8.*,!=2.9.*,<3.0.0dev,>=1.34.1->google-cloud-vision->unstructured[all-docs]) (1.62.3)\n",
            "Requirement already satisfied: cachetools<6.0,>=2.0.0 in /usr/local/lib/python3.11/dist-packages (from google-auth!=2.24.0,!=2.25.0,<3.0.0dev,>=2.14.1->google-cloud-vision->unstructured[all-docs]) (5.5.1)\n",
            "Requirement already satisfied: pyasn1-modules>=0.2.1 in /usr/local/lib/python3.11/dist-packages (from google-auth!=2.24.0,!=2.25.0,<3.0.0dev,>=2.14.1->google-cloud-vision->unstructured[all-docs]) (0.4.1)\n",
            "Requirement already satisfied: rsa<5,>=3.1.4 in /usr/local/lib/python3.11/dist-packages (from google-auth!=2.24.0,!=2.25.0,<3.0.0dev,>=2.14.1->google-cloud-vision->unstructured[all-docs]) (4.9)\n",
            "Requirement already satisfied: anyio in /usr/local/lib/python3.11/dist-packages (from httpx>=0.27.0->unstructured-client->unstructured[all-docs]) (3.7.1)\n",
            "Requirement already satisfied: httpcore==1.* in /usr/local/lib/python3.11/dist-packages (from httpx>=0.27.0->unstructured-client->unstructured[all-docs]) (1.0.7)\n",
            "Requirement already satisfied: h11<0.15,>=0.13 in /usr/local/lib/python3.11/dist-packages (from httpcore==1.*->httpx>=0.27.0->unstructured-client->unstructured[all-docs]) (0.14.0)\n",
            "Requirement already satisfied: antlr4-python3-runtime==4.9.* in /usr/local/lib/python3.11/dist-packages (from omegaconf>=2.0->effdet->unstructured[all-docs]) (4.9.3)\n",
            "Requirement already satisfied: PyYAML>=5.1.0 in /usr/local/lib/python3.11/dist-packages (from omegaconf>=2.0->effdet->unstructured[all-docs]) (6.0.2)\n",
            "Requirement already satisfied: coloredlogs in /usr/local/lib/python3.11/dist-packages (from onnxruntime>=1.17.0->unstructured-inference>=0.8.6->unstructured[all-docs]) (15.0.1)\n",
            "Requirement already satisfied: flatbuffers in /usr/local/lib/python3.11/dist-packages (from onnxruntime>=1.17.0->unstructured-inference>=0.8.6->unstructured[all-docs]) (25.1.24)\n",
            "Requirement already satisfied: sympy in /usr/local/lib/python3.11/dist-packages (from onnxruntime>=1.17.0->unstructured-inference>=0.8.6->unstructured[all-docs]) (1.13.1)\n",
            "Requirement already satisfied: safetensors in /usr/local/lib/python3.11/dist-packages (from timm->unstructured-inference>=0.8.6->unstructured[all-docs]) (0.5.2)\n",
            "Requirement already satisfied: filelock in /usr/local/lib/python3.11/dist-packages (from torch->unstructured-inference>=0.8.6->unstructured[all-docs]) (3.17.0)\n",
            "Requirement already satisfied: jinja2 in /usr/local/lib/python3.11/dist-packages (from torch->unstructured-inference>=0.8.6->unstructured[all-docs]) (3.1.5)\n",
            "Requirement already satisfied: fsspec in /usr/local/lib/python3.11/dist-packages (from torch->unstructured-inference>=0.8.6->unstructured[all-docs]) (2024.10.0)\n",
            "Requirement already satisfied: nvidia-cuda-nvrtc-cu12==12.4.127 in /usr/local/lib/python3.11/dist-packages (from torch->unstructured-inference>=0.8.6->unstructured[all-docs]) (12.4.127)\n",
            "Requirement already satisfied: nvidia-cuda-runtime-cu12==12.4.127 in /usr/local/lib/python3.11/dist-packages (from torch->unstructured-inference>=0.8.6->unstructured[all-docs]) (12.4.127)\n",
            "Requirement already satisfied: nvidia-cuda-cupti-cu12==12.4.127 in /usr/local/lib/python3.11/dist-packages (from torch->unstructured-inference>=0.8.6->unstructured[all-docs]) (12.4.127)\n",
            "Requirement already satisfied: nvidia-cudnn-cu12==9.1.0.70 in /usr/local/lib/python3.11/dist-packages (from torch->unstructured-inference>=0.8.6->unstructured[all-docs]) (9.1.0.70)\n",
            "Requirement already satisfied: nvidia-cublas-cu12==12.4.5.8 in /usr/local/lib/python3.11/dist-packages (from torch->unstructured-inference>=0.8.6->unstructured[all-docs]) (12.4.5.8)\n",
            "Requirement already satisfied: nvidia-cufft-cu12==11.2.1.3 in /usr/local/lib/python3.11/dist-packages (from torch->unstructured-inference>=0.8.6->unstructured[all-docs]) (11.2.1.3)\n",
            "Requirement already satisfied: nvidia-curand-cu12==10.3.5.147 in /usr/local/lib/python3.11/dist-packages (from torch->unstructured-inference>=0.8.6->unstructured[all-docs]) (10.3.5.147)\n",
            "Requirement already satisfied: nvidia-cusolver-cu12==11.6.1.9 in /usr/local/lib/python3.11/dist-packages (from torch->unstructured-inference>=0.8.6->unstructured[all-docs]) (11.6.1.9)\n",
            "Requirement already satisfied: nvidia-cusparse-cu12==12.3.1.170 in /usr/local/lib/python3.11/dist-packages (from torch->unstructured-inference>=0.8.6->unstructured[all-docs]) (12.3.1.170)\n",
            "Requirement already satisfied: nvidia-nccl-cu12==2.21.5 in /usr/local/lib/python3.11/dist-packages (from torch->unstructured-inference>=0.8.6->unstructured[all-docs]) (2.21.5)\n",
            "Requirement already satisfied: nvidia-nvtx-cu12==12.4.127 in /usr/local/lib/python3.11/dist-packages (from torch->unstructured-inference>=0.8.6->unstructured[all-docs]) (12.4.127)\n",
            "Requirement already satisfied: nvidia-nvjitlink-cu12==12.4.127 in /usr/local/lib/python3.11/dist-packages (from torch->unstructured-inference>=0.8.6->unstructured[all-docs]) (12.4.127)\n",
            "Requirement already satisfied: triton==3.1.0 in /usr/local/lib/python3.11/dist-packages (from torch->unstructured-inference>=0.8.6->unstructured[all-docs]) (3.1.0)\n",
            "Requirement already satisfied: mpmath<1.4,>=1.1.0 in /usr/local/lib/python3.11/dist-packages (from sympy->onnxruntime>=1.17.0->unstructured-inference>=0.8.6->unstructured[all-docs]) (1.3.0)\n",
            "Requirement already satisfied: tokenizers<0.22,>=0.21 in /usr/local/lib/python3.11/dist-packages (from transformers>=4.25.1->unstructured-inference>=0.8.6->unstructured[all-docs]) (0.21.0)\n",
            "Requirement already satisfied: mypy-extensions>=0.3.0 in /usr/local/lib/python3.11/dist-packages (from typing-inspect<1,>=0.4.0->dataclasses-json->unstructured[all-docs]) (1.0.0)\n",
            "Requirement already satisfied: pycparser in /usr/local/lib/python3.11/dist-packages (from cffi>=1.12->cryptography>=36.0.0->pdfminer.six->unstructured[all-docs]) (2.22)\n",
            "Requirement already satisfied: pyasn1<0.7.0,>=0.4.6 in /usr/local/lib/python3.11/dist-packages (from pyasn1-modules>=0.2.1->google-auth!=2.24.0,!=2.25.0,<3.0.0dev,>=2.14.1->google-cloud-vision->unstructured[all-docs]) (0.6.1)\n",
            "Requirement already satisfied: sniffio>=1.1 in /usr/local/lib/python3.11/dist-packages (from anyio->httpx>=0.27.0->unstructured-client->unstructured[all-docs]) (1.3.1)\n",
            "Requirement already satisfied: humanfriendly>=9.1 in /usr/local/lib/python3.11/dist-packages (from coloredlogs->onnxruntime>=1.17.0->unstructured-inference>=0.8.6->unstructured[all-docs]) (10.0)\n",
            "Requirement already satisfied: MarkupSafe>=2.0 in /usr/local/lib/python3.11/dist-packages (from jinja2->torch->unstructured-inference>=0.8.6->unstructured[all-docs]) (3.0.2)\n"
          ]
        }
      ],
      "source": [
        "! pip install \"unstructured[all-docs]\" pillow pydantic lxml pillow matplotlib"
      ]
    },
    {
      "cell_type": "code",
      "source": [
        "!sudo apt-get install poppler-utils"
      ],
      "metadata": {
        "id": "LalugGEEXIEc",
        "colab": {
          "base_uri": "https://localhost:8080/"
        },
        "collapsed": true,
        "outputId": "26667a0c-d568-46bb-f991-2d6335f797a5"
      },
      "execution_count": 2,
      "outputs": [
        {
          "output_type": "stream",
          "name": "stdout",
          "text": [
            "Reading package lists... Done\n",
            "Building dependency tree... Done\n",
            "Reading state information... Done\n",
            "poppler-utils is already the newest version (22.02.0-2ubuntu0.6).\n",
            "0 upgraded, 0 newly installed, 0 to remove and 19 not upgraded.\n"
          ]
        }
      ]
    },
    {
      "cell_type": "code",
      "source": [
        "!sudo apt-get install libleptonica-dev tesseract-ocr libtesseract-dev python3-pil tesseract-ocr-eng tesseract-ocr-script-latn"
      ],
      "metadata": {
        "id": "wplD5rnQXIBJ",
        "colab": {
          "base_uri": "https://localhost:8080/"
        },
        "collapsed": true,
        "outputId": "2458eaf3-abca-4840-fbc2-c46e38ddf6c3"
      },
      "execution_count": 3,
      "outputs": [
        {
          "output_type": "stream",
          "name": "stdout",
          "text": [
            "Reading package lists... Done\n",
            "Building dependency tree... Done\n",
            "Reading state information... Done\n",
            "libleptonica-dev is already the newest version (1.82.0-3build1).\n",
            "libtesseract-dev is already the newest version (4.1.1-2.1build1).\n",
            "tesseract-ocr is already the newest version (4.1.1-2.1build1).\n",
            "tesseract-ocr-eng is already the newest version (1:4.00~git30-7274cfa-1.1).\n",
            "tesseract-ocr-script-latn is already the newest version (1:4.00~git30-7274cfa-1.1).\n",
            "python3-pil is already the newest version (9.0.1-1ubuntu0.3).\n",
            "0 upgraded, 0 newly installed, 0 to remove and 19 not upgraded.\n"
          ]
        }
      ]
    },
    {
      "cell_type": "code",
      "source": [
        "!pip install unstructured-pytesseract\n",
        "!pip install tesseract-ocr"
      ],
      "metadata": {
        "id": "cHeyJmCIXH-l",
        "colab": {
          "base_uri": "https://localhost:8080/"
        },
        "collapsed": true,
        "outputId": "552075a2-f557-4d87-82d3-fde13952b004"
      },
      "execution_count": 4,
      "outputs": [
        {
          "output_type": "stream",
          "name": "stdout",
          "text": [
            "Requirement already satisfied: unstructured-pytesseract in /usr/local/lib/python3.11/dist-packages (0.3.13)\n",
            "Requirement already satisfied: packaging>=21.3 in /usr/local/lib/python3.11/dist-packages (from unstructured-pytesseract) (24.2)\n",
            "Requirement already satisfied: Pillow>=8.0.0 in /usr/local/lib/python3.11/dist-packages (from unstructured-pytesseract) (11.1.0)\n",
            "Collecting tesseract-ocr\n",
            "  Downloading tesseract-ocr-0.0.1.tar.gz (33 kB)\n",
            "  Preparing metadata (setup.py) ... \u001b[?25l\u001b[?25hdone\n",
            "Requirement already satisfied: cython in /usr/local/lib/python3.11/dist-packages (from tesseract-ocr) (3.0.11)\n",
            "Building wheels for collected packages: tesseract-ocr\n",
            "  Building wheel for tesseract-ocr (setup.py) ... \u001b[?25l\u001b[?25hdone\n",
            "  Created wheel for tesseract-ocr: filename=tesseract_ocr-0.0.1-cp311-cp311-linux_x86_64.whl size=179085 sha256=b8eff8fd1be6ed418d7635fc7345d8a00375d9b764ff3fb8f314eb20e6428ed5\n",
            "  Stored in directory: /root/.cache/pip/wheels/90/83/3c/d2b68d844d169d6015fc2ad8c93207d778829c87e26c6f2206\n",
            "Successfully built tesseract-ocr\n",
            "Installing collected packages: tesseract-ocr\n",
            "Successfully installed tesseract-ocr-0.0.1\n"
          ]
        }
      ]
    },
    {
      "cell_type": "code",
      "source": [
        "!pip install langchain_core langchain langchain-community  langchain-groq\n",
        "!pip install chromadb"
      ],
      "metadata": {
        "id": "kkPD6HchZYg0",
        "colab": {
          "base_uri": "https://localhost:8080/",
          "height": 1000
        },
        "collapsed": true,
        "outputId": "ab91958f-9a93-491a-a45a-9343dd43c121"
      },
      "execution_count": 5,
      "outputs": [
        {
          "output_type": "stream",
          "name": "stdout",
          "text": [
            "Requirement already satisfied: langchain_core in /usr/local/lib/python3.11/dist-packages (0.3.33)\n",
            "Requirement already satisfied: langchain in /usr/local/lib/python3.11/dist-packages (0.3.17)\n",
            "Collecting langchain-community\n",
            "  Downloading langchain_community-0.3.16-py3-none-any.whl.metadata (2.9 kB)\n",
            "Collecting langchain-groq\n",
            "  Downloading langchain_groq-0.2.4-py3-none-any.whl.metadata (3.0 kB)\n",
            "Requirement already satisfied: PyYAML>=5.3 in /usr/local/lib/python3.11/dist-packages (from langchain_core) (6.0.2)\n",
            "Requirement already satisfied: jsonpatch<2.0,>=1.33 in /usr/local/lib/python3.11/dist-packages (from langchain_core) (1.33)\n",
            "Requirement already satisfied: langsmith<0.4,>=0.1.125 in /usr/local/lib/python3.11/dist-packages (from langchain_core) (0.3.5)\n",
            "Requirement already satisfied: packaging<25,>=23.2 in /usr/local/lib/python3.11/dist-packages (from langchain_core) (24.2)\n",
            "Requirement already satisfied: pydantic<3.0.0,>=2.5.2 in /usr/local/lib/python3.11/dist-packages (from langchain_core) (2.10.6)\n",
            "Requirement already satisfied: tenacity!=8.4.0,<10.0.0,>=8.1.0 in /usr/local/lib/python3.11/dist-packages (from langchain_core) (9.0.0)\n",
            "Requirement already satisfied: typing-extensions>=4.7 in /usr/local/lib/python3.11/dist-packages (from langchain_core) (4.12.2)\n",
            "Requirement already satisfied: SQLAlchemy<3,>=1.4 in /usr/local/lib/python3.11/dist-packages (from langchain) (2.0.37)\n",
            "Requirement already satisfied: aiohttp<4.0.0,>=3.8.3 in /usr/local/lib/python3.11/dist-packages (from langchain) (3.11.11)\n",
            "Requirement already satisfied: langchain-text-splitters<0.4.0,>=0.3.3 in /usr/local/lib/python3.11/dist-packages (from langchain) (0.3.5)\n",
            "Requirement already satisfied: numpy<2,>=1.22.4 in /usr/local/lib/python3.11/dist-packages (from langchain) (1.26.4)\n",
            "Requirement already satisfied: requests<3,>=2 in /usr/local/lib/python3.11/dist-packages (from langchain) (2.32.3)\n",
            "Requirement already satisfied: dataclasses-json<0.7,>=0.5.7 in /usr/local/lib/python3.11/dist-packages (from langchain-community) (0.6.7)\n",
            "Collecting httpx-sse<0.5.0,>=0.4.0 (from langchain-community)\n",
            "  Downloading httpx_sse-0.4.0-py3-none-any.whl.metadata (9.0 kB)\n",
            "Collecting pydantic-settings<3.0.0,>=2.4.0 (from langchain-community)\n",
            "  Downloading pydantic_settings-2.7.1-py3-none-any.whl.metadata (3.5 kB)\n",
            "Collecting groq<1,>=0.4.1 (from langchain-groq)\n",
            "  Downloading groq-0.18.0-py3-none-any.whl.metadata (14 kB)\n",
            "Requirement already satisfied: aiohappyeyeballs>=2.3.0 in /usr/local/lib/python3.11/dist-packages (from aiohttp<4.0.0,>=3.8.3->langchain) (2.4.4)\n",
            "Requirement already satisfied: aiosignal>=1.1.2 in /usr/local/lib/python3.11/dist-packages (from aiohttp<4.0.0,>=3.8.3->langchain) (1.3.2)\n",
            "Requirement already satisfied: attrs>=17.3.0 in /usr/local/lib/python3.11/dist-packages (from aiohttp<4.0.0,>=3.8.3->langchain) (25.1.0)\n",
            "Requirement already satisfied: frozenlist>=1.1.1 in /usr/local/lib/python3.11/dist-packages (from aiohttp<4.0.0,>=3.8.3->langchain) (1.5.0)\n",
            "Requirement already satisfied: multidict<7.0,>=4.5 in /usr/local/lib/python3.11/dist-packages (from aiohttp<4.0.0,>=3.8.3->langchain) (6.1.0)\n",
            "Requirement already satisfied: propcache>=0.2.0 in /usr/local/lib/python3.11/dist-packages (from aiohttp<4.0.0,>=3.8.3->langchain) (0.2.1)\n",
            "Requirement already satisfied: yarl<2.0,>=1.17.0 in /usr/local/lib/python3.11/dist-packages (from aiohttp<4.0.0,>=3.8.3->langchain) (1.18.3)\n",
            "Requirement already satisfied: marshmallow<4.0.0,>=3.18.0 in /usr/local/lib/python3.11/dist-packages (from dataclasses-json<0.7,>=0.5.7->langchain-community) (3.26.1)\n",
            "Requirement already satisfied: typing-inspect<1,>=0.4.0 in /usr/local/lib/python3.11/dist-packages (from dataclasses-json<0.7,>=0.5.7->langchain-community) (0.9.0)\n",
            "Requirement already satisfied: anyio<5,>=3.5.0 in /usr/local/lib/python3.11/dist-packages (from groq<1,>=0.4.1->langchain-groq) (3.7.1)\n",
            "Requirement already satisfied: distro<2,>=1.7.0 in /usr/local/lib/python3.11/dist-packages (from groq<1,>=0.4.1->langchain-groq) (1.9.0)\n",
            "Requirement already satisfied: httpx<1,>=0.23.0 in /usr/local/lib/python3.11/dist-packages (from groq<1,>=0.4.1->langchain-groq) (0.28.1)\n",
            "Requirement already satisfied: sniffio in /usr/local/lib/python3.11/dist-packages (from groq<1,>=0.4.1->langchain-groq) (1.3.1)\n",
            "Requirement already satisfied: jsonpointer>=1.9 in /usr/local/lib/python3.11/dist-packages (from jsonpatch<2.0,>=1.33->langchain_core) (3.0.0)\n",
            "Requirement already satisfied: orjson<4.0.0,>=3.9.14 in /usr/local/lib/python3.11/dist-packages (from langsmith<0.4,>=0.1.125->langchain_core) (3.10.15)\n",
            "Requirement already satisfied: requests-toolbelt<2.0.0,>=1.0.0 in /usr/local/lib/python3.11/dist-packages (from langsmith<0.4,>=0.1.125->langchain_core) (1.0.0)\n",
            "Requirement already satisfied: zstandard<0.24.0,>=0.23.0 in /usr/local/lib/python3.11/dist-packages (from langsmith<0.4,>=0.1.125->langchain_core) (0.23.0)\n",
            "Requirement already satisfied: annotated-types>=0.6.0 in /usr/local/lib/python3.11/dist-packages (from pydantic<3.0.0,>=2.5.2->langchain_core) (0.7.0)\n",
            "Requirement already satisfied: pydantic-core==2.27.2 in /usr/local/lib/python3.11/dist-packages (from pydantic<3.0.0,>=2.5.2->langchain_core) (2.27.2)\n",
            "Collecting python-dotenv>=0.21.0 (from pydantic-settings<3.0.0,>=2.4.0->langchain-community)\n",
            "  Downloading python_dotenv-1.0.1-py3-none-any.whl.metadata (23 kB)\n",
            "Requirement already satisfied: charset-normalizer<4,>=2 in /usr/local/lib/python3.11/dist-packages (from requests<3,>=2->langchain) (3.4.1)\n",
            "Requirement already satisfied: idna<4,>=2.5 in /usr/local/lib/python3.11/dist-packages (from requests<3,>=2->langchain) (3.10)\n",
            "Requirement already satisfied: urllib3<3,>=1.21.1 in /usr/local/lib/python3.11/dist-packages (from requests<3,>=2->langchain) (2.3.0)\n",
            "Requirement already satisfied: certifi>=2017.4.17 in /usr/local/lib/python3.11/dist-packages (from requests<3,>=2->langchain) (2025.1.31)\n",
            "Requirement already satisfied: greenlet!=0.4.17 in /usr/local/lib/python3.11/dist-packages (from SQLAlchemy<3,>=1.4->langchain) (3.1.1)\n",
            "Requirement already satisfied: httpcore==1.* in /usr/local/lib/python3.11/dist-packages (from httpx<1,>=0.23.0->groq<1,>=0.4.1->langchain-groq) (1.0.7)\n",
            "Requirement already satisfied: h11<0.15,>=0.13 in /usr/local/lib/python3.11/dist-packages (from httpcore==1.*->httpx<1,>=0.23.0->groq<1,>=0.4.1->langchain-groq) (0.14.0)\n",
            "Requirement already satisfied: mypy-extensions>=0.3.0 in /usr/local/lib/python3.11/dist-packages (from typing-inspect<1,>=0.4.0->dataclasses-json<0.7,>=0.5.7->langchain-community) (1.0.0)\n",
            "Downloading langchain_community-0.3.16-py3-none-any.whl (2.5 MB)\n",
            "\u001b[2K   \u001b[90m━━━━━━━━━━━━━━━━━━━━━━━━━━━━━━━━━━━━━━━━\u001b[0m \u001b[32m2.5/2.5 MB\u001b[0m \u001b[31m16.5 MB/s\u001b[0m eta \u001b[36m0:00:00\u001b[0m\n",
            "\u001b[?25hDownloading langchain_groq-0.2.4-py3-none-any.whl (14 kB)\n",
            "Downloading groq-0.18.0-py3-none-any.whl (121 kB)\n",
            "\u001b[2K   \u001b[90m━━━━━━━━━━━━━━━━━━━━━━━━━━━━━━━━━━━━━━━━\u001b[0m \u001b[32m121.9/121.9 kB\u001b[0m \u001b[31m11.8 MB/s\u001b[0m eta \u001b[36m0:00:00\u001b[0m\n",
            "\u001b[?25hDownloading httpx_sse-0.4.0-py3-none-any.whl (7.8 kB)\n",
            "Downloading pydantic_settings-2.7.1-py3-none-any.whl (29 kB)\n",
            "Downloading python_dotenv-1.0.1-py3-none-any.whl (19 kB)\n",
            "Installing collected packages: python-dotenv, httpx-sse, pydantic-settings, groq, langchain-groq, langchain-community\n",
            "Successfully installed groq-0.18.0 httpx-sse-0.4.0 langchain-community-0.3.16 langchain-groq-0.2.4 pydantic-settings-2.7.1 python-dotenv-1.0.1\n",
            "Collecting chromadb\n",
            "  Downloading chromadb-0.6.3-py3-none-any.whl.metadata (6.8 kB)\n",
            "Collecting build>=1.0.3 (from chromadb)\n",
            "  Downloading build-1.2.2.post1-py3-none-any.whl.metadata (6.5 kB)\n",
            "Requirement already satisfied: pydantic>=1.9 in /usr/local/lib/python3.11/dist-packages (from chromadb) (2.10.6)\n",
            "Collecting chroma-hnswlib==0.7.6 (from chromadb)\n",
            "  Downloading chroma_hnswlib-0.7.6-cp311-cp311-manylinux_2_17_x86_64.manylinux2014_x86_64.whl.metadata (252 bytes)\n",
            "Collecting fastapi>=0.95.2 (from chromadb)\n",
            "  Downloading fastapi-0.115.8-py3-none-any.whl.metadata (27 kB)\n",
            "Collecting uvicorn>=0.18.3 (from uvicorn[standard]>=0.18.3->chromadb)\n",
            "  Downloading uvicorn-0.34.0-py3-none-any.whl.metadata (6.5 kB)\n",
            "Requirement already satisfied: numpy>=1.22.5 in /usr/local/lib/python3.11/dist-packages (from chromadb) (1.26.4)\n",
            "Collecting posthog>=2.4.0 (from chromadb)\n",
            "  Downloading posthog-3.11.0-py2.py3-none-any.whl.metadata (2.9 kB)\n",
            "Requirement already satisfied: typing_extensions>=4.5.0 in /usr/local/lib/python3.11/dist-packages (from chromadb) (4.12.2)\n",
            "Requirement already satisfied: onnxruntime>=1.14.1 in /usr/local/lib/python3.11/dist-packages (from chromadb) (1.20.1)\n",
            "Requirement already satisfied: opentelemetry-api>=1.2.0 in /usr/local/lib/python3.11/dist-packages (from chromadb) (1.16.0)\n",
            "Collecting opentelemetry-exporter-otlp-proto-grpc>=1.2.0 (from chromadb)\n",
            "  Downloading opentelemetry_exporter_otlp_proto_grpc-1.30.0-py3-none-any.whl.metadata (2.4 kB)\n",
            "Collecting opentelemetry-instrumentation-fastapi>=0.41b0 (from chromadb)\n",
            "  Downloading opentelemetry_instrumentation_fastapi-0.51b0-py3-none-any.whl.metadata (2.2 kB)\n",
            "Requirement already satisfied: opentelemetry-sdk>=1.2.0 in /usr/local/lib/python3.11/dist-packages (from chromadb) (1.16.0)\n",
            "Requirement already satisfied: tokenizers>=0.13.2 in /usr/local/lib/python3.11/dist-packages (from chromadb) (0.21.0)\n",
            "Collecting pypika>=0.48.9 (from chromadb)\n",
            "  Downloading PyPika-0.48.9.tar.gz (67 kB)\n",
            "\u001b[2K     \u001b[90m━━━━━━━━━━━━━━━━━━━━━━━━━━━━━━━━━━━━━━━━\u001b[0m \u001b[32m67.3/67.3 kB\u001b[0m \u001b[31m1.9 MB/s\u001b[0m eta \u001b[36m0:00:00\u001b[0m\n",
            "\u001b[?25h  Installing build dependencies ... \u001b[?25l\u001b[?25hdone\n",
            "  Getting requirements to build wheel ... \u001b[?25l\u001b[?25hdone\n",
            "  Preparing metadata (pyproject.toml) ... \u001b[?25l\u001b[?25hdone\n",
            "Requirement already satisfied: tqdm>=4.65.0 in /usr/local/lib/python3.11/dist-packages (from chromadb) (4.67.1)\n",
            "Collecting overrides>=7.3.1 (from chromadb)\n",
            "  Downloading overrides-7.7.0-py3-none-any.whl.metadata (5.8 kB)\n",
            "Requirement already satisfied: importlib-resources in /usr/local/lib/python3.11/dist-packages (from chromadb) (6.5.2)\n",
            "Requirement already satisfied: grpcio>=1.58.0 in /usr/local/lib/python3.11/dist-packages (from chromadb) (1.70.0)\n",
            "Collecting bcrypt>=4.0.1 (from chromadb)\n",
            "  Downloading bcrypt-4.2.1-cp39-abi3-manylinux_2_28_x86_64.whl.metadata (9.8 kB)\n",
            "Requirement already satisfied: typer>=0.9.0 in /usr/local/lib/python3.11/dist-packages (from chromadb) (0.15.1)\n",
            "Collecting kubernetes>=28.1.0 (from chromadb)\n",
            "  Downloading kubernetes-32.0.0-py2.py3-none-any.whl.metadata (1.5 kB)\n",
            "Requirement already satisfied: tenacity>=8.2.3 in /usr/local/lib/python3.11/dist-packages (from chromadb) (9.0.0)\n",
            "Requirement already satisfied: PyYAML>=6.0.0 in /usr/local/lib/python3.11/dist-packages (from chromadb) (6.0.2)\n",
            "Collecting mmh3>=4.0.1 (from chromadb)\n",
            "  Downloading mmh3-5.1.0-cp311-cp311-manylinux_2_5_x86_64.manylinux1_x86_64.manylinux_2_17_x86_64.manylinux2014_x86_64.whl.metadata (16 kB)\n",
            "Requirement already satisfied: orjson>=3.9.12 in /usr/local/lib/python3.11/dist-packages (from chromadb) (3.10.15)\n",
            "Requirement already satisfied: httpx>=0.27.0 in /usr/local/lib/python3.11/dist-packages (from chromadb) (0.28.1)\n",
            "Requirement already satisfied: rich>=10.11.0 in /usr/local/lib/python3.11/dist-packages (from chromadb) (13.9.4)\n",
            "Requirement already satisfied: packaging>=19.1 in /usr/local/lib/python3.11/dist-packages (from build>=1.0.3->chromadb) (24.2)\n",
            "Collecting pyproject_hooks (from build>=1.0.3->chromadb)\n",
            "  Downloading pyproject_hooks-1.2.0-py3-none-any.whl.metadata (1.3 kB)\n",
            "Collecting starlette<0.46.0,>=0.40.0 (from fastapi>=0.95.2->chromadb)\n",
            "  Downloading starlette-0.45.3-py3-none-any.whl.metadata (6.3 kB)\n",
            "Requirement already satisfied: anyio in /usr/local/lib/python3.11/dist-packages (from httpx>=0.27.0->chromadb) (3.7.1)\n",
            "Requirement already satisfied: certifi in /usr/local/lib/python3.11/dist-packages (from httpx>=0.27.0->chromadb) (2025.1.31)\n",
            "Requirement already satisfied: httpcore==1.* in /usr/local/lib/python3.11/dist-packages (from httpx>=0.27.0->chromadb) (1.0.7)\n",
            "Requirement already satisfied: idna in /usr/local/lib/python3.11/dist-packages (from httpx>=0.27.0->chromadb) (3.10)\n",
            "Requirement already satisfied: h11<0.15,>=0.13 in /usr/local/lib/python3.11/dist-packages (from httpcore==1.*->httpx>=0.27.0->chromadb) (0.14.0)\n",
            "Requirement already satisfied: six>=1.9.0 in /usr/local/lib/python3.11/dist-packages (from kubernetes>=28.1.0->chromadb) (1.17.0)\n",
            "Requirement already satisfied: python-dateutil>=2.5.3 in /usr/local/lib/python3.11/dist-packages (from kubernetes>=28.1.0->chromadb) (2.8.2)\n",
            "Requirement already satisfied: google-auth>=1.0.1 in /usr/local/lib/python3.11/dist-packages (from kubernetes>=28.1.0->chromadb) (2.27.0)\n",
            "Requirement already satisfied: websocket-client!=0.40.0,!=0.41.*,!=0.42.*,>=0.32.0 in /usr/local/lib/python3.11/dist-packages (from kubernetes>=28.1.0->chromadb) (1.8.0)\n",
            "Requirement already satisfied: requests in /usr/local/lib/python3.11/dist-packages (from kubernetes>=28.1.0->chromadb) (2.32.3)\n",
            "Requirement already satisfied: requests-oauthlib in /usr/local/lib/python3.11/dist-packages (from kubernetes>=28.1.0->chromadb) (2.0.0)\n",
            "Requirement already satisfied: oauthlib>=3.2.2 in /usr/local/lib/python3.11/dist-packages (from kubernetes>=28.1.0->chromadb) (3.2.2)\n",
            "Requirement already satisfied: urllib3>=1.24.2 in /usr/local/lib/python3.11/dist-packages (from kubernetes>=28.1.0->chromadb) (2.3.0)\n",
            "Collecting durationpy>=0.7 (from kubernetes>=28.1.0->chromadb)\n",
            "  Downloading durationpy-0.9-py3-none-any.whl.metadata (338 bytes)\n",
            "Requirement already satisfied: coloredlogs in /usr/local/lib/python3.11/dist-packages (from onnxruntime>=1.14.1->chromadb) (15.0.1)\n",
            "Requirement already satisfied: flatbuffers in /usr/local/lib/python3.11/dist-packages (from onnxruntime>=1.14.1->chromadb) (25.1.24)\n",
            "Requirement already satisfied: protobuf in /usr/local/lib/python3.11/dist-packages (from onnxruntime>=1.14.1->chromadb) (4.25.6)\n",
            "Requirement already satisfied: sympy in /usr/local/lib/python3.11/dist-packages (from onnxruntime>=1.14.1->chromadb) (1.13.1)\n",
            "Requirement already satisfied: deprecated>=1.2.6 in /usr/local/lib/python3.11/dist-packages (from opentelemetry-api>=1.2.0->chromadb) (1.2.18)\n",
            "Requirement already satisfied: setuptools>=16.0 in /usr/local/lib/python3.11/dist-packages (from opentelemetry-api>=1.2.0->chromadb) (75.1.0)\n",
            "Requirement already satisfied: googleapis-common-protos~=1.52 in /usr/local/lib/python3.11/dist-packages (from opentelemetry-exporter-otlp-proto-grpc>=1.2.0->chromadb) (1.66.0)\n",
            "Collecting opentelemetry-exporter-otlp-proto-common==1.30.0 (from opentelemetry-exporter-otlp-proto-grpc>=1.2.0->chromadb)\n",
            "  Downloading opentelemetry_exporter_otlp_proto_common-1.30.0-py3-none-any.whl.metadata (1.9 kB)\n",
            "Collecting opentelemetry-proto==1.30.0 (from opentelemetry-exporter-otlp-proto-grpc>=1.2.0->chromadb)\n",
            "  Downloading opentelemetry_proto-1.30.0-py3-none-any.whl.metadata (2.4 kB)\n",
            "Collecting opentelemetry-sdk>=1.2.0 (from chromadb)\n",
            "  Downloading opentelemetry_sdk-1.30.0-py3-none-any.whl.metadata (1.6 kB)\n",
            "Collecting protobuf (from onnxruntime>=1.14.1->chromadb)\n",
            "  Downloading protobuf-5.29.3-cp38-abi3-manylinux2014_x86_64.whl.metadata (592 bytes)\n",
            "Collecting opentelemetry-instrumentation-asgi==0.51b0 (from opentelemetry-instrumentation-fastapi>=0.41b0->chromadb)\n",
            "  Downloading opentelemetry_instrumentation_asgi-0.51b0-py3-none-any.whl.metadata (2.1 kB)\n",
            "Collecting opentelemetry-instrumentation==0.51b0 (from opentelemetry-instrumentation-fastapi>=0.41b0->chromadb)\n",
            "  Downloading opentelemetry_instrumentation-0.51b0-py3-none-any.whl.metadata (6.3 kB)\n",
            "Collecting opentelemetry-semantic-conventions==0.51b0 (from opentelemetry-instrumentation-fastapi>=0.41b0->chromadb)\n",
            "  Downloading opentelemetry_semantic_conventions-0.51b0-py3-none-any.whl.metadata (2.5 kB)\n",
            "Collecting opentelemetry-util-http==0.51b0 (from opentelemetry-instrumentation-fastapi>=0.41b0->chromadb)\n",
            "  Downloading opentelemetry_util_http-0.51b0-py3-none-any.whl.metadata (2.6 kB)\n",
            "Requirement already satisfied: wrapt<2.0.0,>=1.0.0 in /usr/local/lib/python3.11/dist-packages (from opentelemetry-instrumentation==0.51b0->opentelemetry-instrumentation-fastapi>=0.41b0->chromadb) (1.17.2)\n",
            "Collecting asgiref~=3.0 (from opentelemetry-instrumentation-asgi==0.51b0->opentelemetry-instrumentation-fastapi>=0.41b0->chromadb)\n",
            "  Downloading asgiref-3.8.1-py3-none-any.whl.metadata (9.3 kB)\n",
            "Collecting opentelemetry-api>=1.2.0 (from chromadb)\n",
            "  Downloading opentelemetry_api-1.30.0-py3-none-any.whl.metadata (1.6 kB)\n",
            "Collecting importlib-metadata<=8.5.0,>=6.0 (from opentelemetry-api>=1.2.0->chromadb)\n",
            "  Downloading importlib_metadata-8.5.0-py3-none-any.whl.metadata (4.8 kB)\n",
            "Collecting monotonic>=1.5 (from posthog>=2.4.0->chromadb)\n",
            "  Downloading monotonic-1.6-py2.py3-none-any.whl.metadata (1.5 kB)\n",
            "Requirement already satisfied: backoff>=1.10.0 in /usr/local/lib/python3.11/dist-packages (from posthog>=2.4.0->chromadb) (2.2.1)\n",
            "Requirement already satisfied: annotated-types>=0.6.0 in /usr/local/lib/python3.11/dist-packages (from pydantic>=1.9->chromadb) (0.7.0)\n",
            "Requirement already satisfied: pydantic-core==2.27.2 in /usr/local/lib/python3.11/dist-packages (from pydantic>=1.9->chromadb) (2.27.2)\n",
            "Requirement already satisfied: markdown-it-py>=2.2.0 in /usr/local/lib/python3.11/dist-packages (from rich>=10.11.0->chromadb) (3.0.0)\n",
            "Requirement already satisfied: pygments<3.0.0,>=2.13.0 in /usr/local/lib/python3.11/dist-packages (from rich>=10.11.0->chromadb) (2.18.0)\n",
            "Requirement already satisfied: huggingface-hub<1.0,>=0.16.4 in /usr/local/lib/python3.11/dist-packages (from tokenizers>=0.13.2->chromadb) (0.28.1)\n",
            "Requirement already satisfied: click>=8.0.0 in /usr/local/lib/python3.11/dist-packages (from typer>=0.9.0->chromadb) (8.1.8)\n",
            "Requirement already satisfied: shellingham>=1.3.0 in /usr/local/lib/python3.11/dist-packages (from typer>=0.9.0->chromadb) (1.5.4)\n",
            "Collecting httptools>=0.6.3 (from uvicorn[standard]>=0.18.3->chromadb)\n",
            "  Downloading httptools-0.6.4-cp311-cp311-manylinux_2_5_x86_64.manylinux1_x86_64.manylinux_2_17_x86_64.manylinux2014_x86_64.whl.metadata (3.6 kB)\n",
            "Requirement already satisfied: python-dotenv>=0.13 in /usr/local/lib/python3.11/dist-packages (from uvicorn[standard]>=0.18.3->chromadb) (1.0.1)\n",
            "Collecting uvloop!=0.15.0,!=0.15.1,>=0.14.0 (from uvicorn[standard]>=0.18.3->chromadb)\n",
            "  Downloading uvloop-0.21.0-cp311-cp311-manylinux_2_17_x86_64.manylinux2014_x86_64.whl.metadata (4.9 kB)\n",
            "Collecting watchfiles>=0.13 (from uvicorn[standard]>=0.18.3->chromadb)\n",
            "  Downloading watchfiles-1.0.4-cp311-cp311-manylinux_2_17_x86_64.manylinux2014_x86_64.whl.metadata (4.9 kB)\n",
            "Requirement already satisfied: websockets>=10.4 in /usr/local/lib/python3.11/dist-packages (from uvicorn[standard]>=0.18.3->chromadb) (14.2)\n",
            "Requirement already satisfied: cachetools<6.0,>=2.0.0 in /usr/local/lib/python3.11/dist-packages (from google-auth>=1.0.1->kubernetes>=28.1.0->chromadb) (5.5.1)\n",
            "Requirement already satisfied: pyasn1-modules>=0.2.1 in /usr/local/lib/python3.11/dist-packages (from google-auth>=1.0.1->kubernetes>=28.1.0->chromadb) (0.4.1)\n",
            "Requirement already satisfied: rsa<5,>=3.1.4 in /usr/local/lib/python3.11/dist-packages (from google-auth>=1.0.1->kubernetes>=28.1.0->chromadb) (4.9)\n",
            "Requirement already satisfied: filelock in /usr/local/lib/python3.11/dist-packages (from huggingface-hub<1.0,>=0.16.4->tokenizers>=0.13.2->chromadb) (3.17.0)\n",
            "Requirement already satisfied: fsspec>=2023.5.0 in /usr/local/lib/python3.11/dist-packages (from huggingface-hub<1.0,>=0.16.4->tokenizers>=0.13.2->chromadb) (2024.10.0)\n",
            "Requirement already satisfied: zipp>=3.20 in /usr/local/lib/python3.11/dist-packages (from importlib-metadata<=8.5.0,>=6.0->opentelemetry-api>=1.2.0->chromadb) (3.21.0)\n",
            "Requirement already satisfied: mdurl~=0.1 in /usr/local/lib/python3.11/dist-packages (from markdown-it-py>=2.2.0->rich>=10.11.0->chromadb) (0.1.2)\n",
            "Requirement already satisfied: charset-normalizer<4,>=2 in /usr/local/lib/python3.11/dist-packages (from requests->kubernetes>=28.1.0->chromadb) (3.4.1)\n",
            "Requirement already satisfied: sniffio>=1.1 in /usr/local/lib/python3.11/dist-packages (from anyio->httpx>=0.27.0->chromadb) (1.3.1)\n",
            "Requirement already satisfied: humanfriendly>=9.1 in /usr/local/lib/python3.11/dist-packages (from coloredlogs->onnxruntime>=1.14.1->chromadb) (10.0)\n",
            "Requirement already satisfied: mpmath<1.4,>=1.1.0 in /usr/local/lib/python3.11/dist-packages (from sympy->onnxruntime>=1.14.1->chromadb) (1.3.0)\n",
            "Requirement already satisfied: pyasn1<0.7.0,>=0.4.6 in /usr/local/lib/python3.11/dist-packages (from pyasn1-modules>=0.2.1->google-auth>=1.0.1->kubernetes>=28.1.0->chromadb) (0.6.1)\n",
            "Downloading chromadb-0.6.3-py3-none-any.whl (611 kB)\n",
            "\u001b[2K   \u001b[90m━━━━━━━━━━━━━━━━━━━━━━━━━━━━━━━━━━━━━━━━\u001b[0m \u001b[32m611.1/611.1 kB\u001b[0m \u001b[31m8.9 MB/s\u001b[0m eta \u001b[36m0:00:00\u001b[0m\n",
            "\u001b[?25hDownloading chroma_hnswlib-0.7.6-cp311-cp311-manylinux_2_17_x86_64.manylinux2014_x86_64.whl (2.4 MB)\n",
            "\u001b[2K   \u001b[90m━━━━━━━━━━━━━━━━━━━━━━━━━━━━━━━━━━━━━━━━\u001b[0m \u001b[32m2.4/2.4 MB\u001b[0m \u001b[31m35.7 MB/s\u001b[0m eta \u001b[36m0:00:00\u001b[0m\n",
            "\u001b[?25hDownloading bcrypt-4.2.1-cp39-abi3-manylinux_2_28_x86_64.whl (278 kB)\n",
            "\u001b[2K   \u001b[90m━━━━━━━━━━━━━━━━━━━━━━━━━━━━━━━━━━━━━━━━\u001b[0m \u001b[32m278.6/278.6 kB\u001b[0m \u001b[31m25.2 MB/s\u001b[0m eta \u001b[36m0:00:00\u001b[0m\n",
            "\u001b[?25hDownloading build-1.2.2.post1-py3-none-any.whl (22 kB)\n",
            "Downloading fastapi-0.115.8-py3-none-any.whl (94 kB)\n",
            "\u001b[2K   \u001b[90m━━━━━━━━━━━━━━━━━━━━━━━━━━━━━━━━━━━━━━━━\u001b[0m \u001b[32m94.8/94.8 kB\u001b[0m \u001b[31m9.7 MB/s\u001b[0m eta \u001b[36m0:00:00\u001b[0m\n",
            "\u001b[?25hDownloading kubernetes-32.0.0-py2.py3-none-any.whl (2.0 MB)\n",
            "\u001b[2K   \u001b[90m━━━━━━━━━━━━━━━━━━━━━━━━━━━━━━━━━━━━━━━━\u001b[0m \u001b[32m2.0/2.0 MB\u001b[0m \u001b[31m77.2 MB/s\u001b[0m eta \u001b[36m0:00:00\u001b[0m\n",
            "\u001b[?25hDownloading mmh3-5.1.0-cp311-cp311-manylinux_2_5_x86_64.manylinux1_x86_64.manylinux_2_17_x86_64.manylinux2014_x86_64.whl (101 kB)\n",
            "\u001b[2K   \u001b[90m━━━━━━━━━━━━━━━━━━━━━━━━━━━━━━━━━━━━━━━━\u001b[0m \u001b[32m101.6/101.6 kB\u001b[0m \u001b[31m11.4 MB/s\u001b[0m eta \u001b[36m0:00:00\u001b[0m\n",
            "\u001b[?25hDownloading opentelemetry_exporter_otlp_proto_grpc-1.30.0-py3-none-any.whl (18 kB)\n",
            "Downloading opentelemetry_exporter_otlp_proto_common-1.30.0-py3-none-any.whl (18 kB)\n",
            "Downloading opentelemetry_proto-1.30.0-py3-none-any.whl (55 kB)\n",
            "\u001b[2K   \u001b[90m━━━━━━━━━━━━━━━━━━━━━━━━━━━━━━━━━━━━━━━━\u001b[0m \u001b[32m55.9/55.9 kB\u001b[0m \u001b[31m5.6 MB/s\u001b[0m eta \u001b[36m0:00:00\u001b[0m\n",
            "\u001b[?25hDownloading opentelemetry_instrumentation_fastapi-0.51b0-py3-none-any.whl (12 kB)\n",
            "Downloading opentelemetry_instrumentation-0.51b0-py3-none-any.whl (30 kB)\n",
            "Downloading opentelemetry_instrumentation_asgi-0.51b0-py3-none-any.whl (16 kB)\n",
            "Downloading opentelemetry_semantic_conventions-0.51b0-py3-none-any.whl (177 kB)\n",
            "\u001b[2K   \u001b[90m━━━━━━━━━━━━━━━━━━━━━━━━━━━━━━━━━━━━━━━━\u001b[0m \u001b[32m177.4/177.4 kB\u001b[0m \u001b[31m19.1 MB/s\u001b[0m eta \u001b[36m0:00:00\u001b[0m\n",
            "\u001b[?25hDownloading opentelemetry_api-1.30.0-py3-none-any.whl (64 kB)\n",
            "\u001b[2K   \u001b[90m━━━━━━━━━━━━━━━━━━━━━━━━━━━━━━━━━━━━━━━━\u001b[0m \u001b[32m65.0/65.0 kB\u001b[0m \u001b[31m7.4 MB/s\u001b[0m eta \u001b[36m0:00:00\u001b[0m\n",
            "\u001b[?25hDownloading opentelemetry_util_http-0.51b0-py3-none-any.whl (7.3 kB)\n",
            "Downloading opentelemetry_sdk-1.30.0-py3-none-any.whl (118 kB)\n",
            "\u001b[2K   \u001b[90m━━━━━━━━━━━━━━━━━━━━━━━━━━━━━━━━━━━━━━━━\u001b[0m \u001b[32m118.7/118.7 kB\u001b[0m \u001b[31m13.4 MB/s\u001b[0m eta \u001b[36m0:00:00\u001b[0m\n",
            "\u001b[?25hDownloading overrides-7.7.0-py3-none-any.whl (17 kB)\n",
            "Downloading posthog-3.11.0-py2.py3-none-any.whl (72 kB)\n",
            "\u001b[2K   \u001b[90m━━━━━━━━━━━━━━━━━━━━━━━━━━━━━━━━━━━━━━━━\u001b[0m \u001b[32m72.0/72.0 kB\u001b[0m \u001b[31m8.1 MB/s\u001b[0m eta \u001b[36m0:00:00\u001b[0m\n",
            "\u001b[?25hDownloading uvicorn-0.34.0-py3-none-any.whl (62 kB)\n",
            "\u001b[2K   \u001b[90m━━━━━━━━━━━━━━━━━━━━━━━━━━━━━━━━━━━━━━━━\u001b[0m \u001b[32m62.3/62.3 kB\u001b[0m \u001b[31m6.9 MB/s\u001b[0m eta \u001b[36m0:00:00\u001b[0m\n",
            "\u001b[?25hDownloading durationpy-0.9-py3-none-any.whl (3.5 kB)\n",
            "Downloading httptools-0.6.4-cp311-cp311-manylinux_2_5_x86_64.manylinux1_x86_64.manylinux_2_17_x86_64.manylinux2014_x86_64.whl (459 kB)\n",
            "\u001b[2K   \u001b[90m━━━━━━━━━━━━━━━━━━━━━━━━━━━━━━━━━━━━━━━━\u001b[0m \u001b[32m459.8/459.8 kB\u001b[0m \u001b[31m40.9 MB/s\u001b[0m eta \u001b[36m0:00:00\u001b[0m\n",
            "\u001b[?25hDownloading importlib_metadata-8.5.0-py3-none-any.whl (26 kB)\n",
            "Downloading monotonic-1.6-py2.py3-none-any.whl (8.2 kB)\n",
            "Downloading protobuf-5.29.3-cp38-abi3-manylinux2014_x86_64.whl (319 kB)\n",
            "\u001b[2K   \u001b[90m━━━━━━━━━━━━━━━━━━━━━━━━━━━━━━━━━━━━━━━━\u001b[0m \u001b[32m319.7/319.7 kB\u001b[0m \u001b[31m29.8 MB/s\u001b[0m eta \u001b[36m0:00:00\u001b[0m\n",
            "\u001b[?25hDownloading starlette-0.45.3-py3-none-any.whl (71 kB)\n",
            "\u001b[2K   \u001b[90m━━━━━━━━━━━━━━━━━━━━━━━━━━━━━━━━━━━━━━━━\u001b[0m \u001b[32m71.5/71.5 kB\u001b[0m \u001b[31m8.2 MB/s\u001b[0m eta \u001b[36m0:00:00\u001b[0m\n",
            "\u001b[?25hDownloading uvloop-0.21.0-cp311-cp311-manylinux_2_17_x86_64.manylinux2014_x86_64.whl (4.0 MB)\n",
            "\u001b[2K   \u001b[90m━━━━━━━━━━━━━━━━━━━━━━━━━━━━━━━━━━━━━━━━\u001b[0m \u001b[32m4.0/4.0 MB\u001b[0m \u001b[31m94.7 MB/s\u001b[0m eta \u001b[36m0:00:00\u001b[0m\n",
            "\u001b[?25hDownloading watchfiles-1.0.4-cp311-cp311-manylinux_2_17_x86_64.manylinux2014_x86_64.whl (452 kB)\n",
            "\u001b[2K   \u001b[90m━━━━━━━━━━━━━━━━━━━━━━━━━━━━━━━━━━━━━━━━\u001b[0m \u001b[32m452.6/452.6 kB\u001b[0m \u001b[31m38.5 MB/s\u001b[0m eta \u001b[36m0:00:00\u001b[0m\n",
            "\u001b[?25hDownloading pyproject_hooks-1.2.0-py3-none-any.whl (10 kB)\n",
            "Downloading asgiref-3.8.1-py3-none-any.whl (23 kB)\n",
            "Building wheels for collected packages: pypika\n",
            "  Building wheel for pypika (pyproject.toml) ... \u001b[?25l\u001b[?25hdone\n",
            "  Created wheel for pypika: filename=PyPika-0.48.9-py2.py3-none-any.whl size=53771 sha256=a613c293b41ab4a2b601b65f19b36756c8a6dd1f044bfaf004ba8fc22a691b16\n",
            "  Stored in directory: /root/.cache/pip/wheels/a3/01/bd/4c40ceb9d5354160cb186dcc153360f4ab7eb23e2b24daf96d\n",
            "Successfully built pypika\n",
            "Installing collected packages: pypika, monotonic, durationpy, uvloop, uvicorn, pyproject_hooks, protobuf, overrides, opentelemetry-util-http, mmh3, importlib-metadata, httptools, chroma-hnswlib, bcrypt, asgiref, watchfiles, starlette, posthog, opentelemetry-proto, opentelemetry-api, build, opentelemetry-semantic-conventions, opentelemetry-exporter-otlp-proto-common, kubernetes, fastapi, opentelemetry-sdk, opentelemetry-instrumentation, opentelemetry-instrumentation-asgi, opentelemetry-exporter-otlp-proto-grpc, opentelemetry-instrumentation-fastapi, chromadb\n",
            "  Attempting uninstall: protobuf\n",
            "    Found existing installation: protobuf 4.25.6\n",
            "    Uninstalling protobuf-4.25.6:\n",
            "      Successfully uninstalled protobuf-4.25.6\n",
            "  Attempting uninstall: importlib-metadata\n",
            "    Found existing installation: importlib_metadata 8.6.1\n",
            "    Uninstalling importlib_metadata-8.6.1:\n",
            "      Successfully uninstalled importlib_metadata-8.6.1\n",
            "  Attempting uninstall: opentelemetry-api\n",
            "    Found existing installation: opentelemetry-api 1.16.0\n",
            "    Uninstalling opentelemetry-api-1.16.0:\n",
            "      Successfully uninstalled opentelemetry-api-1.16.0\n",
            "  Attempting uninstall: opentelemetry-semantic-conventions\n",
            "    Found existing installation: opentelemetry-semantic-conventions 0.37b0\n",
            "    Uninstalling opentelemetry-semantic-conventions-0.37b0:\n",
            "      Successfully uninstalled opentelemetry-semantic-conventions-0.37b0\n",
            "  Attempting uninstall: opentelemetry-sdk\n",
            "    Found existing installation: opentelemetry-sdk 1.16.0\n",
            "    Uninstalling opentelemetry-sdk-1.16.0:\n",
            "      Successfully uninstalled opentelemetry-sdk-1.16.0\n",
            "Successfully installed asgiref-3.8.1 bcrypt-4.2.1 build-1.2.2.post1 chroma-hnswlib-0.7.6 chromadb-0.6.3 durationpy-0.9 fastapi-0.115.8 httptools-0.6.4 importlib-metadata-8.5.0 kubernetes-32.0.0 mmh3-5.1.0 monotonic-1.6 opentelemetry-api-1.30.0 opentelemetry-exporter-otlp-proto-common-1.30.0 opentelemetry-exporter-otlp-proto-grpc-1.30.0 opentelemetry-instrumentation-0.51b0 opentelemetry-instrumentation-asgi-0.51b0 opentelemetry-instrumentation-fastapi-0.51b0 opentelemetry-proto-1.30.0 opentelemetry-sdk-1.30.0 opentelemetry-semantic-conventions-0.51b0 opentelemetry-util-http-0.51b0 overrides-7.7.0 posthog-3.11.0 protobuf-5.29.3 pypika-0.48.9 pyproject_hooks-1.2.0 starlette-0.45.3 uvicorn-0.34.0 uvloop-0.21.0 watchfiles-1.0.4\n"
          ]
        },
        {
          "output_type": "display_data",
          "data": {
            "application/vnd.colab-display-data+json": {
              "pip_warning": {
                "packages": [
                  "importlib_metadata"
                ]
              },
              "id": "36ead1c767fe4e0b9adc370fd21643fc"
            }
          },
          "metadata": {}
        }
      ]
    },
    {
      "cell_type": "code",
      "source": [
        "!pip install langchain_huggingface"
      ],
      "metadata": {
        "id": "e7gUBcSYaYNs",
        "colab": {
          "base_uri": "https://localhost:8080/"
        },
        "outputId": "0abc5069-22c9-423d-8375-9c7b9ad7738a",
        "collapsed": true
      },
      "execution_count": 6,
      "outputs": [
        {
          "output_type": "stream",
          "name": "stdout",
          "text": [
            "Collecting langchain_huggingface\n",
            "  Downloading langchain_huggingface-0.1.2-py3-none-any.whl.metadata (1.3 kB)\n",
            "Requirement already satisfied: huggingface-hub>=0.23.0 in /usr/local/lib/python3.11/dist-packages (from langchain_huggingface) (0.28.1)\n",
            "Requirement already satisfied: langchain-core<0.4.0,>=0.3.15 in /usr/local/lib/python3.11/dist-packages (from langchain_huggingface) (0.3.33)\n",
            "Requirement already satisfied: sentence-transformers>=2.6.0 in /usr/local/lib/python3.11/dist-packages (from langchain_huggingface) (3.4.1)\n",
            "Requirement already satisfied: tokenizers>=0.19.1 in /usr/local/lib/python3.11/dist-packages (from langchain_huggingface) (0.21.0)\n",
            "Requirement already satisfied: transformers>=4.39.0 in /usr/local/lib/python3.11/dist-packages (from langchain_huggingface) (4.48.2)\n",
            "Requirement already satisfied: filelock in /usr/local/lib/python3.11/dist-packages (from huggingface-hub>=0.23.0->langchain_huggingface) (3.17.0)\n",
            "Requirement already satisfied: fsspec>=2023.5.0 in /usr/local/lib/python3.11/dist-packages (from huggingface-hub>=0.23.0->langchain_huggingface) (2024.10.0)\n",
            "Requirement already satisfied: packaging>=20.9 in /usr/local/lib/python3.11/dist-packages (from huggingface-hub>=0.23.0->langchain_huggingface) (24.2)\n",
            "Requirement already satisfied: pyyaml>=5.1 in /usr/local/lib/python3.11/dist-packages (from huggingface-hub>=0.23.0->langchain_huggingface) (6.0.2)\n",
            "Requirement already satisfied: requests in /usr/local/lib/python3.11/dist-packages (from huggingface-hub>=0.23.0->langchain_huggingface) (2.32.3)\n",
            "Requirement already satisfied: tqdm>=4.42.1 in /usr/local/lib/python3.11/dist-packages (from huggingface-hub>=0.23.0->langchain_huggingface) (4.67.1)\n",
            "Requirement already satisfied: typing-extensions>=3.7.4.3 in /usr/local/lib/python3.11/dist-packages (from huggingface-hub>=0.23.0->langchain_huggingface) (4.12.2)\n",
            "Requirement already satisfied: jsonpatch<2.0,>=1.33 in /usr/local/lib/python3.11/dist-packages (from langchain-core<0.4.0,>=0.3.15->langchain_huggingface) (1.33)\n",
            "Requirement already satisfied: langsmith<0.4,>=0.1.125 in /usr/local/lib/python3.11/dist-packages (from langchain-core<0.4.0,>=0.3.15->langchain_huggingface) (0.3.5)\n",
            "Requirement already satisfied: pydantic<3.0.0,>=2.5.2 in /usr/local/lib/python3.11/dist-packages (from langchain-core<0.4.0,>=0.3.15->langchain_huggingface) (2.10.6)\n",
            "Requirement already satisfied: tenacity!=8.4.0,<10.0.0,>=8.1.0 in /usr/local/lib/python3.11/dist-packages (from langchain-core<0.4.0,>=0.3.15->langchain_huggingface) (9.0.0)\n",
            "Requirement already satisfied: torch>=1.11.0 in /usr/local/lib/python3.11/dist-packages (from sentence-transformers>=2.6.0->langchain_huggingface) (2.5.1+cu124)\n",
            "Requirement already satisfied: scikit-learn in /usr/local/lib/python3.11/dist-packages (from sentence-transformers>=2.6.0->langchain_huggingface) (1.6.1)\n",
            "Requirement already satisfied: scipy in /usr/local/lib/python3.11/dist-packages (from sentence-transformers>=2.6.0->langchain_huggingface) (1.13.1)\n",
            "Requirement already satisfied: Pillow in /usr/local/lib/python3.11/dist-packages (from sentence-transformers>=2.6.0->langchain_huggingface) (11.1.0)\n",
            "Requirement already satisfied: numpy>=1.17 in /usr/local/lib/python3.11/dist-packages (from transformers>=4.39.0->langchain_huggingface) (1.26.4)\n",
            "Requirement already satisfied: regex!=2019.12.17 in /usr/local/lib/python3.11/dist-packages (from transformers>=4.39.0->langchain_huggingface) (2024.11.6)\n",
            "Requirement already satisfied: safetensors>=0.4.1 in /usr/local/lib/python3.11/dist-packages (from transformers>=4.39.0->langchain_huggingface) (0.5.2)\n",
            "Requirement already satisfied: jsonpointer>=1.9 in /usr/local/lib/python3.11/dist-packages (from jsonpatch<2.0,>=1.33->langchain-core<0.4.0,>=0.3.15->langchain_huggingface) (3.0.0)\n",
            "Requirement already satisfied: httpx<1,>=0.23.0 in /usr/local/lib/python3.11/dist-packages (from langsmith<0.4,>=0.1.125->langchain-core<0.4.0,>=0.3.15->langchain_huggingface) (0.28.1)\n",
            "Requirement already satisfied: orjson<4.0.0,>=3.9.14 in /usr/local/lib/python3.11/dist-packages (from langsmith<0.4,>=0.1.125->langchain-core<0.4.0,>=0.3.15->langchain_huggingface) (3.10.15)\n",
            "Requirement already satisfied: requests-toolbelt<2.0.0,>=1.0.0 in /usr/local/lib/python3.11/dist-packages (from langsmith<0.4,>=0.1.125->langchain-core<0.4.0,>=0.3.15->langchain_huggingface) (1.0.0)\n",
            "Requirement already satisfied: zstandard<0.24.0,>=0.23.0 in /usr/local/lib/python3.11/dist-packages (from langsmith<0.4,>=0.1.125->langchain-core<0.4.0,>=0.3.15->langchain_huggingface) (0.23.0)\n",
            "Requirement already satisfied: annotated-types>=0.6.0 in /usr/local/lib/python3.11/dist-packages (from pydantic<3.0.0,>=2.5.2->langchain-core<0.4.0,>=0.3.15->langchain_huggingface) (0.7.0)\n",
            "Requirement already satisfied: pydantic-core==2.27.2 in /usr/local/lib/python3.11/dist-packages (from pydantic<3.0.0,>=2.5.2->langchain-core<0.4.0,>=0.3.15->langchain_huggingface) (2.27.2)\n",
            "Requirement already satisfied: charset-normalizer<4,>=2 in /usr/local/lib/python3.11/dist-packages (from requests->huggingface-hub>=0.23.0->langchain_huggingface) (3.4.1)\n",
            "Requirement already satisfied: idna<4,>=2.5 in /usr/local/lib/python3.11/dist-packages (from requests->huggingface-hub>=0.23.0->langchain_huggingface) (3.10)\n",
            "Requirement already satisfied: urllib3<3,>=1.21.1 in /usr/local/lib/python3.11/dist-packages (from requests->huggingface-hub>=0.23.0->langchain_huggingface) (2.3.0)\n",
            "Requirement already satisfied: certifi>=2017.4.17 in /usr/local/lib/python3.11/dist-packages (from requests->huggingface-hub>=0.23.0->langchain_huggingface) (2025.1.31)\n",
            "Requirement already satisfied: networkx in /usr/local/lib/python3.11/dist-packages (from torch>=1.11.0->sentence-transformers>=2.6.0->langchain_huggingface) (3.4.2)\n",
            "Requirement already satisfied: jinja2 in /usr/local/lib/python3.11/dist-packages (from torch>=1.11.0->sentence-transformers>=2.6.0->langchain_huggingface) (3.1.5)\n",
            "Requirement already satisfied: nvidia-cuda-nvrtc-cu12==12.4.127 in /usr/local/lib/python3.11/dist-packages (from torch>=1.11.0->sentence-transformers>=2.6.0->langchain_huggingface) (12.4.127)\n",
            "Requirement already satisfied: nvidia-cuda-runtime-cu12==12.4.127 in /usr/local/lib/python3.11/dist-packages (from torch>=1.11.0->sentence-transformers>=2.6.0->langchain_huggingface) (12.4.127)\n",
            "Requirement already satisfied: nvidia-cuda-cupti-cu12==12.4.127 in /usr/local/lib/python3.11/dist-packages (from torch>=1.11.0->sentence-transformers>=2.6.0->langchain_huggingface) (12.4.127)\n",
            "Requirement already satisfied: nvidia-cudnn-cu12==9.1.0.70 in /usr/local/lib/python3.11/dist-packages (from torch>=1.11.0->sentence-transformers>=2.6.0->langchain_huggingface) (9.1.0.70)\n",
            "Requirement already satisfied: nvidia-cublas-cu12==12.4.5.8 in /usr/local/lib/python3.11/dist-packages (from torch>=1.11.0->sentence-transformers>=2.6.0->langchain_huggingface) (12.4.5.8)\n",
            "Requirement already satisfied: nvidia-cufft-cu12==11.2.1.3 in /usr/local/lib/python3.11/dist-packages (from torch>=1.11.0->sentence-transformers>=2.6.0->langchain_huggingface) (11.2.1.3)\n",
            "Requirement already satisfied: nvidia-curand-cu12==10.3.5.147 in /usr/local/lib/python3.11/dist-packages (from torch>=1.11.0->sentence-transformers>=2.6.0->langchain_huggingface) (10.3.5.147)\n",
            "Requirement already satisfied: nvidia-cusolver-cu12==11.6.1.9 in /usr/local/lib/python3.11/dist-packages (from torch>=1.11.0->sentence-transformers>=2.6.0->langchain_huggingface) (11.6.1.9)\n",
            "Requirement already satisfied: nvidia-cusparse-cu12==12.3.1.170 in /usr/local/lib/python3.11/dist-packages (from torch>=1.11.0->sentence-transformers>=2.6.0->langchain_huggingface) (12.3.1.170)\n",
            "Requirement already satisfied: nvidia-nccl-cu12==2.21.5 in /usr/local/lib/python3.11/dist-packages (from torch>=1.11.0->sentence-transformers>=2.6.0->langchain_huggingface) (2.21.5)\n",
            "Requirement already satisfied: nvidia-nvtx-cu12==12.4.127 in /usr/local/lib/python3.11/dist-packages (from torch>=1.11.0->sentence-transformers>=2.6.0->langchain_huggingface) (12.4.127)\n",
            "Requirement already satisfied: nvidia-nvjitlink-cu12==12.4.127 in /usr/local/lib/python3.11/dist-packages (from torch>=1.11.0->sentence-transformers>=2.6.0->langchain_huggingface) (12.4.127)\n",
            "Requirement already satisfied: triton==3.1.0 in /usr/local/lib/python3.11/dist-packages (from torch>=1.11.0->sentence-transformers>=2.6.0->langchain_huggingface) (3.1.0)\n",
            "Requirement already satisfied: sympy==1.13.1 in /usr/local/lib/python3.11/dist-packages (from torch>=1.11.0->sentence-transformers>=2.6.0->langchain_huggingface) (1.13.1)\n",
            "Requirement already satisfied: mpmath<1.4,>=1.1.0 in /usr/local/lib/python3.11/dist-packages (from sympy==1.13.1->torch>=1.11.0->sentence-transformers>=2.6.0->langchain_huggingface) (1.3.0)\n",
            "Requirement already satisfied: joblib>=1.2.0 in /usr/local/lib/python3.11/dist-packages (from scikit-learn->sentence-transformers>=2.6.0->langchain_huggingface) (1.4.2)\n",
            "Requirement already satisfied: threadpoolctl>=3.1.0 in /usr/local/lib/python3.11/dist-packages (from scikit-learn->sentence-transformers>=2.6.0->langchain_huggingface) (3.5.0)\n",
            "Requirement already satisfied: anyio in /usr/local/lib/python3.11/dist-packages (from httpx<1,>=0.23.0->langsmith<0.4,>=0.1.125->langchain-core<0.4.0,>=0.3.15->langchain_huggingface) (3.7.1)\n",
            "Requirement already satisfied: httpcore==1.* in /usr/local/lib/python3.11/dist-packages (from httpx<1,>=0.23.0->langsmith<0.4,>=0.1.125->langchain-core<0.4.0,>=0.3.15->langchain_huggingface) (1.0.7)\n",
            "Requirement already satisfied: h11<0.15,>=0.13 in /usr/local/lib/python3.11/dist-packages (from httpcore==1.*->httpx<1,>=0.23.0->langsmith<0.4,>=0.1.125->langchain-core<0.4.0,>=0.3.15->langchain_huggingface) (0.14.0)\n",
            "Requirement already satisfied: MarkupSafe>=2.0 in /usr/local/lib/python3.11/dist-packages (from jinja2->torch>=1.11.0->sentence-transformers>=2.6.0->langchain_huggingface) (3.0.2)\n",
            "Requirement already satisfied: sniffio>=1.1 in /usr/local/lib/python3.11/dist-packages (from anyio->httpx<1,>=0.23.0->langsmith<0.4,>=0.1.125->langchain-core<0.4.0,>=0.3.15->langchain_huggingface) (1.3.1)\n",
            "Downloading langchain_huggingface-0.1.2-py3-none-any.whl (21 kB)\n",
            "Installing collected packages: langchain_huggingface\n",
            "Successfully installed langchain_huggingface-0.1.2\n"
          ]
        }
      ]
    },
    {
      "cell_type": "markdown",
      "source": [
        "##**Env Variables**"
      ],
      "metadata": {
        "id": "vC7BMXcyXNt_"
      }
    },
    {
      "cell_type": "code",
      "source": [
        "from google.colab import userdata\n",
        "groq_api_key = userdata.get('groq_api_key')\n",
        "hf_token = userdata.get('HF_TOKEN')"
      ],
      "metadata": {
        "id": "QP9KdevpXH77"
      },
      "execution_count": 8,
      "outputs": []
    },
    {
      "cell_type": "markdown",
      "source": [
        "#**Data ingestion**"
      ],
      "metadata": {
        "id": "W3kWovf8XSOA"
      }
    },
    {
      "cell_type": "code",
      "source": [
        "from unstructured.partition.pdf import partition_pdf"
      ],
      "metadata": {
        "id": "Nfbc5U89XH5b"
      },
      "execution_count": 9,
      "outputs": []
    },
    {
      "cell_type": "code",
      "source": [
        "filename = \"/content/attention is all you need.pdf\""
      ],
      "metadata": {
        "id": "szj0ukTUXH24"
      },
      "execution_count": 10,
      "outputs": []
    },
    {
      "cell_type": "code",
      "source": [
        "raw_pdf_elements = partition_pdf(\n",
        "    filename = \"/content/attention is all you need.pdf\",                            # mandatory\n",
        "    # infer_table_structure=True,                       # deprecated\n",
        "    strategy=\"hi_res\",                                 # mandatory to use ``hi_res`` strategy\n",
        "    extract_images_in_pdf=True,                       # mandatory to set as ``True``\n",
        "    extract_image_block_types=[\"Image\", \"Table\"],          # optional\n",
        "    extract_image_block_to_payload=False,                  # optional\n",
        "    extract_image_block_output_dir=\"extracted_data\",  # optional - only works when ``extract_image_block_to_payload=False``\n",
        "    )\n"
      ],
      "metadata": {
        "id": "NzJ9ixk-XHzv",
        "colab": {
          "base_uri": "https://localhost:8080/",
          "height": 49,
          "referenced_widgets": [
            "65cbf4c8119445cfb36c12c2feb1c3d3",
            "5f2ce281012742eb9982bb684d535903",
            "3158790cfddd4aaa96a7a4557614a5b4",
            "b3df1c963c564aedad2bade92e22c96a",
            "697e887a1dc6452f96534ca480aeec71",
            "658885b011f9436a9d8645be2b5ada1b",
            "5ac53080dabe4fb7a877e40177571bbf",
            "fcc0222378e04d8aa3b0e5fe448b2a4d",
            "20292bc092f44c5f8b1a8ab86183f974",
            "a21083b6418a4bc189199c2f68f928de",
            "6c47ea71e1e14267a6acac0490a675a8"
          ]
        },
        "outputId": "e4e1ce29-6a75-407f-d3e9-9d2e968c1f6f"
      },
      "execution_count": 11,
      "outputs": [
        {
          "output_type": "display_data",
          "data": {
            "text/plain": [
              "yolox_l0.05.onnx:   0%|          | 0.00/217M [00:00<?, ?B/s]"
            ],
            "application/vnd.jupyter.widget-view+json": {
              "version_major": 2,
              "version_minor": 0,
              "model_id": "65cbf4c8119445cfb36c12c2feb1c3d3"
            }
          },
          "metadata": {}
        }
      ]
    },
    {
      "cell_type": "code",
      "source": [
        "len(raw_pdf_elements), raw_pdf_elements[0]"
      ],
      "metadata": {
        "id": "ZkMELmezXaHK",
        "colab": {
          "base_uri": "https://localhost:8080/"
        },
        "outputId": "cfecf2d3-703e-478e-bdd4-6cb939b6d661"
      },
      "execution_count": 12,
      "outputs": [
        {
          "output_type": "execute_result",
          "data": {
            "text/plain": [
              "(217, <unstructured.documents.elements.Text at 0x7e50152dc950>)"
            ]
          },
          "metadata": {},
          "execution_count": 12
        }
      ]
    },
    {
      "cell_type": "code",
      "source": [
        "Header=[]\n",
        "Footer=[]\n",
        "Title=[]\n",
        "NarrativeText=[]\n",
        "Text=[]\n",
        "ListItem=[]\n",
        "for element in raw_pdf_elements:\n",
        "  if \"unstructured.documents.elements.Header\" in str(type(element)):\n",
        "            Header.append(str(element))\n",
        "  elif \"unstructured.documents.elements.Footer\" in str(type(element)):\n",
        "            Footer.append(str(element))\n",
        "  elif \"unstructured.documents.elements.Title\" in str(type(element)):\n",
        "            Title.append(str(element))\n",
        "  elif \"unstructured.documents.elements.NarrativeText\" in str(type(element)):\n",
        "            NarrativeText.append(str(element))\n",
        "  elif \"unstructured.documents.elements.Text\" in str(type(element)):\n",
        "            Text.append(str(element))\n",
        "  elif \"unstructured.documents.elements.ListItem\" in str(type(element)):\n",
        "            ListItem.append(str(element))\n"
      ],
      "metadata": {
        "id": "wgAGnvfzXc6m"
      },
      "execution_count": 13,
      "outputs": []
    },
    {
      "cell_type": "markdown",
      "source": [
        "##**Images**"
      ],
      "metadata": {
        "id": "Y-l4hULXXfjC"
      }
    },
    {
      "cell_type": "code",
      "source": [
        "image = []\n",
        "for element in raw_pdf_elements:\n",
        "  if \"unstructured.documents.elements.Image\" in str(type(element)):\n",
        "            image.append(str(element))"
      ],
      "metadata": {
        "id": "nGxogcEGXdtj"
      },
      "execution_count": 14,
      "outputs": []
    },
    {
      "cell_type": "code",
      "source": [
        "image[0]\n",
        "print(f\"the number of images found are:\",len(image))\n"
      ],
      "metadata": {
        "id": "MsSg43jwXhpc",
        "colab": {
          "base_uri": "https://localhost:8080/"
        },
        "outputId": "043e5c9e-7283-4730-d6ac-ff6183b8eb3a"
      },
      "execution_count": 15,
      "outputs": [
        {
          "output_type": "stream",
          "name": "stdout",
          "text": [
            "the number of images found are: 7\n"
          ]
        }
      ]
    },
    {
      "cell_type": "markdown",
      "source": [
        "##**Tables**"
      ],
      "metadata": {
        "id": "08eXF6qPYBmA"
      }
    },
    {
      "cell_type": "code",
      "source": [
        "Table = []\n",
        "for element in raw_pdf_elements:\n",
        "  if \"unstructured.documents.elements.Table\" in str(type(element)):\n",
        "            Table.append(str(element))"
      ],
      "metadata": {
        "id": "nT2HA954X_y-"
      },
      "execution_count": 16,
      "outputs": []
    },
    {
      "cell_type": "code",
      "source": [
        "Table[0]\n",
        "print(f\"the number of Tables found are:\",len(Table))\n"
      ],
      "metadata": {
        "id": "MheFCKtMZJaf",
        "colab": {
          "base_uri": "https://localhost:8080/"
        },
        "outputId": "4bc257c2-e642-4e51-cc36-d2183044225e"
      },
      "execution_count": 17,
      "outputs": [
        {
          "output_type": "stream",
          "name": "stdout",
          "text": [
            "the number of Tables found are: 4\n"
          ]
        }
      ]
    },
    {
      "cell_type": "markdown",
      "source": [
        "##**Text**"
      ],
      "metadata": {
        "id": "s6yqz-9MZec9"
      }
    },
    {
      "cell_type": "code",
      "source": [
        "Text=[]\n",
        "for element in raw_pdf_elements:\n",
        "  if \"unstructured.documents.elements.NarrativeText\" in str(type(element)):\n",
        "            Text.append(str(element))"
      ],
      "metadata": {
        "id": "Vyn9wiv7ZOa_"
      },
      "execution_count": 18,
      "outputs": []
    },
    {
      "cell_type": "code",
      "source": [
        "Text[0]\n",
        "print(f\"the number of Text chunks found are:\",len(Text))"
      ],
      "metadata": {
        "id": "8ZipLeMSZREf",
        "colab": {
          "base_uri": "https://localhost:8080/"
        },
        "outputId": "c26c00a1-3145-4a6c-e96a-bafda52db9f4"
      },
      "execution_count": 19,
      "outputs": [
        {
          "output_type": "stream",
          "name": "stdout",
          "text": [
            "the number of Text chunks found are: 83\n"
          ]
        }
      ]
    },
    {
      "cell_type": "markdown",
      "source": [
        "#**Summarization**"
      ],
      "metadata": {
        "id": "8rul7cZNZlj2"
      }
    },
    {
      "cell_type": "code",
      "source": [
        "from langchain_core.output_parsers import StrOutputParser\n",
        "from langchain_core.prompts import ChatPromptTemplate\n",
        "from langchain_groq import ChatGroq"
      ],
      "metadata": {
        "id": "uoyJyKy6ZgI-"
      },
      "execution_count": 20,
      "outputs": []
    },
    {
      "cell_type": "markdown",
      "source": [
        "##**Table summary**"
      ],
      "metadata": {
        "id": "ixshr7LoZpCO"
      }
    },
    {
      "cell_type": "code",
      "source": [
        "# Prompt\n",
        "prompt_text = \"\"\"You are an assistant tasked with summarizing tables for retrieval. \\\n",
        "    Dont say here is a summary for your query, just summarize the table. \\\n",
        "    These summaries will be embedded and used to retrieve the raw table elements. \\\n",
        "    Give a concise summary of the table that is well optimized for retrieval. Table:{element} \"\"\""
      ],
      "metadata": {
        "id": "b_Z7l2FkZiR0"
      },
      "execution_count": 21,
      "outputs": []
    },
    {
      "cell_type": "code",
      "source": [
        "prompt = ChatPromptTemplate.from_template(prompt_text)"
      ],
      "metadata": {
        "id": "TkjdcHxkZ0_5"
      },
      "execution_count": 22,
      "outputs": []
    },
    {
      "cell_type": "code",
      "source": [
        "model = ChatGroq(api_key = groq_api_key,\n",
        "                 temperature=0, model=\"gemma2-9b-it\")"
      ],
      "metadata": {
        "id": "_qpzjJQ0Z08n"
      },
      "execution_count": 23,
      "outputs": []
    },
    {
      "cell_type": "code",
      "source": [
        "summarize_chain = {\"element\": lambda x: x} | prompt | model | StrOutputParser()"
      ],
      "metadata": {
        "id": "ydbtCqZbZ39y"
      },
      "execution_count": 24,
      "outputs": []
    },
    {
      "cell_type": "code",
      "source": [
        "table_summaries = []\n",
        "table_summaries = summarize_chain.batch(Table, {\"max_concurrency\": 5})"
      ],
      "metadata": {
        "id": "HVG-193VZ36Z"
      },
      "execution_count": 25,
      "outputs": []
    },
    {
      "cell_type": "code",
      "source": [
        "len(table_summaries)"
      ],
      "metadata": {
        "id": "Azb62IvnZ7KZ",
        "colab": {
          "base_uri": "https://localhost:8080/"
        },
        "outputId": "8d206f4a-6c21-485b-e45d-ee989e455235"
      },
      "execution_count": 26,
      "outputs": [
        {
          "output_type": "execute_result",
          "data": {
            "text/plain": [
              "4"
            ]
          },
          "metadata": {},
          "execution_count": 26
        }
      ]
    },
    {
      "cell_type": "code",
      "source": [
        "for table_summary in table_summaries:\n",
        "  print(table_summary)"
      ],
      "metadata": {
        "id": "Pnon8xq1Z84P",
        "colab": {
          "base_uri": "https://localhost:8080/"
        },
        "outputId": "95cd72e4-4436-4049-d434-04287b7ec4a4",
        "collapsed": true
      },
      "execution_count": 27,
      "outputs": [
        {
          "output_type": "stream",
          "name": "stdout",
          "text": [
            "The table compares the complexity of different neural network layers.  It shows the complexity per layer (O(n2 · d) for example), the sequential maximum path length, and the number of operations.  Layer types include Self-Attention, Recurrent, Convolutional, and a restricted version of Self-Attention.  \n",
            "\n",
            "\n",
            "This table compares the performance of various machine translation models on English-to-German (EN-DE) and English-to-French (EN-FR) tasks. Metrics include BLEU scores and training costs measured in FLOPs (floating-point operations).  Models range from ByteNet to Transformer (base and big), with different architectures and training techniques like Deep-Att, PosUnk, GNMT + RL, ConvS2S, and MoE.  Ensemble versions of some models are also included.  \n",
            "\n",
            "\n",
            "The table presents experimental results for different model configurations. It shows metrics like PPL (perplexity), BLEU score, and the number of parameters for various settings of dmodel, dff, h, dk, dv, Pdrop, ϵls, train steps.  The configurations are labeled (A) through (E) and include variations in embedding type.  \n",
            "\n",
            "\n",
            "\n",
            "\n",
            "This table compares parser F1 scores on the WSJ dataset.  Results are shown for various models, training methods (discriminative, semi-supervised, multi-task, generative), and architectures (Transformer).  Scores range from 88.3% to 93.3%.  \n",
            "\n",
            "\n"
          ]
        }
      ]
    },
    {
      "cell_type": "code",
      "source": [
        "table_summaries[0]"
      ],
      "metadata": {
        "colab": {
          "base_uri": "https://localhost:8080/",
          "height": 70
        },
        "id": "79FEU8tA8zz7",
        "outputId": "9cd4bd06-41c4-4715-ed58-2f9ab4377f09"
      },
      "execution_count": 28,
      "outputs": [
        {
          "output_type": "execute_result",
          "data": {
            "text/plain": [
              "'The table compares the complexity of different neural network layers.  It shows the complexity per layer (O(n2 · d) for example), the sequential maximum path length, and the number of operations.  Layer types include Self-Attention, Recurrent, Convolutional, and a restricted version of Self-Attention.  \\n\\n'"
            ],
            "application/vnd.google.colaboratory.intrinsic+json": {
              "type": "string"
            }
          },
          "metadata": {},
          "execution_count": 28
        }
      ]
    },
    {
      "cell_type": "markdown",
      "source": [
        "##**Image Summary**"
      ],
      "metadata": {
        "id": "Rn51-Uz1Zr7J"
      }
    },
    {
      "cell_type": "code",
      "source": [
        "import base64\n",
        "import os\n",
        "from langchain_core.messages import HumanMessage"
      ],
      "metadata": {
        "id": "7qGnslTUZtZ_"
      },
      "execution_count": 29,
      "outputs": []
    },
    {
      "cell_type": "code",
      "source": [
        "# to pass to the api call must be in base64\n",
        "def encode_image(image_path):\n",
        "    \"\"\"Getting the base64 string\"\"\"\n",
        "    with open(image_path, \"rb\") as image_file:\n",
        "        return base64.b64encode(image_file.read()).decode(\"utf-8\")"
      ],
      "metadata": {
        "id": "zR4BlLbYaAzM"
      },
      "execution_count": 30,
      "outputs": []
    },
    {
      "cell_type": "code",
      "source": [
        "def image_summarize(img_base64, prompt):\n",
        "    \"\"\"Make image summary\"\"\"\n",
        "    chat = ChatGroq(api_key =groq_api_key ,temperature=0, model=\"llama-3.2-11b-vision-preview\")\n",
        "    msg = chat.invoke(\n",
        "        [\n",
        "            HumanMessage(\n",
        "                content=[\n",
        "                    {\"type\": \"text\", \"text\": prompt},\n",
        "                    {\n",
        "                        \"type\": \"image_url\",\n",
        "                        \"image_url\": {\"url\": f\"data:image/jpeg;base64,{img_base64}\"},\n",
        "                    },\n",
        "                ]\n",
        "            )\n",
        "        ]\n",
        "    )\n",
        "    return msg.content"
      ],
      "metadata": {
        "id": "jPoDBLeQaChz"
      },
      "execution_count": 31,
      "outputs": []
    },
    {
      "cell_type": "code",
      "source": [
        "def generate_img_summaries(path):\n",
        "    \"\"\"\n",
        "    Generate summaries and base64 encoded strings for images\n",
        "    path: Path to list of .jpg files extracted by Unstructured\n",
        "    \"\"\"\n",
        "\n",
        "    # Store base64 encoded images\n",
        "    img_base64_list = []\n",
        "\n",
        "    # Store image summaries\n",
        "    image_summaries = []\n",
        "\n",
        "    # Prompt\n",
        "    prompt = \"\"\"You are an assistant tasked with summarizing images for retrieval. \\\n",
        "    These summaries will be embedded and used to retrieve the raw image. \\\n",
        "    Give a concise summary of the image that is well optimized for retrieval.\"\"\"\n",
        "\n",
        "    # Apply to images\n",
        "    for img_file in sorted(os.listdir(path)):\n",
        "        if img_file.endswith(\".jpg\"):\n",
        "            img_path = os.path.join(path, img_file)\n",
        "            base64_image = encode_image(img_path)\n",
        "            img_base64_list.append(base64_image)\n",
        "            image_summaries.append(image_summarize(base64_image, prompt))\n",
        "\n",
        "\n",
        "    return img_base64_list, image_summaries"
      ],
      "metadata": {
        "id": "48ZAqJJzaCef"
      },
      "execution_count": 32,
      "outputs": []
    },
    {
      "cell_type": "code",
      "source": [
        "fpath = \"/content/extracted_data\""
      ],
      "metadata": {
        "id": "epzT0_mjaCbt"
      },
      "execution_count": 33,
      "outputs": []
    },
    {
      "cell_type": "code",
      "source": [
        "# Image summaries\n",
        "img_base64_list, image_summaries = generate_img_summaries(fpath)"
      ],
      "metadata": {
        "id": "qTdPX_SwaHxt"
      },
      "execution_count": 34,
      "outputs": []
    },
    {
      "cell_type": "code",
      "source": [
        "img_base64_list[5]"
      ],
      "metadata": {
        "colab": {
          "base_uri": "https://localhost:8080/",
          "height": 140
        },
        "id": "pZBzQ_jXBsUU",
        "outputId": "0c2b172a-d0cc-4e1f-949d-c850bd499d78"
      },
      "execution_count": 35,
      "outputs": [
        {
          "output_type": "execute_result",
          "data": {
            "text/plain": [
              "'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'"
            ],
            "application/vnd.google.colaboratory.intrinsic+json": {
              "type": "string"
            }
          },
          "metadata": {},
          "execution_count": 35
        }
      ]
    },
    {
      "cell_type": "code",
      "source": [
        "# display image\n",
        "import base64\n",
        "from IPython.display import Image, display\n",
        "def display_base64_image(base64_code):\n",
        "    # Decode the base64 string to binary\n",
        "    image_data = base64.b64decode(base64_code)\n",
        "    # Display the image\n",
        "    display(Image(data=image_data))\n",
        "\n",
        "display_base64_image(img_base64_list[5])"
      ],
      "metadata": {
        "id": "f9bOhDhqaHuV",
        "colab": {
          "base_uri": "https://localhost:8080/",
          "height": 489
        },
        "outputId": "2bec3351-6f9b-4507-ce27-cb3ed54257ab"
      },
      "execution_count": 36,
      "outputs": [
        {
          "output_type": "display_data",
          "data": {
            "image/jpeg": "[encoded data removed]",
            "text/plain": [
              "<IPython.core.display.Image object>"
            ]
          },
          "metadata": {}
        }
      ]
    },
    {
      "cell_type": "code",
      "source": [
        "image_summaries[5]"
      ],
      "metadata": {
        "id": "uYQiQtMOaN2L",
        "colab": {
          "base_uri": "https://localhost:8080/",
          "height": 140
        },
        "outputId": "169a7ff4-a5dd-4857-d8de-15a3471b3f25"
      },
      "execution_count": 37,
      "outputs": [
        {
          "output_type": "execute_result",
          "data": {
            "text/plain": [
              "'The image presents a flowchart illustrating the process of scaled dot-product attention and multi-head attention in deep learning models. The flowchart is divided into two main sections: Scaled Dot-Product Attention and Multi-Head Attention.\\n\\n**Scaled Dot-Product Attention**\\n\\n*   This section consists of three sub-sections:\\n    *   **MatMul**: This sub-section represents the matrix multiplication operation, which is used to compute the dot product of two matrices.\\n    *   **SoftMax**: This sub-section represents the softmax activation function, which is used to normalize the output of the matrix multiplication.\\n    *   **Mask (opt.)**: This sub-section represents the optional masking operation, which is used to prevent the model from attending to certain positions in the input sequence.\\n\\n**Multi-Head Attention**\\n\\n*   This section consists of four sub-sections:\\n    *   **Linear**: This sub-section represents the linear transformation operation, which is used to project the input sequence into a higher-dimensional space.\\n    *   **Concat**: This sub-section represents the concatenation operation, which is used to combine the outputs of multiple attention heads.\\n    *   **Scaled Dot-Product Attention**: This sub-section represents the scaled dot-product attention mechanism, which is used to compute the attention weights.\\n    *   **Concat**: This sub-section represents the concatenation operation, which is used to combine the outputs of multiple attention heads.\\n\\nIn summary, the image illustrates the process of scaled dot-product attention and multi-head attention in deep learning models. The flowchart shows how these mechanisms are used to compute attention weights and combine them to produce the final output.'"
            ],
            "application/vnd.google.colaboratory.intrinsic+json": {
              "type": "string"
            }
          },
          "metadata": {},
          "execution_count": 37
        }
      ]
    },
    {
      "cell_type": "markdown",
      "source": [
        "We see that we've created summaries for all images , including images for tables --> should be fixed unless we have redundant\n"
      ],
      "metadata": {
        "id": "2_Hd-4giaRiM"
      }
    },
    {
      "cell_type": "markdown",
      "source": [
        "#**MultiVector Retrieval**"
      ],
      "metadata": {
        "id": "6HpKnJ1QaSv1"
      }
    },
    {
      "cell_type": "code",
      "source": [
        "import uuid\n",
        "\n",
        "from langchain.retrievers.multi_vector import MultiVectorRetriever  # for multivector\n",
        "from langchain.storage import InMemoryStore                         # for doc store\n",
        "from langchain_community.vectorstores import Chroma                 #vector database\n",
        "from langchain_core.documents import Document                       # langchain document type\n",
        "\n",
        "# open source embeddings\n",
        "# from langchain_community.embeddings import GPT4AllEmbeddings\n",
        "from langchain_huggingface import HuggingFaceEmbeddings\n"
      ],
      "metadata": {
        "id": "Q4HOuYT2aQ_T"
      },
      "execution_count": 38,
      "outputs": []
    },
    {
      "cell_type": "markdown",
      "source": [
        "##**Intialize Embeddings**"
      ],
      "metadata": {
        "id": "m0iIc9gYac7K"
      }
    },
    {
      "cell_type": "code",
      "source": [
        "embeddings=HuggingFaceEmbeddings(model_name=\"all-MiniLM-L6-v2\")\n",
        "embeddings"
      ],
      "metadata": {
        "id": "OvJCp4efabHv",
        "colab": {
          "base_uri": "https://localhost:8080/",
          "height": 473,
          "referenced_widgets": [
            "22e61c5cf5844b03b0fdd8d5f7480bb7",
            "913cd0c53762465daf29adb113c9deed",
            "508a663869bb4f028d02ee74a7d35d74",
            "819a61ebee354ce2a4a9a07c019e86a2",
            "1f8c588da8474a699d6f9337acbacaa8",
            "4bd97e280c1749c7a0a0b8b11504157e",
            "d9e698f29e4c41c28a2997866873ab56",
            "12b3a12720d44457a8571599f39766e1",
            "1ecab716db3e4704aa62ad57fb248958",
            "ed51b9b108eb455da2739477b474a66b",
            "62d86b94877c4ffd9cb9120c324fee2b",
            "6beb6255f3c845b387e2491560c9cc5a",
            "42b130d4c114406cb607aa260bd401e8",
            "703edd0a40d0493499411f4861f2f481",
            "d3eb8e9129cd43d795651a04c8afede3",
            "9a545267ec364ce286b3c65e2db44013",
            "549e74c32a5b4e658275ea2ebef3b8db",
            "a44240e6ad1648edac698d79ba995d23",
            "afcf0995dcb94c2489ccb971fd721069",
            "a783b66ee6e344979b6b7ae89dcb4c49",
            "5912d34b8c8a4ee6a2c316f15e8f883d",
            "f21275eb85af4964ba19be84ed3764e0",
            "2b0c474231fc477684fe45a2820db258",
            "e39e9de6e7a6493ba49df2e9b41fd531",
            "d4e609d47dba4d00aec02a1ba16c8427",
            "8df88e0fec0144098b9b858f24f1abfa",
            "41329a4f416c49e2bd41f23c27f28b42",
            "2138ec117da34c809fc395222207b7ed",
            "c8a0374ccbd947368b316cb0a73188b7",
            "dfe85838a1b7497b88fbe01444e3c1e1",
            "300cb29a0c0b402f9cbcb9c4f87d4b5e",
            "2306f4c5d6e840ad8748ec50570aa1f9",
            "b43aad20c8704daa9579eb188be45070",
            "9dc954c6328845c4ad85425428f7dc0d",
            "36280e6287f245b69afe20d138945d3b",
            "f61227958d9249cda97cd3cd6be21cfb",
            "8d2afb3948624071b0e523f324361b97",
            "f8f3f96f0ecf403c975039a00226dcb8",
            "86a9042f753c4f3baca72bef57c78186",
            "c477900b89914bfd8186922a9f87bbc7",
            "7f10047f224e46c489ac9c91dc3a939b",
            "d4ce2583b5ee413a97915bbcd4351fdf",
            "8c056144c33148abac20b76a3fc7b26b",
            "9edf41f1c6dc42f4972209677a9878a3",
            "fa195a9a4b0c4192b0547f2638a9c8ad",
            "c5f5121fc1f745d78837be2632847de5",
            "ea7442ce10fc4115a06e7e69de45cc20",
            "708847cf13ca4ad9aebecc3d48f8f08a",
            "ac59bad07a0740d2842157c38010a426",
            "ae2ba6f0788647b7b82694be2d7c4bdb",
            "c22f3539ed904ac68ed8cce7bcad385d",
            "96ae0389fd4a4092a90d338921bbcbc3",
            "664366621e694f6b88a25b70da2b48f7",
            "dc5e50d3cada475daa24c855bbf07bec",
            "70c3944e9b99407f804a1b9f9d27f663",
            "b083d4e8e74048848c34bb064e104375",
            "f7eebad3a18647d48a79509ca643295c",
            "6d8035d6af7f44ce95bf01d7bf8890c5",
            "d59443775f784010a32d673023c65db7",
            "1e49d41a521641dc9e98bcbb0809e7e7",
            "15f5aef3fc7f47839fe67dd963b3ff9e",
            "79b58aa0aa3945acae1bc3ce00248410",
            "eae8d7be90884ccfb1fe567051a13486",
            "cdbb74f4f9d746bca8ee61a04baf1058",
            "2e41afef654746f7b89af76d3608e064",
            "570be8ef6cbb46faa974fb2c2ab0be1d",
            "5a6bdf01f6e54aa49ac7d7ecf37ded4a",
            "a7fecac4d0b64365a6bf4e5b4a7759a3",
            "4e4d9c343ec74482b0194ecdef1ce5fc",
            "d134b95b0b584a02ab00f28be3b50d54",
            "ca88ea87c0d7496583c084cd35b5c40e",
            "dce36f36f96d4f77908fb317f62eab79",
            "e889d46b5a0b42acb78fdd401ed38d12",
            "2470c98dc01a4f66b61df27a18dbfd81",
            "d292bb6ebc084120a6c8bd7134e41b47",
            "1bcaf0e1569d4b6e89ab8998dfaa694d",
            "25cb635607054b52835f0231c924d454",
            "24d7974e6fd14e818eaeb15b12f32f21",
            "5abce12d1adb4a018b8b5c8eb5bc8bc7",
            "4cff9853a5034d9a9e200968f8f7cb4a",
            "3e7992cb90f940828a8e88cfe615eb72",
            "d8654db5a928482a9179f4dd6e50a6ad",
            "a614e36f32c34906b4086bfba80781d0",
            "8f402bc9b4014866a1f3f356e06fc6ed",
            "1eb9b5a68c114f06b12ebe28272dc1d5",
            "4ced2be104f849acb9cf270612a8c260",
            "7052cfef004f4087a4c1d2a94747e7a3",
            "6528d96d54c648c2876d14cf9dd95e1b",
            "de0929ea1d4346f5951e0d8cd2a2b8cf",
            "7e42b447ce80431fb1af70addb8d8262",
            "a1bd13dc5ccc4161bd053a41e52f01a6",
            "785fe0b0ba324e7aa3ad8914b3d2d750",
            "fe8e591685e045e6a661dacb5d86a2b2",
            "123e85f57938486eb0a77a04655f1420",
            "affc5387a30a4911a9366fb8f429159b",
            "8ee78a65462d404e94636f9ffb87ce20",
            "929085e44926453185bc2d6a40de8fa2",
            "8b16f0ef104042c8a2c8ab196acb596b",
            "eea108ffb16a4ce0bca9cd3942a3e600",
            "7b7a9d29508f4e798840f754b43efc6b",
            "2bdc059e631f494f8947099048320b6f",
            "12dd5e6f35a9465d9c513cbd724b6e7b",
            "4781c419b650436eaec2c6542fd0c326",
            "67f0d2c44ad84973a8ad40f28687f590",
            "abdacd54691d46b29e475b563dd81ea8",
            "963b3b670c8d4408a4050b1062697d50",
            "f5eff345ee6f4a4bbc1b75e706d2442d",
            "2536a6462fe94348983d1a396daf35fe",
            "0ffb4fad38f0423892b855c89ca977c3",
            "cef6a7ea62ed408ea18c76b2156bda24",
            "dc254a7805024db791f72d38a18171e2",
            "15830c8732174380b0d9133cb6989575",
            "18d9976a857d4d4f8c05477662593af4",
            "c7857e06ac134b9f924ea2bac470cad9",
            "4e10a23c300e4074bccca84ed106b0f3",
            "90dcd7ea95e844fd9e7b8224521d28d6",
            "3c7f6562131244cd8b40519cf9bba608",
            "a47f6c571bee429f9e8c6576633537ee",
            "9e91e2c066c14299b1daa69d29679377",
            "867a5ec35401402d8a3c7280e5ad211d",
            "8669a9502981417db365c93ba4389135",
            "ce3884f0085e461491b126ca2f06c9e4",
            "8916450428794020a59e82f19b36a229",
            "4ecc4bd0bb264989aef09233003147d4",
            "773a7352ab7b4e06bb5d6fbf82c8afc1",
            "8628349ebcf04f71b16328d141fafedc",
            "f2a9689e655649b7a80a174d66b0b3b9",
            "b059d07252e64df4bae52ce9a8fb6239",
            "5c71e423a39742049572cc08099c03d5",
            "2619a7bb3bb14a79b684ad0a31c2f829",
            "8fa33b70267644cca0fba09b74243dff",
            "1bc3f9fbce3b4633bee9e7ea3f0db5c9"
          ]
        },
        "outputId": "d76e8c53-299b-4b49-c7d4-3a78abdd5092"
      },
      "execution_count": 39,
      "outputs": [
        {
          "output_type": "stream",
          "name": "stderr",
          "text": [
            "The cache for model files in Transformers v4.22.0 has been updated. Migrating your old cache. This is a one-time only operation. You can interrupt this and resume the migration later on by calling `transformers.utils.move_cache()`.\n"
          ]
        },
        {
          "output_type": "display_data",
          "data": {
            "text/plain": [
              "0it [00:00, ?it/s]"
            ],
            "application/vnd.jupyter.widget-view+json": {
              "version_major": 2,
              "version_minor": 0,
              "model_id": "22e61c5cf5844b03b0fdd8d5f7480bb7"
            }
          },
          "metadata": {}
        },
        {
          "output_type": "display_data",
          "data": {
            "text/plain": [
              "modules.json:   0%|          | 0.00/349 [00:00<?, ?B/s]"
            ],
            "application/vnd.jupyter.widget-view+json": {
              "version_major": 2,
              "version_minor": 0,
              "model_id": "6beb6255f3c845b387e2491560c9cc5a"
            }
          },
          "metadata": {}
        },
        {
          "output_type": "display_data",
          "data": {
            "text/plain": [
              "config_sentence_transformers.json:   0%|          | 0.00/116 [00:00<?, ?B/s]"
            ],
            "application/vnd.jupyter.widget-view+json": {
              "version_major": 2,
              "version_minor": 0,
              "model_id": "2b0c474231fc477684fe45a2820db258"
            }
          },
          "metadata": {}
        },
        {
          "output_type": "display_data",
          "data": {
            "text/plain": [
              "README.md:   0%|          | 0.00/10.7k [00:00<?, ?B/s]"
            ],
            "application/vnd.jupyter.widget-view+json": {
              "version_major": 2,
              "version_minor": 0,
              "model_id": "9dc954c6328845c4ad85425428f7dc0d"
            }
          },
          "metadata": {}
        },
        {
          "output_type": "display_data",
          "data": {
            "text/plain": [
              "sentence_bert_config.json:   0%|          | 0.00/53.0 [00:00<?, ?B/s]"
            ],
            "application/vnd.jupyter.widget-view+json": {
              "version_major": 2,
              "version_minor": 0,
              "model_id": "fa195a9a4b0c4192b0547f2638a9c8ad"
            }
          },
          "metadata": {}
        },
        {
          "output_type": "display_data",
          "data": {
            "text/plain": [
              "config.json:   0%|          | 0.00/612 [00:00<?, ?B/s]"
            ],
            "application/vnd.jupyter.widget-view+json": {
              "version_major": 2,
              "version_minor": 0,
              "model_id": "b083d4e8e74048848c34bb064e104375"
            }
          },
          "metadata": {}
        },
        {
          "output_type": "display_data",
          "data": {
            "text/plain": [
              "model.safetensors:   0%|          | 0.00/90.9M [00:00<?, ?B/s]"
            ],
            "application/vnd.jupyter.widget-view+json": {
              "version_major": 2,
              "version_minor": 0,
              "model_id": "5a6bdf01f6e54aa49ac7d7ecf37ded4a"
            }
          },
          "metadata": {}
        },
        {
          "output_type": "display_data",
          "data": {
            "text/plain": [
              "tokenizer_config.json:   0%|          | 0.00/350 [00:00<?, ?B/s]"
            ],
            "application/vnd.jupyter.widget-view+json": {
              "version_major": 2,
              "version_minor": 0,
              "model_id": "24d7974e6fd14e818eaeb15b12f32f21"
            }
          },
          "metadata": {}
        },
        {
          "output_type": "display_data",
          "data": {
            "text/plain": [
              "vocab.txt:   0%|          | 0.00/232k [00:00<?, ?B/s]"
            ],
            "application/vnd.jupyter.widget-view+json": {
              "version_major": 2,
              "version_minor": 0,
              "model_id": "de0929ea1d4346f5951e0d8cd2a2b8cf"
            }
          },
          "metadata": {}
        },
        {
          "output_type": "display_data",
          "data": {
            "text/plain": [
              "tokenizer.json:   0%|          | 0.00/466k [00:00<?, ?B/s]"
            ],
            "application/vnd.jupyter.widget-view+json": {
              "version_major": 2,
              "version_minor": 0,
              "model_id": "7b7a9d29508f4e798840f754b43efc6b"
            }
          },
          "metadata": {}
        },
        {
          "output_type": "display_data",
          "data": {
            "text/plain": [
              "special_tokens_map.json:   0%|          | 0.00/112 [00:00<?, ?B/s]"
            ],
            "application/vnd.jupyter.widget-view+json": {
              "version_major": 2,
              "version_minor": 0,
              "model_id": "dc254a7805024db791f72d38a18171e2"
            }
          },
          "metadata": {}
        },
        {
          "output_type": "display_data",
          "data": {
            "text/plain": [
              "1_Pooling/config.json:   0%|          | 0.00/190 [00:00<?, ?B/s]"
            ],
            "application/vnd.jupyter.widget-view+json": {
              "version_major": 2,
              "version_minor": 0,
              "model_id": "ce3884f0085e461491b126ca2f06c9e4"
            }
          },
          "metadata": {}
        },
        {
          "output_type": "execute_result",
          "data": {
            "text/plain": [
              "HuggingFaceEmbeddings(model_name='all-MiniLM-L6-v2', cache_folder=None, model_kwargs={}, encode_kwargs={}, multi_process=False, show_progress=False)"
            ]
          },
          "metadata": {},
          "execution_count": 39
        }
      ]
    },
    {
      "cell_type": "markdown",
      "source": [
        "##**VectorStore and MultiRetriever**"
      ],
      "metadata": {
        "id": "kev8PgSrahpr"
      }
    },
    {
      "cell_type": "code",
      "source": [
        "vectorstore = Chroma(\n",
        "    collection_name=\"mm_rag_pdf\", embedding_function=embeddings)\n",
        "\n",
        "# Initialize the document storage layer\n",
        "store = InMemoryStore()\n",
        "id_key = \"doc_id\"\n",
        "\n",
        "# Create the multi-vector retriever\n",
        "retriever = MultiVectorRetriever(\n",
        "    vectorstore=vectorstore,\n",
        "    docstore=store,\n",
        "    id_key=id_key,\n",
        ")\n"
      ],
      "metadata": {
        "id": "9xeNPpArabEm",
        "colab": {
          "base_uri": "https://localhost:8080/"
        },
        "outputId": "384d740e-502f-4260-806d-ceb33e1c3571"
      },
      "execution_count": 40,
      "outputs": [
        {
          "output_type": "stream",
          "name": "stderr",
          "text": [
            "<ipython-input-40-fa52b1b6c28f>:1: LangChainDeprecationWarning: The class `Chroma` was deprecated in LangChain 0.2.9 and will be removed in 1.0. An updated version of the class exists in the :class:`~langchain-chroma package and should be used instead. To use it run `pip install -U :class:`~langchain-chroma` and import as `from :class:`~langchain_chroma import Chroma``.\n",
            "  vectorstore = Chroma(\n"
          ]
        }
      ]
    },
    {
      "cell_type": "markdown",
      "source": [
        "##**populating the vectoreDB**"
      ],
      "metadata": {
        "id": "z6vEuscOaoUY"
      }
    },
    {
      "cell_type": "code",
      "source": [
        "def add_documents_to_retriever(summaries, original_contents):\n",
        "    doc_ids = [str(uuid.uuid4()) for _ in summaries]\n",
        "    summary_docs = [\n",
        "        Document(page_content=s, metadata={id_key: doc_ids[i]})\n",
        "        for i, s in enumerate(summaries)\n",
        "    ]\n",
        "    retriever.vectorstore.add_documents(summary_docs)\n",
        "    retriever.docstore.mset(list(zip(doc_ids, original_contents)))"
      ],
      "metadata": {
        "id": "aRB6h4lpabCP"
      },
      "execution_count": 41,
      "outputs": []
    },
    {
      "cell_type": "code",
      "source": [
        "# no need for text summaries --> already small chunks\n",
        "add_documents_to_retriever(Text, Text)\n",
        "\n",
        "# Add table summaries\n",
        "add_documents_to_retriever(table_summaries, Table)"
      ],
      "metadata": {
        "id": "lqG5Yq4tavHR"
      },
      "execution_count": 42,
      "outputs": []
    },
    {
      "cell_type": "code",
      "source": [
        "# Add image summaries\n",
        "add_documents_to_retriever(image_summaries, img_base64_list)"
      ],
      "metadata": {
        "id": "Pc4FHzaRavD7"
      },
      "execution_count": 43,
      "outputs": []
    },
    {
      "cell_type": "markdown",
      "source": [
        "##**Check retireval**"
      ],
      "metadata": {
        "id": "Q-lyNUusa3Mp"
      }
    },
    {
      "cell_type": "code",
      "source": [
        "docs= retriever.invoke(\"How is the scaled dot product attention calculated?\")"
      ],
      "metadata": {
        "id": "g1qGsEr_a4vN"
      },
      "execution_count": 44,
      "outputs": []
    },
    {
      "cell_type": "code",
      "source": [
        "for doc in docs:\n",
        "    print(str(doc) + \"\\n\\n\" + \"-\" * 80)"
      ],
      "metadata": {
        "id": "ZUXUwuwea7gu",
        "colab": {
          "base_uri": "https://localhost:8080/"
        },
        "outputId": "e7e54fca-d45c-4b68-9378-9ab45bcb022f"
      },
      "execution_count": 45,
      "outputs": [
        {
          "output_type": "stream",
          "name": "stdout",
          "text": [
            "Figure 2: (left) Scaled Dot-Product Attention. (right) Multi-Head Attention consists of several attention layers running in parallel.\n",
            "\n",
            "--------------------------------------------------------------------------------\n",
            "We call our particular attention \"Scaled Dot-Product Attention\" (Figure 2). The input consists of queries and keys of dimension dk, and values of dimension dv. We compute the dot products of the √ dk, and apply a softmax function to obtain the weights on the query with all keys, divide each by values.\n",
            "\n",
            "--------------------------------------------------------------------------------\n",
            "While for small values of dk the two mechanisms perform similarly, additive attention outperforms dot product attention without scaling for larger values of dk [3]. We suspect that for large values of dk, the dot products grow large in magnitude, pushing the softmax function into regions where it has extremely small gradients 4. To counteract this effect, we scale the dot products by 1√ . dk\n",
            "\n",
            "--------------------------------------------------------------------------------\n",
            "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\n",
            "\n",
            "--------------------------------------------------------------------------------\n"
          ]
        }
      ]
    },
    {
      "cell_type": "code",
      "source": [
        "docs= retriever.invoke(\"What is the BLEU score of the model in English to German translation EN-DE? \")\n",
        "docs"
      ],
      "metadata": {
        "id": "jCLsVxBka9RI",
        "colab": {
          "base_uri": "https://localhost:8080/"
        },
        "outputId": "ccc31730-4e7c-46c8-c4bc-510a2fa40e45"
      },
      "execution_count": 46,
      "outputs": [
        {
          "output_type": "execute_result",
          "data": {
            "text/plain": [
              "['On the WMT 2014 English-to-French translation task, our big model achieves a BLEU score of 41.0, outperforming all of the previously published single models, at less than 1/4 the training cost of the previous state-of-the-art model. The Transformer (big) model trained for English-to-French used dropout rate Pdrop = 0.1, instead of 0.3.',\n",
              " 'Model BLEU EN-DE EN-FR Training Cost (FLOPs) EN-DE EN-FR ByteNet [18] 23.75 Deep-Att + PosUnk [39] 39.2 1.0 · 1020 GNMT + RL [38] 24.6 39.92 2.3 · 1019 1.4 · 1020 ConvS2S [9] 25.16 40.46 9.6 · 1018 1.5 · 1020 MoE [32] 26.03 40.56 2.0 · 1019 1.2 · 1020 Deep-Att + PosUnk Ensemble [39] 40.4 8.0 · 1020 GNMT + RL Ensemble [38] 26.30 41.16 1.8 · 1020 1.1 · 1021 ConvS2S Ensemble [9] 26.36 41.29 7.7 · 1019 1.2 · 1021 Transformer (base model) 27.3 38.1 3.3 · 1018 Transformer (big) 28.4 41.8 2.3 · 1019',\n",
              " 'On the WMT 2014 English-to-German translation task, the big transformer model (Transformer (big) in Table 2) outperforms the best previously reported models (including ensembles) by more than 2.0 BLEU, establishing a new state-of-the-art BLEU score of 28.4. The configuration of this model is listed in the bottom line of Table 3. Training took 3.5 days on 8 P100 GPUs. Even our base model surpasses all previously published models and ensembles, at a fraction of the training cost of any of the competitive models.',\n",
              " 'We performed only a small number of experiments to select the dropout, both attention and residual (section 5.4), learning rates and beam size on the Section 22 development set, all other parameters remained unchanged from the English-to-German base translation model. During inference, we']"
            ]
          },
          "metadata": {},
          "execution_count": 46
        }
      ]
    },
    {
      "cell_type": "code",
      "source": [
        "docs= retriever.invoke(\"Show me a picture that shows the difference between Scaled Dot-Product Attention and Multi-Head Attention.\")\n",
        "docs"
      ],
      "metadata": {
        "colab": {
          "base_uri": "https://localhost:8080/"
        },
        "id": "XG4Q-AVCiHl4",
        "outputId": "eee41f3c-929c-4518-a798-b72e7fbf9ce1"
      },
      "execution_count": 47,
      "outputs": [
        {
          "output_type": "execute_result",
          "data": {
            "text/plain": [
              "['Figure 2: (left) Scaled Dot-Product Attention. (right) Multi-Head Attention consists of several attention layers running in parallel.',\n",
              " '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',\n",
              " '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',\n",
              " 'The two most commonly used attention functions are additive attention [2], and dot-product (multi- plicative) attention. Dot-product attention is identical to our algorithm, except for the scaling factor 1√ of . Additive attention computes the compatibility function using a feed-forward network with dk a single hidden layer. While the two are similar in theoretical complexity, dot-product attention is much faster and more space-efficient in practice, since it can be implemented using highly optimized matrix multiplication code.']"
            ]
          },
          "metadata": {},
          "execution_count": 47
        }
      ]
    },
    {
      "cell_type": "code",
      "source": [
        "docs= retriever.invoke(\"Which optimizer was used when training the models? \")\n",
        "docs"
      ],
      "metadata": {
        "colab": {
          "base_uri": "https://localhost:8080/"
        },
        "id": "U2qOvhuriZAk",
        "outputId": "b0482ad6-fc72-48a9-f033-dfef4be44e7c"
      },
      "execution_count": 48,
      "outputs": [
        {
          "output_type": "execute_result",
          "data": {
            "text/plain": [
              "['This section describes the training regime for our models.',\n",
              " 'We used the Adam optimizer [20] with β1 = 0.9, β2 = 0.98 and ϵ = 10−9. We varied the learning rate over the course of training, according to the formula:',\n",
              " 'N dmodel dff h dk dv Pdrop ϵls train steps PPL (dev) BLEU params (dev) ×106 base 6 512 2048 8 64 64 0.1 0.1 100K 4.92 25.8 65 1 512 512 5.29 24.9 (A) 4 16 128 32 128 32 5.00 4.91 25.5 25.8 32 16 16 5.01 25.4 (B) 16 32 5.16 5.01 25.1 25.4 58 60 2 6.11 23.7 36 4 5.19 25.3 50 8 4.88 25.5 80 (C) 256 32 32 5.75 24.5 28 1024 128 128 4.66 26.0 168 1024 5.12 25.4 53 4096 4.75 26.2 90 0.0 5.77 24.6 (D) 0.2 0.0 4.95 4.67 25.5 25.3 0.2 5.47 25.7 (E) positional embedding instead of sinusoids 4.92 25.7',\n",
              " 'This corresponds to increasing the learning rate linearly for the first warmup_steps training steps, and decreasing it thereafter proportionally to the inverse square root of the step number. We used warmup_steps = 4000.']"
            ]
          },
          "metadata": {},
          "execution_count": 48
        }
      ]
    },
    {
      "cell_type": "code",
      "source": [
        "docs= retriever.invoke(\"How long were the base and big models trained? \")\n",
        "docs"
      ],
      "metadata": {
        "colab": {
          "base_uri": "https://localhost:8080/"
        },
        "id": "X3yzzeaMimKx",
        "outputId": "8b078669-c3e7-4621-ab27-81b1c892ad28"
      },
      "execution_count": 49,
      "outputs": [
        {
          "output_type": "execute_result",
          "data": {
            "text/plain": [
              "['This section describes the training regime for our models.',\n",
              " 'We trained our models on one machine with 8 NVIDIA P100 GPUs. For our base models using the hyperparameters described throughout the paper, each training step took about 0.4 seconds. We trained the base models for a total of 100,000 steps or 12 hours. For our big models,(described on the bottom line of table 3), step time was 1.0 seconds. The big models were trained for 300,000 steps (3.5 days).',\n",
              " 'For the base models, we used a single model obtained by averaging the last 5 checkpoints, which were written at 10-minute intervals. For the big models, we averaged the last 20 checkpoints. We used beam search with a beam size of 4 and length penalty α = 0.6 [38]. These hyperparameters were chosen after experimentation on the development set. We set the maximum output length during inference to input length + 50, but terminate early when possible [38].',\n",
              " 'We also experimented with using learned positional embeddings [9] instead, and found that the two versions produced nearly identical results (see Table 3 row (E)). We chose the sinusoidal version because it may allow the model to extrapolate to sequence lengths longer than the ones encountered during training.']"
            ]
          },
          "metadata": {},
          "execution_count": 49
        }
      ]
    },
    {
      "cell_type": "markdown",
      "source": [
        "#**Multi retieval chain**"
      ],
      "metadata": {
        "id": "BJ5pb0LXa_w2"
      }
    },
    {
      "cell_type": "markdown",
      "source": [
        "##**Utils**"
      ],
      "metadata": {
        "id": "PtkZdfVTbDGb"
      }
    },
    {
      "cell_type": "code",
      "source": [
        "import io\n",
        "import re\n",
        "\n",
        "from IPython.display import HTML, display\n",
        "from PIL import Image"
      ],
      "metadata": {
        "id": "8DEsi74abCI7"
      },
      "execution_count": 50,
      "outputs": []
    },
    {
      "cell_type": "code",
      "source": [
        "def plt_img_base64(img_base64):\n",
        "    \"\"\"Disply base64 encoded string as image\"\"\"\n",
        "    # Create an HTML img tag with the base64 string as the source\n",
        "    image_html = f'<img src=\"data:image/jpeg;base64,{img_base64}\" />'\n",
        "    # Display the image by rendering the HTML\n",
        "    display(HTML(image_html))"
      ],
      "metadata": {
        "id": "G2h2tnZRbI-g"
      },
      "execution_count": 51,
      "outputs": []
    },
    {
      "cell_type": "code",
      "source": [
        "def looks_like_base64(sb):\n",
        "    \"\"\"Check if the string looks like base64\"\"\"\n",
        "    return re.match(\"^[A-Za-z0-9+/]+[=]{0,2}$\", sb) is not None\n"
      ],
      "metadata": {
        "id": "4_lG_UBnbOPT"
      },
      "execution_count": 52,
      "outputs": []
    },
    {
      "cell_type": "code",
      "source": [
        "def is_image_data(b64data):\n",
        "    \"\"\"\n",
        "    Check if the base64 data is an image by looking at the start of the data\n",
        "    \"\"\"\n",
        "    image_signatures = {\n",
        "        b\"\\xff\\xd8\\xff\": \"jpg\",\n",
        "        b\"\\x89\\x50\\x4e\\x47\\x0d\\x0a\\x1a\\x0a\": \"png\",\n",
        "        b\"\\x47\\x49\\x46\\x38\": \"gif\",\n",
        "        b\"\\x52\\x49\\x46\\x46\": \"webp\",\n",
        "    }\n",
        "    try:\n",
        "        header = base64.b64decode(b64data)[:8]  # Decode and get the first 8 bytes\n",
        "        for sig, format in image_signatures.items():\n",
        "            if header.startswith(sig):\n",
        "                return True\n",
        "        return False\n",
        "    except Exception:\n",
        "        return False"
      ],
      "metadata": {
        "id": "LUmKPgBibOMF"
      },
      "execution_count": 53,
      "outputs": []
    },
    {
      "cell_type": "code",
      "source": [
        "def resize_base64_image(base64_string, size=(128, 128)):\n",
        "    \"\"\"\n",
        "    Resize an image encoded as a Base64 string\n",
        "    \"\"\"\n",
        "    # Decode the Base64 string\n",
        "    img_data = base64.b64decode(base64_string)\n",
        "    img = Image.open(io.BytesIO(img_data))\n",
        "\n",
        "    # Resize the image\n",
        "    resized_img = img.resize(size, Image.LANCZOS)\n",
        "\n",
        "    # Save the resized image to a bytes buffer\n",
        "    buffered = io.BytesIO()\n",
        "    resized_img.save(buffered, format=img.format)\n",
        "\n",
        "    # Encode the resized image to Base64\n",
        "    return base64.b64encode(buffered.getvalue()).decode(\"utf-8\")"
      ],
      "metadata": {
        "id": "ZxAUlXx9bOJY"
      },
      "execution_count": 54,
      "outputs": []
    },
    {
      "cell_type": "code",
      "source": [
        "def split_image_text_types(docs):\n",
        "    \"\"\"\n",
        "    Split base64-encoded images and texts\n",
        "    \"\"\"\n",
        "    b64_images = []\n",
        "    texts = []\n",
        "    for doc in docs:\n",
        "        # Check if the document is of type Document and extract page_content if so\n",
        "        if isinstance(doc, Document):\n",
        "            doc = doc.page_content\n",
        "        if looks_like_base64(doc) and is_image_data(doc):\n",
        "            doc = resize_base64_image(doc, size=(1300, 600))\n",
        "            b64_images.append(doc)\n",
        "        else:\n",
        "            texts.append(doc)\n",
        "    return {\"images\": b64_images, \"texts\": texts}\n"
      ],
      "metadata": {
        "id": "45bPYjWxbXJf"
      },
      "execution_count": 55,
      "outputs": []
    },
    {
      "cell_type": "code",
      "source": [
        "def img_prompt_func(data_dict):\n",
        "    \"\"\"\n",
        "    Join the context into a single string\n",
        "    \"\"\"\n",
        "    formatted_texts = \"\\n\".join(data_dict[\"context\"][\"texts\"])\n",
        "    messages = []\n",
        "\n",
        "    # Adding image(s) to the messages if present\n",
        "    if data_dict[\"context\"][\"images\"]:\n",
        "        for image in data_dict[\"context\"][\"images\"]:\n",
        "            image_message = {\n",
        "                \"type\": \"image_url\",\n",
        "                \"image_url\": {\"url\": f\"data:image/jpeg;base64,{image}\"},\n",
        "            }\n",
        "            messages.append(image_message)\n",
        "\n",
        "    # Adding the text for analysis\n",
        "    text_message = {\n",
        "        \"type\": \"text\",\n",
        "        \"text\": (\n",
        "            \"You are an AI Researcher tasking with providing Research papers.\\n\"\n",
        "            \"You will be given a mixed of text, tables, and image(s) usually of charts or graphs.\\n\"\n",
        "            \"Use this information to provide answer Research questions related to the user question. \\n\"\n",
        "            f\"User-provided question: {data_dict['question']}\\n\\n\"\n",
        "            \"Text and / or tables:\\n\"\n",
        "            f\"{formatted_texts}\"\n",
        "        ),\n",
        "    }\n",
        "    messages.append(text_message)\n",
        "    return [HumanMessage(content=messages)]\n"
      ],
      "metadata": {
        "id": "mMXTaKQobYzZ"
      },
      "execution_count": 56,
      "outputs": []
    },
    {
      "cell_type": "markdown",
      "source": [
        "##**Final Chain**"
      ],
      "metadata": {
        "id": "UfQcFmf8beFu"
      }
    },
    {
      "cell_type": "code",
      "source": [
        "from langchain_core.runnables import RunnableLambda, RunnablePassthrough"
      ],
      "metadata": {
        "id": "GQpWwJi8bdoe"
      },
      "execution_count": 57,
      "outputs": []
    },
    {
      "cell_type": "code",
      "source": [
        "def multi_modal_rag_chain(retriever):\n",
        "    \"\"\"\n",
        "    Multi-modal RAG chain\n",
        "    \"\"\"\n",
        "\n",
        "    # Multi-modal LLM\n",
        "    model = ChatGroq(api_key = groq_api_key,\n",
        "                 temperature=0, model=\"llama-3.2-11b-vision-preview\")\n",
        "\n",
        "    # RAG pipeline\n",
        "    chain = (\n",
        "        {\n",
        "            \"context\": retriever | RunnableLambda(split_image_text_types),\n",
        "            \"question\": RunnablePassthrough(),\n",
        "        }\n",
        "        | RunnableLambda(img_prompt_func)\n",
        "        | model\n",
        "        | StrOutputParser()\n",
        "    )\n",
        "\n",
        "    return chain\n",
        "\n",
        "\n",
        "# Create RAG chain\n",
        "chain_multimodal_rag = multi_modal_rag_chain(retriever)"
      ],
      "metadata": {
        "id": "t177E2iZbdlp"
      },
      "execution_count": 58,
      "outputs": []
    },
    {
      "cell_type": "code",
      "source": [
        "# Multi-modal LLM\n",
        "model = ChatGroq(api_key = groq_api_key,\n",
        "              temperature=0, model=\"llama-3.2-11b-vision-preview\")\n",
        "\n",
        "chain_with_sources = {\n",
        "    \"context\": retriever | RunnableLambda(split_image_text_types),\n",
        "    \"question\": RunnablePassthrough(),\n",
        "} | RunnablePassthrough().assign(\n",
        "    response=(\n",
        "        RunnableLambda(img_prompt_func)\n",
        "        | model\n",
        "        | StrOutputParser()\n",
        "    )\n",
        ")"
      ],
      "metadata": {
        "id": "BF8GIB27bkBe"
      },
      "execution_count": 59,
      "outputs": []
    },
    {
      "cell_type": "markdown",
      "source": [
        "#**testing the RAG pipeline**"
      ],
      "metadata": {
        "id": "37KPbgsu_A48"
      }
    },
    {
      "cell_type": "markdown",
      "source": [
        "##**RAG pipeline without returning context**"
      ],
      "metadata": {
        "id": "SkQENw90i7zf"
      }
    },
    {
      "cell_type": "code",
      "source": [
        "query = \"How is the scaled dot product attention calculated? \"\n",
        "docs = chain_multimodal_rag.invoke(query)"
      ],
      "metadata": {
        "id": "YYwY4oZ5bdif"
      },
      "execution_count": 60,
      "outputs": []
    },
    {
      "cell_type": "code",
      "source": [
        "docs"
      ],
      "metadata": {
        "colab": {
          "base_uri": "https://localhost:8080/",
          "height": 105
        },
        "id": "lmsIpnNHb0-r",
        "outputId": "3b39ba30-9598-4b33-ba30-ac853ab910eb"
      },
      "execution_count": 61,
      "outputs": [
        {
          "output_type": "execute_result",
          "data": {
            "text/plain": [
              "'The scaled dot-product attention is calculated by taking the dot product of the query and key vectors, scaling the result by 1/√dk, and then applying a softmax function to obtain the weights on the query with all keys. The final output is computed as a weighted sum of the values, where the weights are determined by the softmax function.\\n\\n**Answer:** The scaled dot-product attention is calculated by taking the dot product of the query and key vectors, scaling the result by 1/√dk, and then applying a softmax function to obtain the weights on the query with all keys. The final output is computed as a weighted sum of the values, where the weights are determined by the softmax function.'"
            ],
            "application/vnd.google.colaboratory.intrinsic+json": {
              "type": "string"
            }
          },
          "metadata": {},
          "execution_count": 61
        }
      ]
    },
    {
      "cell_type": "code",
      "source": [
        "query = \"Which optimizer was used when training the models?\"\n",
        "docs = chain_multimodal_rag.invoke(query)\n",
        "docs"
      ],
      "metadata": {
        "colab": {
          "base_uri": "https://localhost:8080/",
          "height": 70
        },
        "id": "VHlzFm4--UYI",
        "outputId": "6f85b7e5-c5be-43bf-8980-e60f190a991b"
      },
      "execution_count": 62,
      "outputs": [
        {
          "output_type": "execute_result",
          "data": {
            "text/plain": [
              "'Based on the provided text, the optimizer used when training the models is the Adam optimizer [20]. \\n\\nHere are the specific hyperparameters used for the Adam optimizer:\\n\\n- β1 = 0.9\\n- β2 = 0.98\\n- ϵ = 10−9\\n\\nThese hyperparameters are commonly used for the Adam optimizer, which is a popular choice for deep learning models due to its ability to adapt to the learning rate of each parameter individually.'"
            ],
            "application/vnd.google.colaboratory.intrinsic+json": {
              "type": "string"
            }
          },
          "metadata": {},
          "execution_count": 62
        }
      ]
    },
    {
      "cell_type": "code",
      "source": [
        "query = \"How long were the base and big models trained? \"\n",
        "docs = chain_multimodal_rag.invoke(query)\n",
        "docs"
      ],
      "metadata": {
        "colab": {
          "base_uri": "https://localhost:8080/",
          "height": 140
        },
        "id": "1P7GuWve-dVY",
        "outputId": "5ab2dce1-81d9-48b7-d8dd-634cba6b187d"
      },
      "execution_count": 63,
      "outputs": [
        {
          "output_type": "execute_result",
          "data": {
            "text/plain": [
              "'Based on the provided text, the training duration for the base and big models can be calculated as follows:\\n\\n**Base Model:**\\n- Total training steps: 100,000\\n- Time per training step: 0.4 seconds\\n- Total training time: 100,000 steps * 0.4 seconds/step = 40,000 seconds\\n- Converting total training time to hours: 40,000 seconds / 3600 seconds/hour = 11.11 hours\\n- However, the text states that the base models were trained for a total of 12 hours.\\n\\n**Big Model:**\\n- Total training steps: 300,000\\n- Time per training step: 1.0 second\\n- Total training time: 300,000 steps * 1.0 second/step = 300,000 seconds\\n- Converting total training time to days: 300,000 seconds / 86,400 seconds/day = 3.47 days\\n- However, the text states that the big models were trained for 3.5 days.\\n\\nTherefore, the base models were trained for 12 hours, and the big models were trained for 3.5 days.'"
            ],
            "application/vnd.google.colaboratory.intrinsic+json": {
              "type": "string"
            }
          },
          "metadata": {},
          "execution_count": 63
        }
      ]
    },
    {
      "cell_type": "code",
      "source": [
        "query = \"What is the BLEU score of the model in English to German translation EN-DE?\"\n",
        "docs = chain_multimodal_rag.invoke(query)\n",
        "docs"
      ],
      "metadata": {
        "colab": {
          "base_uri": "https://localhost:8080/",
          "height": 140
        },
        "id": "gdaT1lBfjLvl",
        "outputId": "14cbcbde-016d-4117-bdd5-07a745eabc05"
      },
      "execution_count": 64,
      "outputs": [
        {
          "output_type": "execute_result",
          "data": {
            "text/plain": [
              "'Based on the provided text and table, we can answer the research question about the BLEU score of the model in English to German translation (EN-DE).\\n\\nAccording to the text, the big transformer model (Transformer (big)) achieves a BLEU score of **28.4** on the WMT 2014 English-to-German translation task, which is a new state-of-the-art BLEU score and outperforms the best previously reported models by more than 2.0 BLEU.\\n\\nHere is a summary of the BLEU scores for the EN-DE task from the table:\\n\\n| Model | BLEU Score (EN-DE) |\\n| --- | --- |\\n| ByteNet [18] | 23.75 |\\n| Deep-Att + PosUnk [39] | 39.2 |\\n| GNMT + RL [38] | 24.6 |\\n| ConvS2S [9] | 25.16 |\\n| MoE [32] | 26.03 |\\n| Deep-Att + PosUnk Ensemble [39] | 40.4 |\\n| GNMT + RL Ensemble [38] | 26.30 |\\n| ConvS2S Ensemble [9] | 26.36 |\\n| Transformer (base model) | 27.3 |\\n| Transformer (big) | **28.4** |\\n\\nNote that the BLEU score of 28.4 is the highest score achieved by the big transformer model on the EN-DE task.'"
            ],
            "application/vnd.google.colaboratory.intrinsic+json": {
              "type": "string"
            }
          },
          "metadata": {},
          "execution_count": 64
        }
      ]
    },
    {
      "cell_type": "code",
      "source": [
        "query = \"Show me a picture that shows the difference between Scaled Dot-Product Attention and Multi-Head Attention\"\n",
        "docs = chain_multimodal_rag.invoke(query)\n",
        "docs"
      ],
      "metadata": {
        "colab": {
          "base_uri": "https://localhost:8080/",
          "height": 339
        },
        "id": "-cynssI1jYlH",
        "outputId": "0f5b8b49-abec-4790-c2d0-c284e3229c6b"
      },
      "execution_count": 66,
      "outputs": [
        {
          "output_type": "error",
          "ename": "BadRequestError",
          "evalue": "Error code: 400 - {'error': {'message': 'Too many images provided.  This model supports up to 1 images', 'type': 'invalid_request_error'}}",
          "traceback": [
            "\u001b[0;31m---------------------------------------------------------------------------\u001b[0m",
            "\u001b[0;31mBadRequestError\u001b[0m                           Traceback (most recent call last)",
            "\u001b[0;32m<ipython-input-66-aeeee232d007>\u001b[0m in \u001b[0;36m<cell line: 0>\u001b[0;34m()\u001b[0m\n\u001b[1;32m      1\u001b[0m \u001b[0mquery\u001b[0m \u001b[0;34m=\u001b[0m \u001b[0;34m\"Show me only a one picture that shows the difference between Scaled Dot-Product Attention and Multi-Head Attention\"\u001b[0m\u001b[0;34m\u001b[0m\u001b[0;34m\u001b[0m\u001b[0m\n\u001b[0;32m----> 2\u001b[0;31m \u001b[0mdocs\u001b[0m \u001b[0;34m=\u001b[0m \u001b[0mchain_multimodal_rag\u001b[0m\u001b[0;34m.\u001b[0m\u001b[0minvoke\u001b[0m\u001b[0;34m(\u001b[0m\u001b[0mquery\u001b[0m\u001b[0;34m)\u001b[0m\u001b[0;34m\u001b[0m\u001b[0;34m\u001b[0m\u001b[0m\n\u001b[0m\u001b[1;32m      3\u001b[0m \u001b[0mdocs\u001b[0m\u001b[0;34m\u001b[0m\u001b[0;34m\u001b[0m\u001b[0m\n",
            "\u001b[0;32m/usr/local/lib/python3.11/dist-packages/langchain_core/runnables/base.py\u001b[0m in \u001b[0;36minvoke\u001b[0;34m(self, input, config, **kwargs)\u001b[0m\n\u001b[1;32m   3014\u001b[0m                     \u001b[0minput\u001b[0m \u001b[0;34m=\u001b[0m \u001b[0mcontext\u001b[0m\u001b[0;34m.\u001b[0m\u001b[0mrun\u001b[0m\u001b[0;34m(\u001b[0m\u001b[0mstep\u001b[0m\u001b[0;34m.\u001b[0m\u001b[0minvoke\u001b[0m\u001b[0;34m,\u001b[0m \u001b[0minput\u001b[0m\u001b[0;34m,\u001b[0m \u001b[0mconfig\u001b[0m\u001b[0;34m,\u001b[0m \u001b[0;34m**\u001b[0m\u001b[0mkwargs\u001b[0m\u001b[0;34m)\u001b[0m\u001b[0;34m\u001b[0m\u001b[0;34m\u001b[0m\u001b[0m\n\u001b[1;32m   3015\u001b[0m                 \u001b[0;32melse\u001b[0m\u001b[0;34m:\u001b[0m\u001b[0;34m\u001b[0m\u001b[0;34m\u001b[0m\u001b[0m\n\u001b[0;32m-> 3016\u001b[0;31m                     \u001b[0minput\u001b[0m \u001b[0;34m=\u001b[0m \u001b[0mcontext\u001b[0m\u001b[0;34m.\u001b[0m\u001b[0mrun\u001b[0m\u001b[0;34m(\u001b[0m\u001b[0mstep\u001b[0m\u001b[0;34m.\u001b[0m\u001b[0minvoke\u001b[0m\u001b[0;34m,\u001b[0m \u001b[0minput\u001b[0m\u001b[0;34m,\u001b[0m \u001b[0mconfig\u001b[0m\u001b[0;34m)\u001b[0m\u001b[0;34m\u001b[0m\u001b[0;34m\u001b[0m\u001b[0m\n\u001b[0m\u001b[1;32m   3017\u001b[0m         \u001b[0;31m# finish the root run\u001b[0m\u001b[0;34m\u001b[0m\u001b[0;34m\u001b[0m\u001b[0m\n\u001b[1;32m   3018\u001b[0m         \u001b[0;32mexcept\u001b[0m \u001b[0mBaseException\u001b[0m \u001b[0;32mas\u001b[0m \u001b[0me\u001b[0m\u001b[0;34m:\u001b[0m\u001b[0;34m\u001b[0m\u001b[0;34m\u001b[0m\u001b[0m\n",
            "\u001b[0;32m/usr/local/lib/python3.11/dist-packages/langchain_core/language_models/chat_models.py\u001b[0m in \u001b[0;36minvoke\u001b[0;34m(self, input, config, stop, **kwargs)\u001b[0m\n\u001b[1;32m    282\u001b[0m         return cast(\n\u001b[1;32m    283\u001b[0m             \u001b[0mChatGeneration\u001b[0m\u001b[0;34m,\u001b[0m\u001b[0;34m\u001b[0m\u001b[0;34m\u001b[0m\u001b[0m\n\u001b[0;32m--> 284\u001b[0;31m             self.generate_prompt(\n\u001b[0m\u001b[1;32m    285\u001b[0m                 \u001b[0;34m[\u001b[0m\u001b[0mself\u001b[0m\u001b[0;34m.\u001b[0m\u001b[0m_convert_input\u001b[0m\u001b[0;34m(\u001b[0m\u001b[0minput\u001b[0m\u001b[0;34m)\u001b[0m\u001b[0;34m]\u001b[0m\u001b[0;34m,\u001b[0m\u001b[0;34m\u001b[0m\u001b[0;34m\u001b[0m\u001b[0m\n\u001b[1;32m    286\u001b[0m                 \u001b[0mstop\u001b[0m\u001b[0;34m=\u001b[0m\u001b[0mstop\u001b[0m\u001b[0;34m,\u001b[0m\u001b[0;34m\u001b[0m\u001b[0;34m\u001b[0m\u001b[0m\n",
            "\u001b[0;32m/usr/local/lib/python3.11/dist-packages/langchain_core/language_models/chat_models.py\u001b[0m in \u001b[0;36mgenerate_prompt\u001b[0;34m(self, prompts, stop, callbacks, **kwargs)\u001b[0m\n\u001b[1;32m    858\u001b[0m     ) -> LLMResult:\n\u001b[1;32m    859\u001b[0m         \u001b[0mprompt_messages\u001b[0m \u001b[0;34m=\u001b[0m \u001b[0;34m[\u001b[0m\u001b[0mp\u001b[0m\u001b[0;34m.\u001b[0m\u001b[0mto_messages\u001b[0m\u001b[0;34m(\u001b[0m\u001b[0;34m)\u001b[0m \u001b[0;32mfor\u001b[0m \u001b[0mp\u001b[0m \u001b[0;32min\u001b[0m \u001b[0mprompts\u001b[0m\u001b[0;34m]\u001b[0m\u001b[0;34m\u001b[0m\u001b[0;34m\u001b[0m\u001b[0m\n\u001b[0;32m--> 860\u001b[0;31m         \u001b[0;32mreturn\u001b[0m \u001b[0mself\u001b[0m\u001b[0;34m.\u001b[0m\u001b[0mgenerate\u001b[0m\u001b[0;34m(\u001b[0m\u001b[0mprompt_messages\u001b[0m\u001b[0;34m,\u001b[0m \u001b[0mstop\u001b[0m\u001b[0;34m=\u001b[0m\u001b[0mstop\u001b[0m\u001b[0;34m,\u001b[0m \u001b[0mcallbacks\u001b[0m\u001b[0;34m=\u001b[0m\u001b[0mcallbacks\u001b[0m\u001b[0;34m,\u001b[0m \u001b[0;34m**\u001b[0m\u001b[0mkwargs\u001b[0m\u001b[0;34m)\u001b[0m\u001b[0;34m\u001b[0m\u001b[0;34m\u001b[0m\u001b[0m\n\u001b[0m\u001b[1;32m    861\u001b[0m \u001b[0;34m\u001b[0m\u001b[0m\n\u001b[1;32m    862\u001b[0m     async def agenerate_prompt(\n",
            "\u001b[0;32m/usr/local/lib/python3.11/dist-packages/langchain_core/language_models/chat_models.py\u001b[0m in \u001b[0;36mgenerate\u001b[0;34m(self, messages, stop, callbacks, tags, metadata, run_name, run_id, **kwargs)\u001b[0m\n\u001b[1;32m    688\u001b[0m             \u001b[0;32mtry\u001b[0m\u001b[0;34m:\u001b[0m\u001b[0;34m\u001b[0m\u001b[0;34m\u001b[0m\u001b[0m\n\u001b[1;32m    689\u001b[0m                 results.append(\n\u001b[0;32m--> 690\u001b[0;31m                     self._generate_with_cache(\n\u001b[0m\u001b[1;32m    691\u001b[0m                         \u001b[0mm\u001b[0m\u001b[0;34m,\u001b[0m\u001b[0;34m\u001b[0m\u001b[0;34m\u001b[0m\u001b[0m\n\u001b[1;32m    692\u001b[0m                         \u001b[0mstop\u001b[0m\u001b[0;34m=\u001b[0m\u001b[0mstop\u001b[0m\u001b[0;34m,\u001b[0m\u001b[0;34m\u001b[0m\u001b[0;34m\u001b[0m\u001b[0m\n",
            "\u001b[0;32m/usr/local/lib/python3.11/dist-packages/langchain_core/language_models/chat_models.py\u001b[0m in \u001b[0;36m_generate_with_cache\u001b[0;34m(self, messages, stop, run_manager, **kwargs)\u001b[0m\n\u001b[1;32m    923\u001b[0m         \u001b[0;32melse\u001b[0m\u001b[0;34m:\u001b[0m\u001b[0;34m\u001b[0m\u001b[0;34m\u001b[0m\u001b[0m\n\u001b[1;32m    924\u001b[0m             \u001b[0;32mif\u001b[0m \u001b[0minspect\u001b[0m\u001b[0;34m.\u001b[0m\u001b[0msignature\u001b[0m\u001b[0;34m(\u001b[0m\u001b[0mself\u001b[0m\u001b[0;34m.\u001b[0m\u001b[0m_generate\u001b[0m\u001b[0;34m)\u001b[0m\u001b[0;34m.\u001b[0m\u001b[0mparameters\u001b[0m\u001b[0;34m.\u001b[0m\u001b[0mget\u001b[0m\u001b[0;34m(\u001b[0m\u001b[0;34m\"run_manager\"\u001b[0m\u001b[0;34m)\u001b[0m\u001b[0;34m:\u001b[0m\u001b[0;34m\u001b[0m\u001b[0;34m\u001b[0m\u001b[0m\n\u001b[0;32m--> 925\u001b[0;31m                 result = self._generate(\n\u001b[0m\u001b[1;32m    926\u001b[0m                     \u001b[0mmessages\u001b[0m\u001b[0;34m,\u001b[0m \u001b[0mstop\u001b[0m\u001b[0;34m=\u001b[0m\u001b[0mstop\u001b[0m\u001b[0;34m,\u001b[0m \u001b[0mrun_manager\u001b[0m\u001b[0;34m=\u001b[0m\u001b[0mrun_manager\u001b[0m\u001b[0;34m,\u001b[0m \u001b[0;34m**\u001b[0m\u001b[0mkwargs\u001b[0m\u001b[0;34m\u001b[0m\u001b[0;34m\u001b[0m\u001b[0m\n\u001b[1;32m    927\u001b[0m                 )\n",
            "\u001b[0;32m/usr/local/lib/python3.11/dist-packages/langchain_groq/chat_models.py\u001b[0m in \u001b[0;36m_generate\u001b[0;34m(self, messages, stop, run_manager, **kwargs)\u001b[0m\n\u001b[1;32m    478\u001b[0m             \u001b[0;34m**\u001b[0m\u001b[0mkwargs\u001b[0m\u001b[0;34m,\u001b[0m\u001b[0;34m\u001b[0m\u001b[0;34m\u001b[0m\u001b[0m\n\u001b[1;32m    479\u001b[0m         }\n\u001b[0;32m--> 480\u001b[0;31m         \u001b[0mresponse\u001b[0m \u001b[0;34m=\u001b[0m \u001b[0mself\u001b[0m\u001b[0;34m.\u001b[0m\u001b[0mclient\u001b[0m\u001b[0;34m.\u001b[0m\u001b[0mcreate\u001b[0m\u001b[0;34m(\u001b[0m\u001b[0mmessages\u001b[0m\u001b[0;34m=\u001b[0m\u001b[0mmessage_dicts\u001b[0m\u001b[0;34m,\u001b[0m \u001b[0;34m**\u001b[0m\u001b[0mparams\u001b[0m\u001b[0;34m)\u001b[0m\u001b[0;34m\u001b[0m\u001b[0;34m\u001b[0m\u001b[0m\n\u001b[0m\u001b[1;32m    481\u001b[0m         \u001b[0;32mreturn\u001b[0m \u001b[0mself\u001b[0m\u001b[0;34m.\u001b[0m\u001b[0m_create_chat_result\u001b[0m\u001b[0;34m(\u001b[0m\u001b[0mresponse\u001b[0m\u001b[0;34m)\u001b[0m\u001b[0;34m\u001b[0m\u001b[0;34m\u001b[0m\u001b[0m\n\u001b[1;32m    482\u001b[0m \u001b[0;34m\u001b[0m\u001b[0m\n",
            "\u001b[0;32m/usr/local/lib/python3.11/dist-packages/groq/resources/chat/completions.py\u001b[0m in \u001b[0;36mcreate\u001b[0;34m(self, messages, model, frequency_penalty, function_call, functions, logit_bias, logprobs, max_completion_tokens, max_tokens, n, parallel_tool_calls, presence_penalty, reasoning_format, response_format, seed, service_tier, stop, stream, temperature, tool_choice, tools, top_logprobs, top_p, user, extra_headers, extra_query, extra_body, timeout)\u001b[0m\n\u001b[1;32m    320\u001b[0m           \u001b[0mtimeout\u001b[0m\u001b[0;34m:\u001b[0m \u001b[0mOverride\u001b[0m \u001b[0mthe\u001b[0m \u001b[0mclient\u001b[0m\u001b[0;34m-\u001b[0m\u001b[0mlevel\u001b[0m \u001b[0mdefault\u001b[0m \u001b[0mtimeout\u001b[0m \u001b[0;32mfor\u001b[0m \u001b[0mthis\u001b[0m \u001b[0mrequest\u001b[0m\u001b[0;34m,\u001b[0m \u001b[0;32min\u001b[0m \u001b[0mseconds\u001b[0m\u001b[0;34m\u001b[0m\u001b[0;34m\u001b[0m\u001b[0m\n\u001b[1;32m    321\u001b[0m         \"\"\"\n\u001b[0;32m--> 322\u001b[0;31m         return self._post(\n\u001b[0m\u001b[1;32m    323\u001b[0m             \u001b[0;34m\"/openai/v1/chat/completions\"\u001b[0m\u001b[0;34m,\u001b[0m\u001b[0;34m\u001b[0m\u001b[0;34m\u001b[0m\u001b[0m\n\u001b[1;32m    324\u001b[0m             body=maybe_transform(\n",
            "\u001b[0;32m/usr/local/lib/python3.11/dist-packages/groq/_base_client.py\u001b[0m in \u001b[0;36mpost\u001b[0;34m(self, path, cast_to, body, options, files, stream, stream_cls)\u001b[0m\n\u001b[1;32m   1264\u001b[0m             \u001b[0mmethod\u001b[0m\u001b[0;34m=\u001b[0m\u001b[0;34m\"post\"\u001b[0m\u001b[0;34m,\u001b[0m \u001b[0murl\u001b[0m\u001b[0;34m=\u001b[0m\u001b[0mpath\u001b[0m\u001b[0;34m,\u001b[0m \u001b[0mjson_data\u001b[0m\u001b[0;34m=\u001b[0m\u001b[0mbody\u001b[0m\u001b[0;34m,\u001b[0m \u001b[0mfiles\u001b[0m\u001b[0;34m=\u001b[0m\u001b[0mto_httpx_files\u001b[0m\u001b[0;34m(\u001b[0m\u001b[0mfiles\u001b[0m\u001b[0;34m)\u001b[0m\u001b[0;34m,\u001b[0m \u001b[0;34m**\u001b[0m\u001b[0moptions\u001b[0m\u001b[0;34m\u001b[0m\u001b[0;34m\u001b[0m\u001b[0m\n\u001b[1;32m   1265\u001b[0m         )\n\u001b[0;32m-> 1266\u001b[0;31m         \u001b[0;32mreturn\u001b[0m \u001b[0mcast\u001b[0m\u001b[0;34m(\u001b[0m\u001b[0mResponseT\u001b[0m\u001b[0;34m,\u001b[0m \u001b[0mself\u001b[0m\u001b[0;34m.\u001b[0m\u001b[0mrequest\u001b[0m\u001b[0;34m(\u001b[0m\u001b[0mcast_to\u001b[0m\u001b[0;34m,\u001b[0m \u001b[0mopts\u001b[0m\u001b[0;34m,\u001b[0m \u001b[0mstream\u001b[0m\u001b[0;34m=\u001b[0m\u001b[0mstream\u001b[0m\u001b[0;34m,\u001b[0m \u001b[0mstream_cls\u001b[0m\u001b[0;34m=\u001b[0m\u001b[0mstream_cls\u001b[0m\u001b[0;34m)\u001b[0m\u001b[0;34m)\u001b[0m\u001b[0;34m\u001b[0m\u001b[0;34m\u001b[0m\u001b[0m\n\u001b[0m\u001b[1;32m   1267\u001b[0m \u001b[0;34m\u001b[0m\u001b[0m\n\u001b[1;32m   1268\u001b[0m     def patch(\n",
            "\u001b[0;32m/usr/local/lib/python3.11/dist-packages/groq/_base_client.py\u001b[0m in \u001b[0;36mrequest\u001b[0;34m(self, cast_to, options, remaining_retries, stream, stream_cls)\u001b[0m\n\u001b[1;32m    956\u001b[0m             \u001b[0mretries_taken\u001b[0m \u001b[0;34m=\u001b[0m \u001b[0;36m0\u001b[0m\u001b[0;34m\u001b[0m\u001b[0;34m\u001b[0m\u001b[0m\n\u001b[1;32m    957\u001b[0m \u001b[0;34m\u001b[0m\u001b[0m\n\u001b[0;32m--> 958\u001b[0;31m         return self._request(\n\u001b[0m\u001b[1;32m    959\u001b[0m             \u001b[0mcast_to\u001b[0m\u001b[0;34m=\u001b[0m\u001b[0mcast_to\u001b[0m\u001b[0;34m,\u001b[0m\u001b[0;34m\u001b[0m\u001b[0;34m\u001b[0m\u001b[0m\n\u001b[1;32m    960\u001b[0m             \u001b[0moptions\u001b[0m\u001b[0;34m=\u001b[0m\u001b[0moptions\u001b[0m\u001b[0;34m,\u001b[0m\u001b[0;34m\u001b[0m\u001b[0;34m\u001b[0m\u001b[0m\n",
            "\u001b[0;32m/usr/local/lib/python3.11/dist-packages/groq/_base_client.py\u001b[0m in \u001b[0;36m_request\u001b[0;34m(self, cast_to, options, retries_taken, stream, stream_cls)\u001b[0m\n\u001b[1;32m   1059\u001b[0m \u001b[0;34m\u001b[0m\u001b[0m\n\u001b[1;32m   1060\u001b[0m             \u001b[0mlog\u001b[0m\u001b[0;34m.\u001b[0m\u001b[0mdebug\u001b[0m\u001b[0;34m(\u001b[0m\u001b[0;34m\"Re-raising status error\"\u001b[0m\u001b[0;34m)\u001b[0m\u001b[0;34m\u001b[0m\u001b[0;34m\u001b[0m\u001b[0m\n\u001b[0;32m-> 1061\u001b[0;31m             \u001b[0;32mraise\u001b[0m \u001b[0mself\u001b[0m\u001b[0;34m.\u001b[0m\u001b[0m_make_status_error_from_response\u001b[0m\u001b[0;34m(\u001b[0m\u001b[0merr\u001b[0m\u001b[0;34m.\u001b[0m\u001b[0mresponse\u001b[0m\u001b[0;34m)\u001b[0m \u001b[0;32mfrom\u001b[0m \u001b[0;32mNone\u001b[0m\u001b[0;34m\u001b[0m\u001b[0;34m\u001b[0m\u001b[0m\n\u001b[0m\u001b[1;32m   1062\u001b[0m \u001b[0;34m\u001b[0m\u001b[0m\n\u001b[1;32m   1063\u001b[0m         return self._process_response(\n",
            "\u001b[0;31mBadRequestError\u001b[0m: Error code: 400 - {'error': {'message': 'Too many images provided.  This model supports up to 1 images', 'type': 'invalid_request_error'}}"
          ]
        }
      ]
    },
    {
      "cell_type": "markdown",
      "source": [
        "##**Pipeline with context returned**"
      ],
      "metadata": {
        "id": "iiEJgyWyjZAY"
      }
    },
    {
      "cell_type": "code",
      "source": [
        "query = \"How long were the base and big models trained? \"\n",
        "response = chain_with_sources.invoke(query)\n",
        "response"
      ],
      "metadata": {
        "colab": {
          "base_uri": "https://localhost:8080/"
        },
        "id": "mm8XLaz0NRLC",
        "outputId": "237a0902-754a-427f-cad6-e09838430573"
      },
      "execution_count": 67,
      "outputs": [
        {
          "output_type": "execute_result",
          "data": {
            "text/plain": [
              "{'context': {'images': [],\n",
              "  'texts': ['This section describes the training regime for our models.',\n",
              "   'We trained our models on one machine with 8 NVIDIA P100 GPUs. For our base models using the hyperparameters described throughout the paper, each training step took about 0.4 seconds. We trained the base models for a total of 100,000 steps or 12 hours. For our big models,(described on the bottom line of table 3), step time was 1.0 seconds. The big models were trained for 300,000 steps (3.5 days).',\n",
              "   'For the base models, we used a single model obtained by averaging the last 5 checkpoints, which were written at 10-minute intervals. For the big models, we averaged the last 20 checkpoints. We used beam search with a beam size of 4 and length penalty α = 0.6 [38]. These hyperparameters were chosen after experimentation on the development set. We set the maximum output length during inference to input length + 50, but terminate early when possible [38].',\n",
              "   'We also experimented with using learned positional embeddings [9] instead, and found that the two versions produced nearly identical results (see Table 3 row (E)). We chose the sinusoidal version because it may allow the model to extrapolate to sequence lengths longer than the ones encountered during training.']},\n",
              " 'question': 'How long were the base and big models trained? ',\n",
              " 'response': 'Based on the provided text, the training duration for the base and big models can be calculated as follows:\\n\\n**Base Model:**\\n- Total training steps: 100,000\\n- Time per training step: 0.4 seconds\\n- Total training time: 100,000 steps * 0.4 seconds/step = 40,000 seconds\\n- Converting total training time to hours: 40,000 seconds / 3600 seconds/hour = 11.11 hours\\n- However, the text states that the base models were trained for a total of 12 hours.\\n\\n**Big Model:**\\n- Total training steps: 300,000\\n- Time per training step: 1.0 second\\n- Total training time: 300,000 steps * 1.0 second/step = 300,000 seconds\\n- Converting total training time to days: 300,000 seconds / 86,400 seconds/day = 3.47 days\\n- However, the text states that the big models were trained for 3.5 days.\\n\\nTherefore, the base models were trained for 12 hours, and the big models were trained for 3.5 days.'}"
            ]
          },
          "metadata": {},
          "execution_count": 67
        }
      ]
    },
    {
      "cell_type": "code",
      "source": [],
      "metadata": {
        "id": "LssnGQZYj0iN"
      },
      "execution_count": null,
      "outputs": []
    },
    {
      "cell_type": "markdown",
      "source": [
        "####**Example 2**"
      ],
      "metadata": {
        "id": "lsebyO8Hj1ZS"
      }
    },
    {
      "cell_type": "code",
      "source": [
        "query = \"How is the scaled dot product attention calculated?\"\n",
        "docs = chain_multimodal_rag.invoke(query)\n",
        "docs"
      ],
      "metadata": {
        "colab": {
          "base_uri": "https://localhost:8080/",
          "height": 104
        },
        "id": "AdPZfX-t-qws",
        "outputId": "e4c65aa8-5fdb-42d4-b06d-c30a02f0e1e6"
      },
      "execution_count": null,
      "outputs": [
        {
          "output_type": "execute_result",
          "data": {
            "text/plain": [
              "'The scaled dot-product attention is calculated by computing the dot products of the queries and keys, dividing each by the square root of the key dimension (dk), and applying a softmax function to obtain the weights on the query with all keys. The formula for this calculation is:\\n\\nScaled Dot-Product Attention = softmax(queries * keys / √dk)\\n\\nwhere:\\n\\n*   queries: the input queries of dimension dk\\n*   keys: the input keys of dimension dk\\n*   dk: the dimension of the queries and keys\\n*   softmax: the softmax function\\n\\nThis calculation is used in the Transformer architecture to compute attention weights between different positions in the input sequence.'"
            ],
            "application/vnd.google.colaboratory.intrinsic+json": {
              "type": "string"
            }
          },
          "metadata": {},
          "execution_count": 74
        }
      ]
    },
    {
      "cell_type": "markdown",
      "source": [
        "##**Test to show some images**"
      ],
      "metadata": {
        "id": "Tb-Ltfhd_zUQ"
      }
    },
    {
      "cell_type": "code",
      "source": [
        "query = \"How is the scaled dot product attention calculated? \"\n",
        "response = chain_with_sources.invoke(query)\n"
      ],
      "metadata": {
        "id": "Wt7BVUf1-zlx"
      },
      "execution_count": 68,
      "outputs": []
    },
    {
      "cell_type": "code",
      "source": [
        "response"
      ],
      "metadata": {
        "colab": {
          "base_uri": "https://localhost:8080/"
        },
        "id": "vDMMrmpLChcp",
        "outputId": "e3961dd1-6764-4736-f219-3189d92131f0"
      },
      "execution_count": 69,
      "outputs": [
        {
          "output_type": "execute_result",
          "data": {
            "text/plain": [
              "{'context': {'images': ['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'],\n",
              "  'texts': ['Figure 2: (left) Scaled Dot-Product Attention. (right) Multi-Head Attention consists of several attention layers running in parallel.',\n",
              "   'We call our particular attention \"Scaled Dot-Product Attention\" (Figure 2). The input consists of queries and keys of dimension dk, and values of dimension dv. We compute the dot products of the √ dk, and apply a softmax function to obtain the weights on the query with all keys, divide each by values.',\n",
              "   'While for small values of dk the two mechanisms perform similarly, additive attention outperforms dot product attention without scaling for larger values of dk [3]. We suspect that for large values of dk, the dot products grow large in magnitude, pushing the softmax function into regions where it has extremely small gradients 4. To counteract this effect, we scale the dot products by 1√ . dk']},\n",
              " 'question': 'How is the scaled dot product attention calculated? ',\n",
              " 'response': 'The scaled dot-product attention is calculated by taking the dot product of the query and key vectors, scaling the result by 1/√dk, and then applying a softmax function to obtain the weights on the query with all keys. The final output is computed as a weighted sum of the values, where the weights are determined by the softmax function.\\n\\n**Answer:** The scaled dot-product attention is calculated by taking the dot product of the query and key vectors, scaling the result by 1/√dk, and then applying a softmax function to obtain the weights on the query with all keys. The final output is computed as a weighted sum of the values, where the weights are determined by the softmax function.'}"
            ]
          },
          "metadata": {},
          "execution_count": 69
        }
      ]
    },
    {
      "cell_type": "code",
      "source": [
        "print(\"Response:\", response['response'])\n",
        "\n",
        "for text in response['context']['texts']:\n",
        "  print(text)\n",
        "  print(\"\\n\" + \"-\"*50 + \"\\n\")\n",
        "\n",
        "for image in response['context']['images']:\n",
        "  print(f\"img in the encoded format{image}\")\n",
        "  plt_img_base64(image)"
      ],
      "metadata": {
        "colab": {
          "base_uri": "https://localhost:8080/",
          "height": 919
        },
        "id": "TEVh9kl0l1I0",
        "outputId": "57a11331-46aa-4d0b-8b0f-f05dd8dd30ad"
      },
      "execution_count": 75,
      "outputs": [
        {
          "output_type": "stream",
          "name": "stdout",
          "text": [
            "Response: The scaled dot-product attention is calculated by taking the dot product of the query and key vectors, scaling the result by 1/√dk, and then applying a softmax function to obtain the weights on the query with all keys. The final output is computed as a weighted sum of the values, where the weights are determined by the softmax function.\n",
            "\n",
            "**Answer:** The scaled dot-product attention is calculated by taking the dot product of the query and key vectors, scaling the result by 1/√dk, and then applying a softmax function to obtain the weights on the query with all keys. The final output is computed as a weighted sum of the values, where the weights are determined by the softmax function.\n",
            "Figure 2: (left) Scaled Dot-Product Attention. (right) Multi-Head Attention consists of several attention layers running in parallel.\n",
            "\n",
            "--------------------------------------------------\n",
            "\n",
            "We call our particular attention \"Scaled Dot-Product Attention\" (Figure 2). The input consists of queries and keys of dimension dk, and values of dimension dv. We compute the dot products of the √ dk, and apply a softmax function to obtain the weights on the query with all keys, divide each by values.\n",
            "\n",
            "--------------------------------------------------\n",
            "\n",
            "While for small values of dk the two mechanisms perform similarly, additive attention outperforms dot product attention without scaling for larger values of dk [3]. We suspect that for large values of dk, the dot products grow large in magnitude, pushing the softmax function into regions where it has extremely small gradients 4. To counteract this effect, we scale the dot products by 1√ . dk\n",
            "\n",
            "--------------------------------------------------\n",
            "\n",
            "img in the encoded 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\n"
          ]
        },
        {
          "output_type": "display_data",
          "data": {
            "text/plain": [
              "<IPython.core.display.HTML object>"
            ],
            "text/html": [
              "<img src=\"data:image/jpeg;base64,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\" />"
            ]
          },
          "metadata": {}
        }
      ]
    },
    {
      "cell_type": "markdown",
      "source": [
        "#**UI**"
      ],
      "metadata": {
        "id": "rBB6_zTkKEZM"
      }
    },
    {
      "cell_type": "code",
      "source": [
        "!pip install gradio"
      ],
      "metadata": {
        "colab": {
          "base_uri": "https://localhost:8080/",
          "height": 1000
        },
        "collapsed": true,
        "id": "LESLZKmDKIMN",
        "outputId": "986ca075-8272-42d7-8661-410b7ea2af99"
      },
      "execution_count": 77,
      "outputs": [
        {
          "output_type": "stream",
          "name": "stdout",
          "text": [
            "Collecting gradio\n",
            "  Downloading gradio-5.15.0-py3-none-any.whl.metadata (16 kB)\n",
            "Collecting aiofiles<24.0,>=22.0 (from gradio)\n",
            "  Downloading aiofiles-23.2.1-py3-none-any.whl.metadata (9.7 kB)\n",
            "Requirement already satisfied: anyio<5.0,>=3.0 in /usr/local/lib/python3.11/dist-packages (from gradio) (3.7.1)\n",
            "Requirement already satisfied: fastapi<1.0,>=0.115.2 in /usr/local/lib/python3.11/dist-packages (from gradio) (0.115.8)\n",
            "Collecting ffmpy (from gradio)\n",
            "  Downloading ffmpy-0.5.0-py3-none-any.whl.metadata (3.0 kB)\n",
            "Collecting gradio-client==1.7.0 (from gradio)\n",
            "  Downloading gradio_client-1.7.0-py3-none-any.whl.metadata (7.1 kB)\n",
            "Requirement already satisfied: httpx>=0.24.1 in /usr/local/lib/python3.11/dist-packages (from gradio) (0.28.1)\n",
            "Requirement already satisfied: huggingface-hub>=0.28.1 in /usr/local/lib/python3.11/dist-packages (from gradio) (0.28.1)\n",
            "Requirement already satisfied: jinja2<4.0 in /usr/local/lib/python3.11/dist-packages (from gradio) (3.1.5)\n",
            "Collecting markupsafe~=2.0 (from gradio)\n",
            "  Downloading MarkupSafe-2.1.5-cp311-cp311-manylinux_2_17_x86_64.manylinux2014_x86_64.whl.metadata (3.0 kB)\n",
            "Requirement already satisfied: numpy<3.0,>=1.0 in /usr/local/lib/python3.11/dist-packages (from gradio) (1.26.4)\n",
            "Requirement already satisfied: orjson~=3.0 in /usr/local/lib/python3.11/dist-packages (from gradio) (3.10.15)\n",
            "Requirement already satisfied: packaging in /usr/local/lib/python3.11/dist-packages (from gradio) (24.2)\n",
            "Requirement already satisfied: pandas<3.0,>=1.0 in /usr/local/lib/python3.11/dist-packages (from gradio) (2.2.2)\n",
            "Requirement already satisfied: pillow<12.0,>=8.0 in /usr/local/lib/python3.11/dist-packages (from gradio) (11.1.0)\n",
            "Requirement already satisfied: pydantic>=2.0 in /usr/local/lib/python3.11/dist-packages (from gradio) (2.10.6)\n",
            "Collecting pydub (from gradio)\n",
            "  Downloading pydub-0.25.1-py2.py3-none-any.whl.metadata (1.4 kB)\n",
            "Requirement already satisfied: python-multipart>=0.0.18 in /usr/local/lib/python3.11/dist-packages (from gradio) (0.0.20)\n",
            "Requirement already satisfied: pyyaml<7.0,>=5.0 in /usr/local/lib/python3.11/dist-packages (from gradio) (6.0.2)\n",
            "Collecting ruff>=0.9.3 (from gradio)\n",
            "  Downloading ruff-0.9.5-py3-none-manylinux_2_17_x86_64.manylinux2014_x86_64.whl.metadata (25 kB)\n",
            "Collecting safehttpx<0.2.0,>=0.1.6 (from gradio)\n",
            "  Downloading safehttpx-0.1.6-py3-none-any.whl.metadata (4.2 kB)\n",
            "Collecting semantic-version~=2.0 (from gradio)\n",
            "  Downloading semantic_version-2.10.0-py2.py3-none-any.whl.metadata (9.7 kB)\n",
            "Requirement already satisfied: starlette<1.0,>=0.40.0 in /usr/local/lib/python3.11/dist-packages (from gradio) (0.45.3)\n",
            "Collecting tomlkit<0.14.0,>=0.12.0 (from gradio)\n",
            "  Downloading tomlkit-0.13.2-py3-none-any.whl.metadata (2.7 kB)\n",
            "Requirement already satisfied: typer<1.0,>=0.12 in /usr/local/lib/python3.11/dist-packages (from gradio) (0.15.1)\n",
            "Requirement already satisfied: typing-extensions~=4.0 in /usr/local/lib/python3.11/dist-packages (from gradio) (4.12.2)\n",
            "Requirement already satisfied: uvicorn>=0.14.0 in /usr/local/lib/python3.11/dist-packages (from gradio) (0.34.0)\n",
            "Requirement already satisfied: fsspec in /usr/local/lib/python3.11/dist-packages (from gradio-client==1.7.0->gradio) (2024.10.0)\n",
            "Requirement already satisfied: websockets<15.0,>=10.0 in /usr/local/lib/python3.11/dist-packages (from gradio-client==1.7.0->gradio) (14.2)\n",
            "Requirement already satisfied: idna>=2.8 in /usr/local/lib/python3.11/dist-packages (from anyio<5.0,>=3.0->gradio) (3.10)\n",
            "Requirement already satisfied: sniffio>=1.1 in /usr/local/lib/python3.11/dist-packages (from anyio<5.0,>=3.0->gradio) (1.3.1)\n",
            "Requirement already satisfied: certifi in /usr/local/lib/python3.11/dist-packages (from httpx>=0.24.1->gradio) (2025.1.31)\n",
            "Requirement already satisfied: httpcore==1.* in /usr/local/lib/python3.11/dist-packages (from httpx>=0.24.1->gradio) (1.0.7)\n",
            "Requirement already satisfied: h11<0.15,>=0.13 in /usr/local/lib/python3.11/dist-packages (from httpcore==1.*->httpx>=0.24.1->gradio) (0.14.0)\n",
            "Requirement already satisfied: filelock in /usr/local/lib/python3.11/dist-packages (from huggingface-hub>=0.28.1->gradio) (3.17.0)\n",
            "Requirement already satisfied: requests in /usr/local/lib/python3.11/dist-packages (from huggingface-hub>=0.28.1->gradio) (2.32.3)\n",
            "Requirement already satisfied: tqdm>=4.42.1 in /usr/local/lib/python3.11/dist-packages (from huggingface-hub>=0.28.1->gradio) (4.67.1)\n",
            "Requirement already satisfied: python-dateutil>=2.8.2 in /usr/local/lib/python3.11/dist-packages (from pandas<3.0,>=1.0->gradio) (2.8.2)\n",
            "Requirement already satisfied: pytz>=2020.1 in /usr/local/lib/python3.11/dist-packages (from pandas<3.0,>=1.0->gradio) (2025.1)\n",
            "Requirement already satisfied: tzdata>=2022.7 in /usr/local/lib/python3.11/dist-packages (from pandas<3.0,>=1.0->gradio) (2025.1)\n",
            "Requirement already satisfied: annotated-types>=0.6.0 in /usr/local/lib/python3.11/dist-packages (from pydantic>=2.0->gradio) (0.7.0)\n",
            "Requirement already satisfied: pydantic-core==2.27.2 in /usr/local/lib/python3.11/dist-packages (from pydantic>=2.0->gradio) (2.27.2)\n",
            "Requirement already satisfied: click>=8.0.0 in /usr/local/lib/python3.11/dist-packages (from typer<1.0,>=0.12->gradio) (8.1.8)\n",
            "Requirement already satisfied: shellingham>=1.3.0 in /usr/local/lib/python3.11/dist-packages (from typer<1.0,>=0.12->gradio) (1.5.4)\n",
            "Requirement already satisfied: rich>=10.11.0 in /usr/local/lib/python3.11/dist-packages (from typer<1.0,>=0.12->gradio) (13.9.4)\n",
            "Requirement already satisfied: six>=1.5 in /usr/local/lib/python3.11/dist-packages (from python-dateutil>=2.8.2->pandas<3.0,>=1.0->gradio) (1.17.0)\n",
            "Requirement already satisfied: markdown-it-py>=2.2.0 in /usr/local/lib/python3.11/dist-packages (from rich>=10.11.0->typer<1.0,>=0.12->gradio) (3.0.0)\n",
            "Requirement already satisfied: pygments<3.0.0,>=2.13.0 in /usr/local/lib/python3.11/dist-packages (from rich>=10.11.0->typer<1.0,>=0.12->gradio) (2.18.0)\n",
            "Requirement already satisfied: charset-normalizer<4,>=2 in /usr/local/lib/python3.11/dist-packages (from requests->huggingface-hub>=0.28.1->gradio) (3.4.1)\n",
            "Requirement already satisfied: urllib3<3,>=1.21.1 in /usr/local/lib/python3.11/dist-packages (from requests->huggingface-hub>=0.28.1->gradio) (2.3.0)\n",
            "Requirement already satisfied: mdurl~=0.1 in /usr/local/lib/python3.11/dist-packages (from markdown-it-py>=2.2.0->rich>=10.11.0->typer<1.0,>=0.12->gradio) (0.1.2)\n",
            "Downloading gradio-5.15.0-py3-none-any.whl (57.8 MB)\n",
            "\u001b[2K   \u001b[90m━━━━━━━━━━━━━━━━━━━━━━━━━━━━━━━━━━━━━━━━\u001b[0m \u001b[32m57.8/57.8 MB\u001b[0m \u001b[31m10.7 MB/s\u001b[0m eta \u001b[36m0:00:00\u001b[0m\n",
            "\u001b[?25hDownloading gradio_client-1.7.0-py3-none-any.whl (321 kB)\n",
            "\u001b[2K   \u001b[90m━━━━━━━━━━━━━━━━━━━━━━━━━━━━━━━━━━━━━━━━\u001b[0m \u001b[32m321.9/321.9 kB\u001b[0m \u001b[31m27.0 MB/s\u001b[0m eta \u001b[36m0:00:00\u001b[0m\n",
            "\u001b[?25hDownloading aiofiles-23.2.1-py3-none-any.whl (15 kB)\n",
            "Downloading MarkupSafe-2.1.5-cp311-cp311-manylinux_2_17_x86_64.manylinux2014_x86_64.whl (28 kB)\n",
            "Downloading ruff-0.9.5-py3-none-manylinux_2_17_x86_64.manylinux2014_x86_64.whl (12.4 MB)\n",
            "\u001b[2K   \u001b[90m━━━━━━━━━━━━━━━━━━━━━━━━━━━━━━━━━━━━━━━━\u001b[0m \u001b[32m12.4/12.4 MB\u001b[0m \u001b[31m86.7 MB/s\u001b[0m eta \u001b[36m0:00:00\u001b[0m\n",
            "\u001b[?25hDownloading safehttpx-0.1.6-py3-none-any.whl (8.7 kB)\n",
            "Downloading semantic_version-2.10.0-py2.py3-none-any.whl (15 kB)\n",
            "Downloading tomlkit-0.13.2-py3-none-any.whl (37 kB)\n",
            "Downloading ffmpy-0.5.0-py3-none-any.whl (6.0 kB)\n",
            "Downloading pydub-0.25.1-py2.py3-none-any.whl (32 kB)\n",
            "Installing collected packages: pydub, tomlkit, semantic-version, ruff, markupsafe, ffmpy, aiofiles, safehttpx, gradio-client, gradio\n",
            "  Attempting uninstall: markupsafe\n",
            "    Found existing installation: MarkupSafe 3.0.2\n",
            "    Uninstalling MarkupSafe-3.0.2:\n",
            "      Successfully uninstalled MarkupSafe-3.0.2\n",
            "  Attempting uninstall: aiofiles\n",
            "    Found existing installation: aiofiles 24.1.0\n",
            "    Uninstalling aiofiles-24.1.0:\n",
            "      Successfully uninstalled aiofiles-24.1.0\n",
            "\u001b[31mERROR: pip's dependency resolver does not currently take into account all the packages that are installed. This behaviour is the source of the following dependency conflicts.\n",
            "unstructured-client 0.29.0 requires aiofiles>=24.1.0, but you have aiofiles 23.2.1 which is incompatible.\u001b[0m\u001b[31m\n",
            "\u001b[0mSuccessfully installed aiofiles-23.2.1 ffmpy-0.5.0 gradio-5.15.0 gradio-client-1.7.0 markupsafe-2.1.5 pydub-0.25.1 ruff-0.9.5 safehttpx-0.1.6 semantic-version-2.10.0 tomlkit-0.13.2\n"
          ]
        },
        {
          "output_type": "display_data",
          "data": {
            "application/vnd.colab-display-data+json": {
              "pip_warning": {
                "packages": [
                  "markupsafe"
                ]
              },
              "id": "c9f8cab61d5e4cff862f08799fb19843"
            }
          },
          "metadata": {}
        }
      ]
    },
    {
      "cell_type": "code",
      "source": [
        "import gradio as gr\n",
        "\n",
        "def query_handler(user_query, use_retrieved_resources):\n",
        "    if use_retrieved_resources:\n",
        "        response = chain_with_sources.invoke(user_query)\n",
        "        response_text = response['response']\n",
        "        context_text = \"\\n\".join(response['context']['texts'])\n",
        "        images = response['context']['images']\n",
        "    else:\n",
        "        response_text = chain_multimodal_rag.invoke(user_query)\n",
        "        context_text = \"\"\n",
        "        images = []\n",
        "\n",
        "    return response_text, context_text, images\n",
        "\n",
        "def gradio_interface():\n",
        "    with gr.Blocks() as demo:\n",
        "        gr.Markdown(\"## RAG Query System\")\n",
        "        with gr.Row():\n",
        "            with gr.Column():\n",
        "                user_query = gr.Textbox(label=\"Enter your query\")\n",
        "                use_retrieved_resources = gr.Checkbox(label=\"Use Retrieved Resources\", value=False)\n",
        "                submit = gr.Button(\"Submit\")\n",
        "            with gr.Column():\n",
        "                response_box = gr.Textbox(label=\"Response\", interactive=False)\n",
        "                context_box = gr.Textbox(label=\"Context\", interactive=False)\n",
        "                image_output = gr.Gallery(label=\"Images\")\n",
        "\n",
        "        submit.click(fn=query_handler, inputs=[user_query, use_retrieved_resources], outputs=[response_box, context_box, image_output])\n",
        "    return demo\n",
        "\n",
        "demo = gradio_interface()\n",
        "demo.launch()"
      ],
      "metadata": {
        "colab": {
          "base_uri": "https://localhost:8080/",
          "height": 645
        },
        "id": "JYuJmkCkLDzR",
        "outputId": "b6520c1d-01f4-494b-a774-7ca3d42005b8"
      },
      "execution_count": null,
      "outputs": [
        {
          "output_type": "stream",
          "name": "stdout",
          "text": [
            "Running Gradio in a Colab notebook requires sharing enabled. Automatically setting `share=True` (you can turn this off by setting `share=False` in `launch()` explicitly).\n",
            "\n",
            "Colab notebook detected. To show errors in colab notebook, set debug=True in launch()\n",
            "* Running on public URL: https://f2504b91d72e587c56.gradio.live\n",
            "\n",
            "This share link expires in 72 hours. For free permanent hosting and GPU upgrades, run `gradio deploy` from the terminal in the working directory to deploy to Hugging Face Spaces (https://huggingface.co/spaces)\n"
          ]
        },
        {
          "output_type": "display_data",
          "data": {
            "text/plain": [
              "<IPython.core.display.HTML object>"
            ],
            "text/html": [
              "<div><iframe src=\"https://f2504b91d72e587c56.gradio.live\" width=\"100%\" height=\"500\" allow=\"autoplay; camera; microphone; clipboard-read; clipboard-write;\" frameborder=\"0\" allowfullscreen></iframe></div>"
            ]
          },
          "metadata": {}
        },
        {
          "output_type": "execute_result",
          "data": {
            "text/plain": []
          },
          "metadata": {},
          "execution_count": 86
        }
      ]
    },
    {
      "cell_type": "code",
      "source": [
        "import gradio as gr\n",
        "import base64\n",
        "from io import BytesIO\n",
        "from PIL import Image\n",
        "\n",
        "def display_base64_image(base64_string):\n",
        "    image_data = base64.b64decode(base64_string)\n",
        "    image = Image.open(BytesIO(image_data))\n",
        "\n",
        "    return image\n",
        "\n",
        "def query_handler(user_query, use_retrieved_resources):\n",
        "    if use_retrieved_resources:\n",
        "        response = chain_with_sources.invoke(user_query)\n",
        "        response_text = response['response']\n",
        "        context_text = \"\\n\".join(response['context']['texts'])\n",
        "        images = [display_base64_image(img) for img in response['context']['images']]\n",
        "    else:\n",
        "        response_text = chain_multimodal_rag.invoke(user_query)\n",
        "        context_text = \"\"\n",
        "        images = []\n",
        "\n",
        "    return response_text, context_text, images\n",
        "\n",
        "def gradio_interface():\n",
        "    with gr.Blocks() as demo:\n",
        "        gr.Markdown(\"## Multimodal-RAG Query System\")\n",
        "        with gr.Row():\n",
        "            with gr.Column():\n",
        "                user_query = gr.Textbox(label=\"Enter your query\")\n",
        "                use_retrieved_resources = gr.Checkbox(label=\"show Retrieved Resources\", value=False)\n",
        "                submit = gr.Button(\"Submit\")\n",
        "            with gr.Column():\n",
        "                response_box = gr.Textbox(label=\"Response\", interactive=False)\n",
        "                context_box = gr.Textbox(label=\"Context\", interactive=False)\n",
        "                image_output = gr.Gallery(label=\"Images\")\n",
        "\n",
        "        submit.click(fn=query_handler, inputs=[user_query, use_retrieved_resources], outputs=[response_box, context_box, image_output])\n",
        "    return demo\n",
        "\n",
        "demo = gradio_interface()\n",
        "demo.launch()\n"
      ],
      "metadata": {
        "colab": {
          "base_uri": "https://localhost:8080/",
          "height": 646
        },
        "id": "hunw6bB1mxyQ",
        "outputId": "906c0d37-1642-4bd0-aca8-ed60a66c614d"
      },
      "execution_count": 84,
      "outputs": [
        {
          "output_type": "stream",
          "name": "stdout",
          "text": [
            "Running Gradio in a Colab notebook requires sharing enabled. Automatically setting `share=True` (you can turn this off by setting `share=False` in `launch()` explicitly).\n",
            "\n",
            "Colab notebook detected. To show errors in colab notebook, set debug=True in launch()\n",
            "* Running on public URL: https://64183b56857225ac08.gradio.live\n",
            "\n",
            "This share link expires in 72 hours. For free permanent hosting and GPU upgrades, run `gradio deploy` from the terminal in the working directory to deploy to Hugging Face Spaces (https://huggingface.co/spaces)\n"
          ]
        },
        {
          "output_type": "display_data",
          "data": {
            "text/plain": [
              "<IPython.core.display.HTML object>"
            ],
            "text/html": [
              "<div><iframe src=\"https://64183b56857225ac08.gradio.live\" width=\"100%\" height=\"500\" allow=\"autoplay; camera; microphone; clipboard-read; clipboard-write;\" frameborder=\"0\" allowfullscreen></iframe></div>"
            ]
          },
          "metadata": {}
        },
        {
          "output_type": "execute_result",
          "data": {
            "text/plain": []
          },
          "metadata": {},
          "execution_count": 84
        }
      ]
    }
  ]
}